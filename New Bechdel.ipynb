{
 "cells": [
  {
   "cell_type": "markdown",
   "metadata": {},
   "source": [
    "## The New Bechdel test!\n",
    "Analysis on the new Bechdel test using the Cornell Movie-Dialog Corpus"
   ]
  },
  {
   "cell_type": "code",
   "execution_count": 52,
   "metadata": {},
   "outputs": [],
   "source": [
    "import csv\n",
    "import pandas as pd\n",
    "import re\n",
    "from unidecode import unidecode"
   ]
  },
  {
   "cell_type": "code",
   "execution_count": 53,
   "metadata": {},
   "outputs": [],
   "source": [
    "# Import all the datasets first\n",
    "# Movie Titles Metadata.txt\n",
    "mtm = 'cornell movie-dialogs corpus/movie_titles_metadata.txt'\n",
    "# CSV for transforming the data\n",
    "mtm_csv = 'mtm_csv.csv'"
   ]
  },
  {
   "cell_type": "code",
   "execution_count": 54,
   "metadata": {},
   "outputs": [],
   "source": [
    "# Add header rows\n",
    "with open(mtm_csv, 'wt') as csv_file:\n",
    "    writer = csv.DictWriter(csv_file, fieldnames = [\"Movie_Number\", \"Movie_Name\", \"Year_of_Release\", \n",
    "                                                   \"IMDB_Rating\", \"Number_of_Votes\", \"Genres\"])\n",
    "    writer.writeheader()"
   ]
  },
  {
   "cell_type": "code",
   "execution_count": 55,
   "metadata": {},
   "outputs": [],
   "source": [
    "# Open the .txt file and write it onto the dataframe\n",
    "with open(mtm, 'r') as mtmeta:\n",
    "    for lines in mtmeta:\n",
    "        text = str(lines)\n",
    "        line_list = text.split('+++$+++')\n",
    "        \n",
    "        with open(mtm_csv, 'a') as write_csv:\n",
    "            writer = csv.writer(write_csv)\n",
    "            writer.writerow([line_list[0].strip(), line_list[1].strip(), line_list[2].strip(),\n",
    "                            line_list[3].strip(), line_list[4].strip(), line_list[5].strip()])"
   ]
  },
  {
   "cell_type": "code",
   "execution_count": 56,
   "metadata": {},
   "outputs": [
    {
     "name": "stdout",
     "output_type": "stream",
     "text": [
      "(617, 6)\n"
     ]
    },
    {
     "data": {
      "text/html": [
       "<div>\n",
       "<style>\n",
       "    .dataframe thead tr:only-child th {\n",
       "        text-align: right;\n",
       "    }\n",
       "\n",
       "    .dataframe thead th {\n",
       "        text-align: left;\n",
       "    }\n",
       "\n",
       "    .dataframe tbody tr th {\n",
       "        vertical-align: top;\n",
       "    }\n",
       "</style>\n",
       "<table border=\"1\" class=\"dataframe\">\n",
       "  <thead>\n",
       "    <tr style=\"text-align: right;\">\n",
       "      <th></th>\n",
       "      <th>Movie_Number</th>\n",
       "      <th>Movie_Name</th>\n",
       "      <th>Year_of_Release</th>\n",
       "      <th>IMDB_Rating</th>\n",
       "      <th>Number_of_Votes</th>\n",
       "      <th>Genres</th>\n",
       "    </tr>\n",
       "  </thead>\n",
       "  <tbody>\n",
       "    <tr>\n",
       "      <th>0</th>\n",
       "      <td>m0</td>\n",
       "      <td>10 things i hate about you</td>\n",
       "      <td>1999</td>\n",
       "      <td>6.9</td>\n",
       "      <td>62847</td>\n",
       "      <td>['comedy', 'romance']</td>\n",
       "    </tr>\n",
       "    <tr>\n",
       "      <th>1</th>\n",
       "      <td>m1</td>\n",
       "      <td>1492: conquest of paradise</td>\n",
       "      <td>1992</td>\n",
       "      <td>6.2</td>\n",
       "      <td>10421</td>\n",
       "      <td>['adventure', 'biography', 'drama', 'history']</td>\n",
       "    </tr>\n",
       "    <tr>\n",
       "      <th>2</th>\n",
       "      <td>m2</td>\n",
       "      <td>15 minutes</td>\n",
       "      <td>2001</td>\n",
       "      <td>6.1</td>\n",
       "      <td>25854</td>\n",
       "      <td>['action', 'crime', 'drama', 'thriller']</td>\n",
       "    </tr>\n",
       "    <tr>\n",
       "      <th>3</th>\n",
       "      <td>m3</td>\n",
       "      <td>2001: a space odyssey</td>\n",
       "      <td>1968</td>\n",
       "      <td>8.4</td>\n",
       "      <td>163227</td>\n",
       "      <td>['adventure', 'mystery', 'sci-fi']</td>\n",
       "    </tr>\n",
       "    <tr>\n",
       "      <th>4</th>\n",
       "      <td>m4</td>\n",
       "      <td>48 hrs.</td>\n",
       "      <td>1982</td>\n",
       "      <td>6.9</td>\n",
       "      <td>22289</td>\n",
       "      <td>['action', 'comedy', 'crime', 'drama', 'thrill...</td>\n",
       "    </tr>\n",
       "  </tbody>\n",
       "</table>\n",
       "</div>"
      ],
      "text/plain": [
       "  Movie_Number                  Movie_Name Year_of_Release  IMDB_Rating  \\\n",
       "0           m0  10 things i hate about you            1999          6.9   \n",
       "1           m1  1492: conquest of paradise            1992          6.2   \n",
       "2           m2                  15 minutes            2001          6.1   \n",
       "3           m3       2001: a space odyssey            1968          8.4   \n",
       "4           m4                     48 hrs.            1982          6.9   \n",
       "\n",
       "   Number_of_Votes                                             Genres  \n",
       "0            62847                              ['comedy', 'romance']  \n",
       "1            10421     ['adventure', 'biography', 'drama', 'history']  \n",
       "2            25854           ['action', 'crime', 'drama', 'thriller']  \n",
       "3           163227                 ['adventure', 'mystery', 'sci-fi']  \n",
       "4            22289  ['action', 'comedy', 'crime', 'drama', 'thrill...  "
      ]
     },
     "execution_count": 56,
     "metadata": {},
     "output_type": "execute_result"
    }
   ],
   "source": [
    "# Check the content of the csv file\n",
    "mtm_df = pd.read_csv(mtm_csv, index_col = False)\n",
    "print(mtm_df.shape)\n",
    "mtm_df.head(5)"
   ]
  },
  {
   "cell_type": "code",
   "execution_count": 57,
   "metadata": {},
   "outputs": [
    {
     "name": "stdout",
     "output_type": "stream",
     "text": [
      "Saved to csv..\n"
     ]
    }
   ],
   "source": [
    "mtm_df.to_csv(mtm_csv, sep=',')\n",
    "print(\"Saved to csv..\")"
   ]
  },
  {
   "cell_type": "code",
   "execution_count": 58,
   "metadata": {
    "collapsed": true
   },
   "outputs": [],
   "source": [
    "# Movie Characters Metadata.txt\n",
    "mcm = 'cornell movie-dialogs corpus/movie_characters_metadata.txt'\n",
    "# CSV for transforming the data\n",
    "mcm_csv = 'mcm_csv.csv'"
   ]
  },
  {
   "cell_type": "code",
   "execution_count": 59,
   "metadata": {},
   "outputs": [],
   "source": [
    "# Add header rows\n",
    "with open(mcm_csv, 'wt') as csv_file:\n",
    "    writer = csv.DictWriter(csv_file, fieldnames = [\"Character_Id\", \"Character_Name\", \"Movie_Number\", \n",
    "                                                   \"Movie_Title\", \"Gender\", \"Position_in_Credits\"])\n",
    "    writer.writeheader()"
   ]
  },
  {
   "cell_type": "code",
   "execution_count": 60,
   "metadata": {},
   "outputs": [],
   "source": [
    "# Open the second .txt file and write it onto the next dataframe\n",
    "with open(mcm, 'r') as mcmeta:\n",
    "    for lines in mcmeta:\n",
    "        text = str(lines)\n",
    "        line_list = text.split('+++$+++')\n",
    "\n",
    "        with open(mcm_csv, 'a') as write_csv:\n",
    "            writer = csv.writer(write_csv)\n",
    "            writer.writerow([line_list[0].strip(), line_list[1].strip(), line_list[2].strip(),\n",
    "                            line_list[3].strip(), line_list[4].strip(), line_list[5].strip()])"
   ]
  },
  {
   "cell_type": "code",
   "execution_count": 61,
   "metadata": {},
   "outputs": [
    {
     "name": "stdout",
     "output_type": "stream",
     "text": [
      "(9035, 6)\n"
     ]
    },
    {
     "data": {
      "text/html": [
       "<div>\n",
       "<style>\n",
       "    .dataframe thead tr:only-child th {\n",
       "        text-align: right;\n",
       "    }\n",
       "\n",
       "    .dataframe thead th {\n",
       "        text-align: left;\n",
       "    }\n",
       "\n",
       "    .dataframe tbody tr th {\n",
       "        vertical-align: top;\n",
       "    }\n",
       "</style>\n",
       "<table border=\"1\" class=\"dataframe\">\n",
       "  <thead>\n",
       "    <tr style=\"text-align: right;\">\n",
       "      <th></th>\n",
       "      <th>Character_Id</th>\n",
       "      <th>Character_Name</th>\n",
       "      <th>Movie_Number</th>\n",
       "      <th>Movie_Title</th>\n",
       "      <th>Gender</th>\n",
       "      <th>Position_in_Credits</th>\n",
       "    </tr>\n",
       "  </thead>\n",
       "  <tbody>\n",
       "    <tr>\n",
       "      <th>0</th>\n",
       "      <td>u0</td>\n",
       "      <td>BIANCA</td>\n",
       "      <td>m0</td>\n",
       "      <td>10 things i hate about you</td>\n",
       "      <td>f</td>\n",
       "      <td>4</td>\n",
       "    </tr>\n",
       "    <tr>\n",
       "      <th>1</th>\n",
       "      <td>u1</td>\n",
       "      <td>BRUCE</td>\n",
       "      <td>m0</td>\n",
       "      <td>10 things i hate about you</td>\n",
       "      <td>?</td>\n",
       "      <td>?</td>\n",
       "    </tr>\n",
       "    <tr>\n",
       "      <th>2</th>\n",
       "      <td>u2</td>\n",
       "      <td>CAMERON</td>\n",
       "      <td>m0</td>\n",
       "      <td>10 things i hate about you</td>\n",
       "      <td>m</td>\n",
       "      <td>3</td>\n",
       "    </tr>\n",
       "    <tr>\n",
       "      <th>3</th>\n",
       "      <td>u3</td>\n",
       "      <td>CHASTITY</td>\n",
       "      <td>m0</td>\n",
       "      <td>10 things i hate about you</td>\n",
       "      <td>?</td>\n",
       "      <td>?</td>\n",
       "    </tr>\n",
       "    <tr>\n",
       "      <th>4</th>\n",
       "      <td>u4</td>\n",
       "      <td>JOEY</td>\n",
       "      <td>m0</td>\n",
       "      <td>10 things i hate about you</td>\n",
       "      <td>m</td>\n",
       "      <td>6</td>\n",
       "    </tr>\n",
       "  </tbody>\n",
       "</table>\n",
       "</div>"
      ],
      "text/plain": [
       "  Character_Id Character_Name Movie_Number                 Movie_Title Gender  \\\n",
       "0           u0         BIANCA           m0  10 things i hate about you      f   \n",
       "1           u1          BRUCE           m0  10 things i hate about you      ?   \n",
       "2           u2        CAMERON           m0  10 things i hate about you      m   \n",
       "3           u3       CHASTITY           m0  10 things i hate about you      ?   \n",
       "4           u4           JOEY           m0  10 things i hate about you      m   \n",
       "\n",
       "  Position_in_Credits  \n",
       "0                   4  \n",
       "1                   ?  \n",
       "2                   3  \n",
       "3                   ?  \n",
       "4                   6  "
      ]
     },
     "execution_count": 61,
     "metadata": {},
     "output_type": "execute_result"
    }
   ],
   "source": [
    "mcm_df = pd.read_csv(mcm_csv)\n",
    "print(mcm_df.shape)\n",
    "mcm_df.head(5)"
   ]
  },
  {
   "cell_type": "code",
   "execution_count": 62,
   "metadata": {},
   "outputs": [
    {
     "name": "stdout",
     "output_type": "stream",
     "text": [
      "Saved to csv..\n"
     ]
    }
   ],
   "source": [
    "mcm_df.to_csv(mcm_csv, sep=',')\n",
    "print(\"Saved to csv..\")"
   ]
  },
  {
   "cell_type": "code",
   "execution_count": 63,
   "metadata": {
    "collapsed": true
   },
   "outputs": [],
   "source": [
    "# Movie Characters Metadata.txt\n",
    "ml = 'cornell movie-dialogs corpus/movie_lines.txt'\n",
    "# CSV for transforming the data\n",
    "ml_csv = 'ml_csv.csv'"
   ]
  },
  {
   "cell_type": "code",
   "execution_count": 64,
   "metadata": {
    "collapsed": true
   },
   "outputs": [],
   "source": [
    "# Add header rows\n",
    "with open(ml_csv, 'wt') as csv_file:\n",
    "    writer = csv.DictWriter(csv_file, fieldnames = [\"Line_Id\", \"Character_Id\", \"Movie_Number\", \n",
    "                                                   \"Character_Name\", \"Dialogue\"])\n",
    "    writer.writeheader()"
   ]
  },
  {
   "cell_type": "code",
   "execution_count": 65,
   "metadata": {},
   "outputs": [],
   "source": [
    "# Open the second .txt file and write it onto the next dataframe\n",
    "with open(ml, 'r') as mlines:\n",
    "    for lines in mlines:\n",
    "        text = str(lines)\n",
    "        line_list = text.split('+++$+++')\n",
    "\n",
    "        with open(ml_csv, 'a') as write_csv:\n",
    "            writer = csv.writer(write_csv)\n",
    "            writer.writerow([line_list[0].strip(), line_list[1].strip(), line_list[2].strip(),\n",
    "                            line_list[3].strip(), line_list[4].strip()])"
   ]
  },
  {
   "cell_type": "code",
   "execution_count": 66,
   "metadata": {},
   "outputs": [
    {
     "name": "stdout",
     "output_type": "stream",
     "text": [
      "(304713, 5)\n"
     ]
    },
    {
     "data": {
      "text/html": [
       "<div>\n",
       "<style>\n",
       "    .dataframe thead tr:only-child th {\n",
       "        text-align: right;\n",
       "    }\n",
       "\n",
       "    .dataframe thead th {\n",
       "        text-align: left;\n",
       "    }\n",
       "\n",
       "    .dataframe tbody tr th {\n",
       "        vertical-align: top;\n",
       "    }\n",
       "</style>\n",
       "<table border=\"1\" class=\"dataframe\">\n",
       "  <thead>\n",
       "    <tr style=\"text-align: right;\">\n",
       "      <th></th>\n",
       "      <th>Line_Id</th>\n",
       "      <th>Character_Id</th>\n",
       "      <th>Movie_Number</th>\n",
       "      <th>Character_Name</th>\n",
       "      <th>Dialogue</th>\n",
       "    </tr>\n",
       "  </thead>\n",
       "  <tbody>\n",
       "    <tr>\n",
       "      <th>0</th>\n",
       "      <td>L1045</td>\n",
       "      <td>u0</td>\n",
       "      <td>m0</td>\n",
       "      <td>BIANCA</td>\n",
       "      <td>They do not!</td>\n",
       "    </tr>\n",
       "    <tr>\n",
       "      <th>1</th>\n",
       "      <td>L1044</td>\n",
       "      <td>u2</td>\n",
       "      <td>m0</td>\n",
       "      <td>CAMERON</td>\n",
       "      <td>They do to!</td>\n",
       "    </tr>\n",
       "    <tr>\n",
       "      <th>2</th>\n",
       "      <td>L985</td>\n",
       "      <td>u0</td>\n",
       "      <td>m0</td>\n",
       "      <td>BIANCA</td>\n",
       "      <td>I hope so.</td>\n",
       "    </tr>\n",
       "    <tr>\n",
       "      <th>3</th>\n",
       "      <td>L984</td>\n",
       "      <td>u2</td>\n",
       "      <td>m0</td>\n",
       "      <td>CAMERON</td>\n",
       "      <td>She okay?</td>\n",
       "    </tr>\n",
       "    <tr>\n",
       "      <th>4</th>\n",
       "      <td>L925</td>\n",
       "      <td>u0</td>\n",
       "      <td>m0</td>\n",
       "      <td>BIANCA</td>\n",
       "      <td>Let's go.</td>\n",
       "    </tr>\n",
       "  </tbody>\n",
       "</table>\n",
       "</div>"
      ],
      "text/plain": [
       "  Line_Id Character_Id Movie_Number Character_Name      Dialogue\n",
       "0   L1045           u0           m0         BIANCA  They do not!\n",
       "1   L1044           u2           m0        CAMERON   They do to!\n",
       "2    L985           u0           m0         BIANCA    I hope so.\n",
       "3    L984           u2           m0        CAMERON     She okay?\n",
       "4    L925           u0           m0         BIANCA     Let's go."
      ]
     },
     "execution_count": 66,
     "metadata": {},
     "output_type": "execute_result"
    }
   ],
   "source": [
    "ml_df = pd.read_csv('ml_csv.csv')\n",
    "print(ml_df.shape)\n",
    "ml_df.head(5)"
   ]
  },
  {
   "cell_type": "code",
   "execution_count": 51,
   "metadata": {},
   "outputs": [
    {
     "name": "stdout",
     "output_type": "stream",
     "text": [
      "Saved to csv...\n"
     ]
    }
   ],
   "source": [
    "ml_df.to_csv(ml_csv, sep = ',')\n",
    "print('Saved to csv...')"
   ]
  },
  {
   "cell_type": "code",
   "execution_count": null,
   "metadata": {
    "collapsed": true
   },
   "outputs": [],
   "source": []
  }
 ],
 "metadata": {
  "kernelspec": {
   "display_name": "Python 2",
   "language": "python",
   "name": "python2"
  },
  "language_info": {
   "codemirror_mode": {
    "name": "ipython",
    "version": 2
   },
   "file_extension": ".py",
   "mimetype": "text/x-python",
   "name": "python",
   "nbconvert_exporter": "python",
   "pygments_lexer": "ipython2",
   "version": "2.7.13"
  }
 },
 "nbformat": 4,
 "nbformat_minor": 2
}
