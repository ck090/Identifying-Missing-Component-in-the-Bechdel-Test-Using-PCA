{
 "cells": [
  {
   "cell_type": "markdown",
   "metadata": {},
   "source": [
    "# The New Bechdel test!\n",
    "Analysis on the new Bechdel test using the Cornell Movie-Dialog Corpus"
   ]
  },
  {
   "cell_type": "code",
   "execution_count": 1,
   "metadata": {},
   "outputs": [],
   "source": [
    "import csv\n",
    "import pandas as pd\n",
    "import re\n",
    "import numpy as np\n",
    "import plotly.plotly as py\n",
    "import plotly.graph_objs as go\n",
    "from unidecode import unidecode\n",
    "import pickle\n",
    "from sklearn.feature_extraction import DictVectorizer\n",
    "from sklearn.utils import shuffle\n",
    "from sklearn.tree import DecisionTreeClassifier"
   ]
  },
  {
   "cell_type": "code",
   "execution_count": 2,
   "metadata": {},
   "outputs": [],
   "source": [
    "# Import all the datasets first\n",
    "# Movie Titles Metadata.txt\n",
    "mtm = 'cornell movie-dialogs corpus/movie_titles_metadata.txt'\n",
    "# CSV for transforming the data\n",
    "mtm_csv = 'mtm_csv.csv'"
   ]
  },
  {
   "cell_type": "code",
   "execution_count": 3,
   "metadata": {},
   "outputs": [],
   "source": [
    "# Add header rows\n",
    "with open(mtm_csv, 'wt') as csv_file:\n",
    "    writer = csv.DictWriter(csv_file, fieldnames = [\"Movie_Number\", \"Movie_Name\", \"Year_of_Release\", \n",
    "                                                   \"IMDB_Rating\", \"Number_of_Votes\", \"Genres\"])\n",
    "    writer.writeheader()"
   ]
  },
  {
   "cell_type": "code",
   "execution_count": 4,
   "metadata": {},
   "outputs": [],
   "source": [
    "# Open the .txt file and write it onto the dataframe\n",
    "with open(mtm, 'r', encoding = 'latin-1') as mtmeta:\n",
    "    for lines in mtmeta:\n",
    "        text = str(lines)\n",
    "        line_list = text.split('+++$+++')\n",
    "        \n",
    "        with open(mtm_csv, 'a') as write_csv:\n",
    "            writer = csv.writer(write_csv)\n",
    "            writer.writerow([line_list[0].strip(), line_list[1].strip(), line_list[2].strip(),\n",
    "                            line_list[3].strip(), line_list[4].strip(), line_list[5].strip()])"
   ]
  },
  {
   "cell_type": "code",
   "execution_count": 5,
   "metadata": {},
   "outputs": [
    {
     "name": "stdout",
     "output_type": "stream",
     "text": [
      "(617, 6)\n"
     ]
    },
    {
     "data": {
      "text/html": [
       "<div>\n",
       "<style scoped>\n",
       "    .dataframe tbody tr th:only-of-type {\n",
       "        vertical-align: middle;\n",
       "    }\n",
       "\n",
       "    .dataframe tbody tr th {\n",
       "        vertical-align: top;\n",
       "    }\n",
       "\n",
       "    .dataframe thead th {\n",
       "        text-align: right;\n",
       "    }\n",
       "</style>\n",
       "<table border=\"1\" class=\"dataframe\">\n",
       "  <thead>\n",
       "    <tr style=\"text-align: right;\">\n",
       "      <th></th>\n",
       "      <th>Movie_Number</th>\n",
       "      <th>Movie_Name</th>\n",
       "      <th>Year_of_Release</th>\n",
       "      <th>IMDB_Rating</th>\n",
       "      <th>Number_of_Votes</th>\n",
       "      <th>Genres</th>\n",
       "    </tr>\n",
       "  </thead>\n",
       "  <tbody>\n",
       "    <tr>\n",
       "      <th>0</th>\n",
       "      <td>m0</td>\n",
       "      <td>10 things i hate about you</td>\n",
       "      <td>1999</td>\n",
       "      <td>6.9</td>\n",
       "      <td>62847</td>\n",
       "      <td>['comedy', 'romance']</td>\n",
       "    </tr>\n",
       "    <tr>\n",
       "      <th>1</th>\n",
       "      <td>m1</td>\n",
       "      <td>1492: conquest of paradise</td>\n",
       "      <td>1992</td>\n",
       "      <td>6.2</td>\n",
       "      <td>10421</td>\n",
       "      <td>['adventure', 'biography', 'drama', 'history']</td>\n",
       "    </tr>\n",
       "    <tr>\n",
       "      <th>2</th>\n",
       "      <td>m2</td>\n",
       "      <td>15 minutes</td>\n",
       "      <td>2001</td>\n",
       "      <td>6.1</td>\n",
       "      <td>25854</td>\n",
       "      <td>['action', 'crime', 'drama', 'thriller']</td>\n",
       "    </tr>\n",
       "    <tr>\n",
       "      <th>3</th>\n",
       "      <td>m3</td>\n",
       "      <td>2001: a space odyssey</td>\n",
       "      <td>1968</td>\n",
       "      <td>8.4</td>\n",
       "      <td>163227</td>\n",
       "      <td>['adventure', 'mystery', 'sci-fi']</td>\n",
       "    </tr>\n",
       "    <tr>\n",
       "      <th>4</th>\n",
       "      <td>m4</td>\n",
       "      <td>48 hrs.</td>\n",
       "      <td>1982</td>\n",
       "      <td>6.9</td>\n",
       "      <td>22289</td>\n",
       "      <td>['action', 'comedy', 'crime', 'drama', 'thrill...</td>\n",
       "    </tr>\n",
       "  </tbody>\n",
       "</table>\n",
       "</div>"
      ],
      "text/plain": [
       "  Movie_Number                  Movie_Name Year_of_Release  IMDB_Rating  \\\n",
       "0           m0  10 things i hate about you            1999          6.9   \n",
       "1           m1  1492: conquest of paradise            1992          6.2   \n",
       "2           m2                  15 minutes            2001          6.1   \n",
       "3           m3       2001: a space odyssey            1968          8.4   \n",
       "4           m4                     48 hrs.            1982          6.9   \n",
       "\n",
       "   Number_of_Votes                                             Genres  \n",
       "0            62847                              ['comedy', 'romance']  \n",
       "1            10421     ['adventure', 'biography', 'drama', 'history']  \n",
       "2            25854           ['action', 'crime', 'drama', 'thriller']  \n",
       "3           163227                 ['adventure', 'mystery', 'sci-fi']  \n",
       "4            22289  ['action', 'comedy', 'crime', 'drama', 'thrill...  "
      ]
     },
     "execution_count": 5,
     "metadata": {},
     "output_type": "execute_result"
    }
   ],
   "source": [
    "# Check the content of the csv file\n",
    "mtm_df = pd.read_csv(mtm_csv, index_col = False)\n",
    "print(mtm_df.shape)\n",
    "mtm_df.head(5)"
   ]
  },
  {
   "cell_type": "code",
   "execution_count": 6,
   "metadata": {},
   "outputs": [
    {
     "name": "stdout",
     "output_type": "stream",
     "text": [
      "Saved to csv..\n"
     ]
    }
   ],
   "source": [
    "mtm_df.to_csv(mtm_csv, sep=',', index = False)\n",
    "print(\"Saved to csv..\")"
   ]
  },
  {
   "cell_type": "code",
   "execution_count": 7,
   "metadata": {},
   "outputs": [],
   "source": [
    "# Movie Characters Metadata.txt\n",
    "mcm = 'cornell movie-dialogs corpus/movie_characters_metadata.txt'\n",
    "# CSV for transforming the data\n",
    "mcm_csv = 'mcm_csv.csv'"
   ]
  },
  {
   "cell_type": "code",
   "execution_count": 8,
   "metadata": {},
   "outputs": [],
   "source": [
    "# Add header rows\n",
    "with open(mcm_csv, 'wt') as csv_file:\n",
    "    writer = csv.DictWriter(csv_file, fieldnames = [\"Character_Id\", \"Character_Name\", \"Movie_Number\", \n",
    "                                                   \"Movie_Title\", \"Gender\", \"Position_in_Credits\"])\n",
    "    writer.writeheader()"
   ]
  },
  {
   "cell_type": "code",
   "execution_count": 9,
   "metadata": {},
   "outputs": [],
   "source": [
    "# Open the second .txt file and write it onto the next dataframe\n",
    "with open(mcm, 'r', encoding = 'latin-1') as mcmeta:\n",
    "    for lines in mcmeta:\n",
    "        text = str(lines)\n",
    "        line_list = text.split('+++$+++')\n",
    "\n",
    "        with open(mcm_csv, 'a') as write_csv:\n",
    "            writer = csv.writer(write_csv)\n",
    "            writer.writerow([line_list[0].strip(), line_list[1].strip(), line_list[2].strip(),\n",
    "                            line_list[3].strip(), line_list[4].strip(), line_list[5].strip()])"
   ]
  },
  {
   "cell_type": "code",
   "execution_count": 10,
   "metadata": {},
   "outputs": [
    {
     "name": "stdout",
     "output_type": "stream",
     "text": [
      "(9035, 6)\n"
     ]
    },
    {
     "data": {
      "text/html": [
       "<div>\n",
       "<style scoped>\n",
       "    .dataframe tbody tr th:only-of-type {\n",
       "        vertical-align: middle;\n",
       "    }\n",
       "\n",
       "    .dataframe tbody tr th {\n",
       "        vertical-align: top;\n",
       "    }\n",
       "\n",
       "    .dataframe thead th {\n",
       "        text-align: right;\n",
       "    }\n",
       "</style>\n",
       "<table border=\"1\" class=\"dataframe\">\n",
       "  <thead>\n",
       "    <tr style=\"text-align: right;\">\n",
       "      <th></th>\n",
       "      <th>Character_Id</th>\n",
       "      <th>Character_Name</th>\n",
       "      <th>Movie_Number</th>\n",
       "      <th>Movie_Title</th>\n",
       "      <th>Gender</th>\n",
       "      <th>Position_in_Credits</th>\n",
       "    </tr>\n",
       "  </thead>\n",
       "  <tbody>\n",
       "    <tr>\n",
       "      <th>0</th>\n",
       "      <td>u0</td>\n",
       "      <td>BIANCA</td>\n",
       "      <td>m0</td>\n",
       "      <td>10 things i hate about you</td>\n",
       "      <td>f</td>\n",
       "      <td>4</td>\n",
       "    </tr>\n",
       "    <tr>\n",
       "      <th>1</th>\n",
       "      <td>u1</td>\n",
       "      <td>BRUCE</td>\n",
       "      <td>m0</td>\n",
       "      <td>10 things i hate about you</td>\n",
       "      <td>?</td>\n",
       "      <td>?</td>\n",
       "    </tr>\n",
       "    <tr>\n",
       "      <th>2</th>\n",
       "      <td>u2</td>\n",
       "      <td>CAMERON</td>\n",
       "      <td>m0</td>\n",
       "      <td>10 things i hate about you</td>\n",
       "      <td>m</td>\n",
       "      <td>3</td>\n",
       "    </tr>\n",
       "    <tr>\n",
       "      <th>3</th>\n",
       "      <td>u3</td>\n",
       "      <td>CHASTITY</td>\n",
       "      <td>m0</td>\n",
       "      <td>10 things i hate about you</td>\n",
       "      <td>?</td>\n",
       "      <td>?</td>\n",
       "    </tr>\n",
       "    <tr>\n",
       "      <th>4</th>\n",
       "      <td>u4</td>\n",
       "      <td>JOEY</td>\n",
       "      <td>m0</td>\n",
       "      <td>10 things i hate about you</td>\n",
       "      <td>m</td>\n",
       "      <td>6</td>\n",
       "    </tr>\n",
       "  </tbody>\n",
       "</table>\n",
       "</div>"
      ],
      "text/plain": [
       "  Character_Id Character_Name Movie_Number                 Movie_Title Gender  \\\n",
       "0           u0         BIANCA           m0  10 things i hate about you      f   \n",
       "1           u1          BRUCE           m0  10 things i hate about you      ?   \n",
       "2           u2        CAMERON           m0  10 things i hate about you      m   \n",
       "3           u3       CHASTITY           m0  10 things i hate about you      ?   \n",
       "4           u4           JOEY           m0  10 things i hate about you      m   \n",
       "\n",
       "  Position_in_Credits  \n",
       "0                   4  \n",
       "1                   ?  \n",
       "2                   3  \n",
       "3                   ?  \n",
       "4                   6  "
      ]
     },
     "execution_count": 10,
     "metadata": {},
     "output_type": "execute_result"
    }
   ],
   "source": [
    "mcm_df = pd.read_csv(mcm_csv)\n",
    "print(mcm_df.shape)\n",
    "mcm_df.head(5)"
   ]
  },
  {
   "cell_type": "code",
   "execution_count": 11,
   "metadata": {},
   "outputs": [
    {
     "name": "stdout",
     "output_type": "stream",
     "text": [
      "Saved to csv..\n"
     ]
    }
   ],
   "source": [
    "mcm_df.to_csv(mcm_csv, sep=',', index = False)\n",
    "print(\"Saved to csv..\")"
   ]
  },
  {
   "cell_type": "code",
   "execution_count": 12,
   "metadata": {},
   "outputs": [],
   "source": [
    "# Movie Characters Metadata.txt\n",
    "ml = 'cornell movie-dialogs corpus/movie_lines.txt'\n",
    "# CSV for transforming the data\n",
    "ml_csv = 'ml_csv.csv'"
   ]
  },
  {
   "cell_type": "code",
   "execution_count": 13,
   "metadata": {},
   "outputs": [],
   "source": [
    "# Add header rows\n",
    "with open(ml_csv, 'wt') as csv_file:\n",
    "    writer = csv.DictWriter(csv_file, fieldnames = [\"Line_Id\", \"Character_Id\", \"Movie_Number\", \n",
    "                                                   \"Character_Name\", \"Dialogue\"])\n",
    "    writer.writeheader()"
   ]
  },
  {
   "cell_type": "code",
   "execution_count": 14,
   "metadata": {},
   "outputs": [],
   "source": [
    "# Open the second .txt file and write it onto the next dataframe\n",
    "with open(ml, 'r', encoding = 'latin-1') as mlines:\n",
    "    for lines in mlines:\n",
    "        text = str(lines)\n",
    "        line_list = text.split('+++$+++')\n",
    "\n",
    "        with open(ml_csv, 'a') as write_csv:\n",
    "            writer = csv.writer(write_csv)\n",
    "            writer.writerow([line_list[0].strip(), line_list[1].strip(), line_list[2].strip(),\n",
    "                            line_list[3].strip(), line_list[4].strip()])"
   ]
  },
  {
   "cell_type": "code",
   "execution_count": 15,
   "metadata": {},
   "outputs": [
    {
     "name": "stdout",
     "output_type": "stream",
     "text": [
      "(304713, 5)\n"
     ]
    },
    {
     "data": {
      "text/html": [
       "<div>\n",
       "<style scoped>\n",
       "    .dataframe tbody tr th:only-of-type {\n",
       "        vertical-align: middle;\n",
       "    }\n",
       "\n",
       "    .dataframe tbody tr th {\n",
       "        vertical-align: top;\n",
       "    }\n",
       "\n",
       "    .dataframe thead th {\n",
       "        text-align: right;\n",
       "    }\n",
       "</style>\n",
       "<table border=\"1\" class=\"dataframe\">\n",
       "  <thead>\n",
       "    <tr style=\"text-align: right;\">\n",
       "      <th></th>\n",
       "      <th>Line_Id</th>\n",
       "      <th>Character_Id</th>\n",
       "      <th>Movie_Number</th>\n",
       "      <th>Character_Name</th>\n",
       "      <th>Dialogue</th>\n",
       "    </tr>\n",
       "  </thead>\n",
       "  <tbody>\n",
       "    <tr>\n",
       "      <th>0</th>\n",
       "      <td>L1045</td>\n",
       "      <td>u0</td>\n",
       "      <td>m0</td>\n",
       "      <td>BIANCA</td>\n",
       "      <td>They do not!</td>\n",
       "    </tr>\n",
       "    <tr>\n",
       "      <th>1</th>\n",
       "      <td>L1044</td>\n",
       "      <td>u2</td>\n",
       "      <td>m0</td>\n",
       "      <td>CAMERON</td>\n",
       "      <td>They do to!</td>\n",
       "    </tr>\n",
       "    <tr>\n",
       "      <th>2</th>\n",
       "      <td>L985</td>\n",
       "      <td>u0</td>\n",
       "      <td>m0</td>\n",
       "      <td>BIANCA</td>\n",
       "      <td>I hope so.</td>\n",
       "    </tr>\n",
       "    <tr>\n",
       "      <th>3</th>\n",
       "      <td>L984</td>\n",
       "      <td>u2</td>\n",
       "      <td>m0</td>\n",
       "      <td>CAMERON</td>\n",
       "      <td>She okay?</td>\n",
       "    </tr>\n",
       "    <tr>\n",
       "      <th>4</th>\n",
       "      <td>L925</td>\n",
       "      <td>u0</td>\n",
       "      <td>m0</td>\n",
       "      <td>BIANCA</td>\n",
       "      <td>Let's go.</td>\n",
       "    </tr>\n",
       "  </tbody>\n",
       "</table>\n",
       "</div>"
      ],
      "text/plain": [
       "  Line_Id Character_Id Movie_Number Character_Name      Dialogue\n",
       "0   L1045           u0           m0         BIANCA  They do not!\n",
       "1   L1044           u2           m0        CAMERON   They do to!\n",
       "2    L985           u0           m0         BIANCA    I hope so.\n",
       "3    L984           u2           m0        CAMERON     She okay?\n",
       "4    L925           u0           m0         BIANCA     Let's go."
      ]
     },
     "execution_count": 15,
     "metadata": {},
     "output_type": "execute_result"
    }
   ],
   "source": [
    "ml_df = pd.read_csv('ml_csv.csv')\n",
    "print(ml_df.shape)\n",
    "ml_df.head(5)"
   ]
  },
  {
   "cell_type": "code",
   "execution_count": 16,
   "metadata": {},
   "outputs": [
    {
     "name": "stdout",
     "output_type": "stream",
     "text": [
      "Saved to csv...\n"
     ]
    }
   ],
   "source": [
    "ml_df.to_csv(ml_csv, sep = ',', index = False)\n",
    "print('Saved to csv...')"
   ]
  },
  {
   "cell_type": "code",
   "execution_count": 17,
   "metadata": {},
   "outputs": [],
   "source": [
    "# Movie Conversations.txt\n",
    "mc = 'cornell movie-dialogs corpus/movie_conversations.txt'\n",
    "# CSV for transforming the data\n",
    "mc_csv = 'mc_csv.csv'"
   ]
  },
  {
   "cell_type": "code",
   "execution_count": 18,
   "metadata": {},
   "outputs": [],
   "source": [
    "# Add header rows\n",
    "with open(mc_csv, 'wt') as csv_file:\n",
    "    writer = csv.DictWriter(csv_file, fieldnames = ['Character_Id1', 'Character_Id2', 'Movie_Number',\n",
    "                                                   'List_of_Utterance'])\n",
    "    writer.writeheader()"
   ]
  },
  {
   "cell_type": "code",
   "execution_count": 19,
   "metadata": {},
   "outputs": [],
   "source": [
    "# Open the second .txt file and write it onto the next dataframe\n",
    "with open(mc, 'r', encoding = 'latin-1') as mconversations:\n",
    "    for lines in mconversations:\n",
    "        line = str(lines)\n",
    "        line_list = line.split('+++$+++')\n",
    "        \n",
    "        with open(mc_csv, 'a') as mconv:\n",
    "            writer = csv.writer(mconv)\n",
    "            writer.writerow([line_list[0].strip(), line_list[1].strip(), line_list[2].strip(),\n",
    "                            line_list[3].strip()])"
   ]
  },
  {
   "cell_type": "code",
   "execution_count": 20,
   "metadata": {},
   "outputs": [
    {
     "name": "stdout",
     "output_type": "stream",
     "text": [
      "(83097, 4)\n"
     ]
    },
    {
     "data": {
      "text/html": [
       "<div>\n",
       "<style scoped>\n",
       "    .dataframe tbody tr th:only-of-type {\n",
       "        vertical-align: middle;\n",
       "    }\n",
       "\n",
       "    .dataframe tbody tr th {\n",
       "        vertical-align: top;\n",
       "    }\n",
       "\n",
       "    .dataframe thead th {\n",
       "        text-align: right;\n",
       "    }\n",
       "</style>\n",
       "<table border=\"1\" class=\"dataframe\">\n",
       "  <thead>\n",
       "    <tr style=\"text-align: right;\">\n",
       "      <th></th>\n",
       "      <th>Character_Id1</th>\n",
       "      <th>Character_Id2</th>\n",
       "      <th>Movie_Number</th>\n",
       "      <th>List_of_Utterance</th>\n",
       "    </tr>\n",
       "  </thead>\n",
       "  <tbody>\n",
       "    <tr>\n",
       "      <th>0</th>\n",
       "      <td>u0</td>\n",
       "      <td>u2</td>\n",
       "      <td>m0</td>\n",
       "      <td>['L194', 'L195', 'L196', 'L197']</td>\n",
       "    </tr>\n",
       "    <tr>\n",
       "      <th>1</th>\n",
       "      <td>u0</td>\n",
       "      <td>u2</td>\n",
       "      <td>m0</td>\n",
       "      <td>['L198', 'L199']</td>\n",
       "    </tr>\n",
       "    <tr>\n",
       "      <th>2</th>\n",
       "      <td>u0</td>\n",
       "      <td>u2</td>\n",
       "      <td>m0</td>\n",
       "      <td>['L200', 'L201', 'L202', 'L203']</td>\n",
       "    </tr>\n",
       "    <tr>\n",
       "      <th>3</th>\n",
       "      <td>u0</td>\n",
       "      <td>u2</td>\n",
       "      <td>m0</td>\n",
       "      <td>['L204', 'L205', 'L206']</td>\n",
       "    </tr>\n",
       "    <tr>\n",
       "      <th>4</th>\n",
       "      <td>u0</td>\n",
       "      <td>u2</td>\n",
       "      <td>m0</td>\n",
       "      <td>['L207', 'L208']</td>\n",
       "    </tr>\n",
       "  </tbody>\n",
       "</table>\n",
       "</div>"
      ],
      "text/plain": [
       "  Character_Id1 Character_Id2 Movie_Number                 List_of_Utterance\n",
       "0            u0            u2           m0  ['L194', 'L195', 'L196', 'L197']\n",
       "1            u0            u2           m0                  ['L198', 'L199']\n",
       "2            u0            u2           m0  ['L200', 'L201', 'L202', 'L203']\n",
       "3            u0            u2           m0          ['L204', 'L205', 'L206']\n",
       "4            u0            u2           m0                  ['L207', 'L208']"
      ]
     },
     "execution_count": 20,
     "metadata": {},
     "output_type": "execute_result"
    }
   ],
   "source": [
    "mc_df = pd.read_csv('mc_csv.csv')\n",
    "print(mc_df.shape)\n",
    "mc_df.head(5)"
   ]
  },
  {
   "cell_type": "code",
   "execution_count": 21,
   "metadata": {},
   "outputs": [
    {
     "name": "stdout",
     "output_type": "stream",
     "text": [
      "Saved to csv...\n"
     ]
    }
   ],
   "source": [
    "mc_df.to_csv(mc_csv, sep = ',', index = False)\n",
    "print('Saved to csv...')"
   ]
  },
  {
   "cell_type": "markdown",
   "metadata": {
    "collapsed": true
   },
   "source": [
    "# Onto Data Cleaning\n",
    "There are different aspects to this part and all the data in these csv files must be analysed in order for them to be of a consistent data"
   ]
  },
  {
   "cell_type": "code",
   "execution_count": 22,
   "metadata": {},
   "outputs": [],
   "source": [
    "# Read all the csv files\n",
    "mtm_df = pd.read_csv('mtm_csv.csv')\n",
    "mcm_df = pd.read_csv('mcm_csv.csv')\n",
    "mc_df = pd.read_csv('mc_csv.csv')\n",
    "ml_df = pd.read_csv('ml_csv.csv')"
   ]
  },
  {
   "cell_type": "code",
   "execution_count": 23,
   "metadata": {},
   "outputs": [
    {
     "data": {
      "text/plain": [
       "Movie_Number       0\n",
       "Movie_Name         0\n",
       "Year_of_Release    0\n",
       "IMDB_Rating        0\n",
       "Number_of_Votes    0\n",
       "Genres             0\n",
       "dtype: int64"
      ]
     },
     "execution_count": 23,
     "metadata": {},
     "output_type": "execute_result"
    }
   ],
   "source": [
    "# On the mtm dataset\n",
    "# To check for any NULL values in the data\n",
    "mtm_df.isnull().sum()"
   ]
  },
  {
   "cell_type": "code",
   "execution_count": 24,
   "metadata": {},
   "outputs": [],
   "source": [
    "# Convert the years to consistent format -- elegant way\n",
    "st = \"\"\n",
    "mtm_df['Year_of_Release'] = mtm_df['Year_of_Release'].apply(lambda x: st.join(re.findall(r'[0-9]', x)))"
   ]
  },
  {
   "cell_type": "code",
   "execution_count": 25,
   "metadata": {},
   "outputs": [],
   "source": [
    "# Convert them to Integers\n",
    "mtm_df['Year_of_Release'] = mtm_df['Year_of_Release'].astype(int)\n",
    "mtm_df['IMDB_Rating'] = mtm_df['IMDB_Rating'].astype(int)\n",
    "mtm_df['Number_of_Votes'] = mtm_df['Number_of_Votes'].astype(int)"
   ]
  },
  {
   "cell_type": "code",
   "execution_count": 26,
   "metadata": {},
   "outputs": [
    {
     "data": {
      "text/html": [
       "<div>\n",
       "<style scoped>\n",
       "    .dataframe tbody tr th:only-of-type {\n",
       "        vertical-align: middle;\n",
       "    }\n",
       "\n",
       "    .dataframe tbody tr th {\n",
       "        vertical-align: top;\n",
       "    }\n",
       "\n",
       "    .dataframe thead th {\n",
       "        text-align: right;\n",
       "    }\n",
       "</style>\n",
       "<table border=\"1\" class=\"dataframe\">\n",
       "  <thead>\n",
       "    <tr style=\"text-align: right;\">\n",
       "      <th></th>\n",
       "      <th>Year_of_Release</th>\n",
       "      <th>IMDB_Rating</th>\n",
       "      <th>Number_of_Votes</th>\n",
       "    </tr>\n",
       "  </thead>\n",
       "  <tbody>\n",
       "    <tr>\n",
       "      <th>count</th>\n",
       "      <td>617.000000</td>\n",
       "      <td>617.000000</td>\n",
       "      <td>617.000000</td>\n",
       "    </tr>\n",
       "    <tr>\n",
       "      <th>mean</th>\n",
       "      <td>1988.575365</td>\n",
       "      <td>6.403566</td>\n",
       "      <td>49820.962723</td>\n",
       "    </tr>\n",
       "    <tr>\n",
       "      <th>std</th>\n",
       "      <td>16.589229</td>\n",
       "      <td>1.255192</td>\n",
       "      <td>61880.609145</td>\n",
       "    </tr>\n",
       "    <tr>\n",
       "      <th>min</th>\n",
       "      <td>1927.000000</td>\n",
       "      <td>2.000000</td>\n",
       "      <td>9.000000</td>\n",
       "    </tr>\n",
       "    <tr>\n",
       "      <th>25%</th>\n",
       "      <td>1984.000000</td>\n",
       "      <td>6.000000</td>\n",
       "      <td>9919.000000</td>\n",
       "    </tr>\n",
       "    <tr>\n",
       "      <th>50%</th>\n",
       "      <td>1994.000000</td>\n",
       "      <td>7.000000</td>\n",
       "      <td>27112.000000</td>\n",
       "    </tr>\n",
       "    <tr>\n",
       "      <th>75%</th>\n",
       "      <td>1999.000000</td>\n",
       "      <td>7.000000</td>\n",
       "      <td>66781.000000</td>\n",
       "    </tr>\n",
       "    <tr>\n",
       "      <th>max</th>\n",
       "      <td>2010.000000</td>\n",
       "      <td>9.000000</td>\n",
       "      <td>419312.000000</td>\n",
       "    </tr>\n",
       "  </tbody>\n",
       "</table>\n",
       "</div>"
      ],
      "text/plain": [
       "       Year_of_Release  IMDB_Rating  Number_of_Votes\n",
       "count       617.000000   617.000000       617.000000\n",
       "mean       1988.575365     6.403566     49820.962723\n",
       "std          16.589229     1.255192     61880.609145\n",
       "min        1927.000000     2.000000         9.000000\n",
       "25%        1984.000000     6.000000      9919.000000\n",
       "50%        1994.000000     7.000000     27112.000000\n",
       "75%        1999.000000     7.000000     66781.000000\n",
       "max        2010.000000     9.000000    419312.000000"
      ]
     },
     "execution_count": 26,
     "metadata": {},
     "output_type": "execute_result"
    }
   ],
   "source": [
    "# Now describe the dataset\n",
    "mtm_df.describe()"
   ]
  },
  {
   "cell_type": "code",
   "execution_count": 27,
   "metadata": {},
   "outputs": [
    {
     "name": "stdout",
     "output_type": "stream",
     "text": [
      "<class 'pandas.core.frame.DataFrame'>\n",
      "RangeIndex: 617 entries, 0 to 616\n",
      "Data columns (total 6 columns):\n",
      "Movie_Number       617 non-null object\n",
      "Movie_Name         617 non-null object\n",
      "Year_of_Release    617 non-null int64\n",
      "IMDB_Rating        617 non-null int64\n",
      "Number_of_Votes    617 non-null int64\n",
      "Genres             617 non-null object\n",
      "dtypes: int64(3), object(3)\n",
      "memory usage: 29.0+ KB\n"
     ]
    }
   ],
   "source": [
    "# More information on the dataframe\n",
    "mtm_df.info()"
   ]
  },
  {
   "cell_type": "code",
   "execution_count": 28,
   "metadata": {},
   "outputs": [
    {
     "name": "stdout",
     "output_type": "stream",
     "text": [
      "Saved to csv..\n"
     ]
    }
   ],
   "source": [
    "mtm_df.to_csv(mtm_csv, sep=',', index = False)\n",
    "print(\"Saved to csv..\")\n",
    "# Cleaning done on the mtm dataset"
   ]
  },
  {
   "cell_type": "code",
   "execution_count": 29,
   "metadata": {},
   "outputs": [
    {
     "data": {
      "text/plain": [
       "Character_Id           0\n",
       "Character_Name         2\n",
       "Movie_Number           0\n",
       "Movie_Title            0\n",
       "Gender                 0\n",
       "Position_in_Credits    0\n",
       "dtype: int64"
      ]
     },
     "execution_count": 29,
     "metadata": {},
     "output_type": "execute_result"
    }
   ],
   "source": [
    "# Onto the MCM dataset\n",
    "mcm_df.isnull().sum()"
   ]
  },
  {
   "cell_type": "code",
   "execution_count": 30,
   "metadata": {},
   "outputs": [
    {
     "data": {
      "text/html": [
       "<div>\n",
       "<style scoped>\n",
       "    .dataframe tbody tr th:only-of-type {\n",
       "        vertical-align: middle;\n",
       "    }\n",
       "\n",
       "    .dataframe tbody tr th {\n",
       "        vertical-align: top;\n",
       "    }\n",
       "\n",
       "    .dataframe thead th {\n",
       "        text-align: right;\n",
       "    }\n",
       "</style>\n",
       "<table border=\"1\" class=\"dataframe\">\n",
       "  <thead>\n",
       "    <tr style=\"text-align: right;\">\n",
       "      <th></th>\n",
       "      <th>Character_Id</th>\n",
       "      <th>Character_Name</th>\n",
       "      <th>Movie_Number</th>\n",
       "      <th>Movie_Title</th>\n",
       "      <th>Gender</th>\n",
       "      <th>Position_in_Credits</th>\n",
       "    </tr>\n",
       "  </thead>\n",
       "  <tbody>\n",
       "    <tr>\n",
       "      <th>3764</th>\n",
       "      <td>u3764</td>\n",
       "      <td>NaN</td>\n",
       "      <td>m248</td>\n",
       "      <td>arctic blue</td>\n",
       "      <td>?</td>\n",
       "      <td>?</td>\n",
       "    </tr>\n",
       "    <tr>\n",
       "      <th>6558</th>\n",
       "      <td>u6558</td>\n",
       "      <td>NaN</td>\n",
       "      <td>m436</td>\n",
       "      <td>memento</td>\n",
       "      <td>?</td>\n",
       "      <td>?</td>\n",
       "    </tr>\n",
       "  </tbody>\n",
       "</table>\n",
       "</div>"
      ],
      "text/plain": [
       "     Character_Id Character_Name Movie_Number  Movie_Title Gender  \\\n",
       "3764        u3764            NaN         m248  arctic blue      ?   \n",
       "6558        u6558            NaN         m436      memento      ?   \n",
       "\n",
       "     Position_in_Credits  \n",
       "3764                   ?  \n",
       "6558                   ?  "
      ]
     },
     "execution_count": 30,
     "metadata": {},
     "output_type": "execute_result"
    }
   ],
   "source": [
    "# The rows which has NULL values\n",
    "mcm_df[mcm_df.isnull().any(axis=1)]"
   ]
  },
  {
   "cell_type": "code",
   "execution_count": 31,
   "metadata": {},
   "outputs": [
    {
     "name": "stdout",
     "output_type": "stream",
     "text": [
      "Old size: 9035\n",
      "New size: 9033\n"
     ]
    }
   ],
   "source": [
    "# Drop NULL records\n",
    "print('Old size: %d' % len(mcm_df))\n",
    "mcm_df = mcm_df.dropna(how = 'any', axis = 'rows')\n",
    "print('New size: %d' % len(mcm_df))"
   ]
  },
  {
   "cell_type": "code",
   "execution_count": 32,
   "metadata": {},
   "outputs": [
    {
     "name": "stdout",
     "output_type": "stream",
     "text": [
      "<class 'pandas.core.frame.DataFrame'>\n",
      "Int64Index: 9033 entries, 0 to 9034\n",
      "Data columns (total 6 columns):\n",
      "Character_Id           9033 non-null object\n",
      "Character_Name         9033 non-null object\n",
      "Movie_Number           9033 non-null object\n",
      "Movie_Title            9033 non-null object\n",
      "Gender                 9033 non-null object\n",
      "Position_in_Credits    9033 non-null object\n",
      "dtypes: object(6)\n",
      "memory usage: 494.0+ KB\n"
     ]
    }
   ],
   "source": [
    "mcm_df.info()"
   ]
  },
  {
   "cell_type": "markdown",
   "metadata": {},
   "source": [
    "Since, the data in the 'Gender' column has bad data, inorder to make the data consistent :-\n",
    "# A quick Gender Recognition model\n",
    "Grabbed from [nlpforhackers](https://nlpforhackers.io/introduction-machine-learning/) webpage.\n",
    "1. Firstly convert the dataset into a numpy array to keep only gender and names\n",
    "2. Set the feature parameters which takes in different parameters\n",
    "3. Vectorize the parametes\n",
    "4. Get varied train, test split and test it for validity by checking out the count of the train test split\n",
    "5. Transform lists of feature-value mappings to vectors. (When feature values are strings, this transformer will do a binary one-hot (aka one-of-K) coding: one boolean-valued feature is constructed for each of the possible string values that the feature can take on)\n",
    "6. Train a decision tree classifier on this and save the model as a pickle file"
   ]
  },
  {
   "cell_type": "code",
   "execution_count": 11,
   "metadata": {},
   "outputs": [
    {
     "name": "stderr",
     "output_type": "stream",
     "text": [
      "/Library/Frameworks/Python.framework/Versions/3.7/lib/python3.7/site-packages/ipykernel_launcher.py:7: FutureWarning:\n",
      "\n",
      "Method .as_matrix will be removed in a future version. Use .values instead.\n",
      "\n"
     ]
    },
    {
     "name": "stdout",
     "output_type": "stream",
     "text": [
      "85522 9503 85522 9503\n",
      "  (0, 1)\t1.0\n",
      "  (0, 62)\t1.0\n",
      "  (0, 965)\t1.0\n",
      "  (0, 4588)\t1.0\n",
      "  (0, 4682)\t1.0\n",
      "  (0, 5740)\t1.0\n",
      "  (1, 2)\t1.0\n",
      "  (1, 69)\t1.0\n",
      "  (1, 1037)\t1.0\n",
      "  (1, 4592)\t1.0\n",
      "  (1, 4754)\t1.0\n",
      "  (1, 5608)\t1.0\n",
      "  (2, 0)\t1.0\n",
      "  (2, 39)\t1.0\n",
      "  (2, 693)\t1.0\n",
      "  (2, 4606)\t1.0\n",
      "  (2, 4768)\t1.0\n",
      "  (2, 6847)\t1.0\n",
      "  (3, 21)\t1.0\n",
      "  (3, 402)\t1.0\n",
      "  (3, 4107)\t1.0\n",
      "  (3, 4601)\t1.0\n",
      "  (3, 4876)\t1.0\n",
      "  (3, 7779)\t1.0\n",
      "  (4, 11)\t1.0\n",
      "  :\t:\n",
      "  (85517, 5829)\t1.0\n",
      "  (85518, 2)\t1.0\n",
      "  (85518, 66)\t1.0\n",
      "  (85518, 1004)\t1.0\n",
      "  (85518, 4596)\t1.0\n",
      "  (85518, 4833)\t1.0\n",
      "  (85518, 7037)\t1.0\n",
      "  (85519, 19)\t1.0\n",
      "  (85519, 359)\t1.0\n",
      "  (85519, 3784)\t1.0\n",
      "  (85519, 4588)\t1.0\n",
      "  (85519, 4750)\t1.0\n",
      "  (85519, 6160)\t1.0\n",
      "  (85520, 9)\t1.0\n",
      "  (85520, 186)\t1.0\n",
      "  (85520, 2198)\t1.0\n",
      "  (85520, 4592)\t1.0\n",
      "  (85520, 4848)\t1.0\n",
      "  (85520, 5213)\t1.0\n",
      "  (85521, 10)\t1.0\n",
      "  (85521, 210)\t1.0\n",
      "  (85521, 2386)\t1.0\n",
      "  (85521, 4601)\t1.0\n",
      "  (85521, 5028)\t1.0\n",
      "  (85521, 6953)\t1.0 {'first-letter': 'b', 'first2-letters': 'br', 'first3-letters': 'bre', 'last-letter': 'a', 'last2-letters': 'ea', 'last3-letters': 'eea'}\n",
      "0.9870325764130867\n",
      "0.8675155214142902\n"
     ]
    }
   ],
   "source": [
    "names = pd.read_csv('gender_recognition/names_dataset.csv')\n",
    "# print(names.head(10))\n",
    " \n",
    "# print(\"%d names in dataset\" % len(names))\n",
    "\n",
    "# Get the data out of the dataframe into a numpy matrix and keep only the name and gender columns\n",
    "names = names.as_matrix()[:, 1:]\n",
    "# print(names)\n",
    " \n",
    "# We're using 90% of the data for training\n",
    "TRAIN_SPLIT = 0.90\n",
    "\n",
    "def features(name):\n",
    "    name = name.lower()\n",
    "    return {\n",
    "        'first-letter': name[0], # First letter\n",
    "        'first2-letters': name[0:2], # First 2 letters\n",
    "        'first3-letters': name[0:3], # First 3 letters\n",
    "        'last-letter': name[-1], # Last letter\n",
    "        'last2-letters': name[-2:], # Last 2 letters\n",
    "        'last3-letters': name[-3:], # Last 3 letters\n",
    "    }\n",
    "\n",
    "# Feature Extraction\n",
    "# print(features(\"Alex\"))\n",
    "\n",
    "# Vectorize the features function\n",
    "features = np.vectorize(features)\n",
    "# print(features([\"Anna\", \"Hannah\", \"Paul\"]))\n",
    "# [ array({'first2-letters': 'an', 'last-letter': 'a', 'first-letter': 'a', 'last2-letters': 'na', 'last3-letters': 'nna', 'first3-letters': 'ann'}, dtype=object)\n",
    "#   array({'first2-letters': 'ha', 'last-letter': 'h', 'first-letter': 'h', 'last2-letters': 'ah', 'last3-letters': 'nah', 'first3-letters': 'han'}, dtype=object)\n",
    "#   array({'first2-letters': 'pa', 'last-letter': 'l', 'first-letter': 'p', 'last2-letters': 'ul', 'last3-letters': 'aul', 'first3-letters': 'pau'}, dtype=object)]\n",
    " \n",
    "# Extract the features for the whole dataset\n",
    "X = features(names[:, 0]) # X contains the features\n",
    " \n",
    "# Get the gender column\n",
    "y = names[:, 1]           # y contains the targets\n",
    " \n",
    "# Test if we built the dataset correctly\n",
    "# print(\"\\n\\nName: %s, features=%s, gender=%s\" % (names[0][0], X[0], y[0]))\n",
    "\n",
    "X, y = shuffle(X, y)\n",
    "X_train, X_test = X[:int(TRAIN_SPLIT * len(X))], X[int(TRAIN_SPLIT * len(X)):]\n",
    "y_train, y_test = y[:int(TRAIN_SPLIT * len(y))], y[int(TRAIN_SPLIT * len(y)):]\n",
    "\n",
    "# Check to see if the datasets add up\n",
    "print (len(X_train), len(X_test), len(y_train), len(y_test))\n",
    "# print(X_train)\n",
    "\n",
    "# Transforms lists of feature-value mappings to vectors.\n",
    "vectorizer = DictVectorizer()\n",
    "vectorizer.fit(X_train)\n",
    "transformed = vectorizer.transform(features([\"Mary\", \"John\"]))\n",
    "print (vectorizer.transform(X_train), X_train[0])\n",
    "\n",
    "clf = DecisionTreeClassifier(criterion = 'gini')\n",
    "clf.fit(vectorizer.transform(X_train), y_train)\n",
    "\n",
    "# Accuracy on training set\n",
    "print (clf.score(vectorizer.transform(X_train), y_train) )\n",
    " \n",
    "# Accuracy on test set\n",
    "print (clf.score(vectorizer.transform(X_test), y_test))"
   ]
  },
  {
   "cell_type": "code",
   "execution_count": 34,
   "metadata": {},
   "outputs": [],
   "source": [
    "import pickle\n",
    "sent_model = \"sentiment_analysis_model.pkl\"\n",
    "sent_model_pkl = open(sent_model, \"wb\")\n",
    "\n",
    "# Dump the sentiment analysis model\n",
    "pickle.dump(clf, sent_model_pkl)\n",
    "\n",
    "sent_model_pkl.close()"
   ]
  },
  {
   "cell_type": "code",
   "execution_count": 35,
   "metadata": {},
   "outputs": [
    {
     "name": "stdout",
     "output_type": "stream",
     "text": [
      "['M' 'F' 'M' 'F' 'M' 'M']\n"
     ]
    }
   ],
   "source": [
    "# Therefore, we are getting a decent result from the names\n",
    "print (clf.predict(vectorizer.transform(features([\"SMYSLOV\", \"MARY JANE\", \"MISS PERKY\", \"SHARON\", \"ALONSO\", \"SECONDARY OFFICER\"]))))"
   ]
  },
  {
   "cell_type": "code",
   "execution_count": 36,
   "metadata": {},
   "outputs": [
    {
     "name": "stdout",
     "output_type": "stream",
     "text": [
      "Number of missing genders :  6018\n"
     ]
    },
    {
     "data": {
      "text/html": [
       "<div>\n",
       "<style scoped>\n",
       "    .dataframe tbody tr th:only-of-type {\n",
       "        vertical-align: middle;\n",
       "    }\n",
       "\n",
       "    .dataframe tbody tr th {\n",
       "        vertical-align: top;\n",
       "    }\n",
       "\n",
       "    .dataframe thead th {\n",
       "        text-align: right;\n",
       "    }\n",
       "</style>\n",
       "<table border=\"1\" class=\"dataframe\">\n",
       "  <thead>\n",
       "    <tr style=\"text-align: right;\">\n",
       "      <th></th>\n",
       "      <th>Character_Id</th>\n",
       "      <th>Character_Name</th>\n",
       "      <th>Movie_Number</th>\n",
       "      <th>Movie_Title</th>\n",
       "      <th>Gender</th>\n",
       "      <th>Position_in_Credits</th>\n",
       "    </tr>\n",
       "  </thead>\n",
       "  <tbody>\n",
       "    <tr>\n",
       "      <th>0</th>\n",
       "      <td>u0</td>\n",
       "      <td>BIANCA</td>\n",
       "      <td>m0</td>\n",
       "      <td>10 things i hate about you</td>\n",
       "      <td>f</td>\n",
       "      <td>4</td>\n",
       "    </tr>\n",
       "    <tr>\n",
       "      <th>1</th>\n",
       "      <td>u1</td>\n",
       "      <td>BRUCE</td>\n",
       "      <td>m0</td>\n",
       "      <td>10 things i hate about you</td>\n",
       "      <td>?</td>\n",
       "      <td>?</td>\n",
       "    </tr>\n",
       "    <tr>\n",
       "      <th>2</th>\n",
       "      <td>u2</td>\n",
       "      <td>CAMERON</td>\n",
       "      <td>m0</td>\n",
       "      <td>10 things i hate about you</td>\n",
       "      <td>m</td>\n",
       "      <td>3</td>\n",
       "    </tr>\n",
       "    <tr>\n",
       "      <th>3</th>\n",
       "      <td>u3</td>\n",
       "      <td>CHASTITY</td>\n",
       "      <td>m0</td>\n",
       "      <td>10 things i hate about you</td>\n",
       "      <td>?</td>\n",
       "      <td>?</td>\n",
       "    </tr>\n",
       "    <tr>\n",
       "      <th>4</th>\n",
       "      <td>u4</td>\n",
       "      <td>JOEY</td>\n",
       "      <td>m0</td>\n",
       "      <td>10 things i hate about you</td>\n",
       "      <td>m</td>\n",
       "      <td>6</td>\n",
       "    </tr>\n",
       "    <tr>\n",
       "      <th>5</th>\n",
       "      <td>u5</td>\n",
       "      <td>KAT</td>\n",
       "      <td>m0</td>\n",
       "      <td>10 things i hate about you</td>\n",
       "      <td>f</td>\n",
       "      <td>2</td>\n",
       "    </tr>\n",
       "    <tr>\n",
       "      <th>6</th>\n",
       "      <td>u6</td>\n",
       "      <td>MANDELLA</td>\n",
       "      <td>m0</td>\n",
       "      <td>10 things i hate about you</td>\n",
       "      <td>f</td>\n",
       "      <td>7</td>\n",
       "    </tr>\n",
       "    <tr>\n",
       "      <th>7</th>\n",
       "      <td>u7</td>\n",
       "      <td>MICHAEL</td>\n",
       "      <td>m0</td>\n",
       "      <td>10 things i hate about you</td>\n",
       "      <td>m</td>\n",
       "      <td>5</td>\n",
       "    </tr>\n",
       "  </tbody>\n",
       "</table>\n",
       "</div>"
      ],
      "text/plain": [
       "  Character_Id Character_Name Movie_Number                 Movie_Title Gender  \\\n",
       "0           u0         BIANCA           m0  10 things i hate about you      f   \n",
       "1           u1          BRUCE           m0  10 things i hate about you      ?   \n",
       "2           u2        CAMERON           m0  10 things i hate about you      m   \n",
       "3           u3       CHASTITY           m0  10 things i hate about you      ?   \n",
       "4           u4           JOEY           m0  10 things i hate about you      m   \n",
       "5           u5            KAT           m0  10 things i hate about you      f   \n",
       "6           u6       MANDELLA           m0  10 things i hate about you      f   \n",
       "7           u7        MICHAEL           m0  10 things i hate about you      m   \n",
       "\n",
       "  Position_in_Credits  \n",
       "0                   4  \n",
       "1                   ?  \n",
       "2                   3  \n",
       "3                   ?  \n",
       "4                   6  \n",
       "5                   2  \n",
       "6                   7  \n",
       "7                   5  "
      ]
     },
     "execution_count": 36,
     "metadata": {},
     "output_type": "execute_result"
    }
   ],
   "source": [
    "# Now since the model is built let's update the data in the dataframe\n",
    "print(\"Number of missing genders : \" , mcm_df[mcm_df.Gender == '?'].shape[0])\n",
    "mcm_df.head(8)"
   ]
  },
  {
   "cell_type": "code",
   "execution_count": 37,
   "metadata": {},
   "outputs": [],
   "source": [
    "# Let's convert all the ? with their appropriate genders by using the above trained model\n",
    "for items in mcm_df.itertuples():\n",
    "    if items[5] == '?':\n",
    "        pred_val = clf.predict(vectorizer.transform(features([items[2]])))\n",
    "        prediction = \"\"\n",
    "        prediction = \"\".join(pred_val)\n",
    "        mcm_df.loc[items.Index, 'Gender'] = prediction.lower()"
   ]
  },
  {
   "cell_type": "code",
   "execution_count": 38,
   "metadata": {},
   "outputs": [
    {
     "name": "stdout",
     "output_type": "stream",
     "text": [
      "Number of missing genders :  0\n"
     ]
    },
    {
     "data": {
      "text/html": [
       "<div>\n",
       "<style scoped>\n",
       "    .dataframe tbody tr th:only-of-type {\n",
       "        vertical-align: middle;\n",
       "    }\n",
       "\n",
       "    .dataframe tbody tr th {\n",
       "        vertical-align: top;\n",
       "    }\n",
       "\n",
       "    .dataframe thead th {\n",
       "        text-align: right;\n",
       "    }\n",
       "</style>\n",
       "<table border=\"1\" class=\"dataframe\">\n",
       "  <thead>\n",
       "    <tr style=\"text-align: right;\">\n",
       "      <th></th>\n",
       "      <th>Character_Id</th>\n",
       "      <th>Character_Name</th>\n",
       "      <th>Movie_Number</th>\n",
       "      <th>Movie_Title</th>\n",
       "      <th>Gender</th>\n",
       "      <th>Position_in_Credits</th>\n",
       "    </tr>\n",
       "  </thead>\n",
       "  <tbody>\n",
       "    <tr>\n",
       "      <th>0</th>\n",
       "      <td>u0</td>\n",
       "      <td>BIANCA</td>\n",
       "      <td>m0</td>\n",
       "      <td>10 things i hate about you</td>\n",
       "      <td>f</td>\n",
       "      <td>4</td>\n",
       "    </tr>\n",
       "    <tr>\n",
       "      <th>1</th>\n",
       "      <td>u1</td>\n",
       "      <td>BRUCE</td>\n",
       "      <td>m0</td>\n",
       "      <td>10 things i hate about you</td>\n",
       "      <td>m</td>\n",
       "      <td>?</td>\n",
       "    </tr>\n",
       "    <tr>\n",
       "      <th>2</th>\n",
       "      <td>u2</td>\n",
       "      <td>CAMERON</td>\n",
       "      <td>m0</td>\n",
       "      <td>10 things i hate about you</td>\n",
       "      <td>m</td>\n",
       "      <td>3</td>\n",
       "    </tr>\n",
       "    <tr>\n",
       "      <th>3</th>\n",
       "      <td>u3</td>\n",
       "      <td>CHASTITY</td>\n",
       "      <td>m0</td>\n",
       "      <td>10 things i hate about you</td>\n",
       "      <td>f</td>\n",
       "      <td>?</td>\n",
       "    </tr>\n",
       "    <tr>\n",
       "      <th>4</th>\n",
       "      <td>u4</td>\n",
       "      <td>JOEY</td>\n",
       "      <td>m0</td>\n",
       "      <td>10 things i hate about you</td>\n",
       "      <td>m</td>\n",
       "      <td>6</td>\n",
       "    </tr>\n",
       "    <tr>\n",
       "      <th>5</th>\n",
       "      <td>u5</td>\n",
       "      <td>KAT</td>\n",
       "      <td>m0</td>\n",
       "      <td>10 things i hate about you</td>\n",
       "      <td>f</td>\n",
       "      <td>2</td>\n",
       "    </tr>\n",
       "    <tr>\n",
       "      <th>6</th>\n",
       "      <td>u6</td>\n",
       "      <td>MANDELLA</td>\n",
       "      <td>m0</td>\n",
       "      <td>10 things i hate about you</td>\n",
       "      <td>f</td>\n",
       "      <td>7</td>\n",
       "    </tr>\n",
       "    <tr>\n",
       "      <th>7</th>\n",
       "      <td>u7</td>\n",
       "      <td>MICHAEL</td>\n",
       "      <td>m0</td>\n",
       "      <td>10 things i hate about you</td>\n",
       "      <td>m</td>\n",
       "      <td>5</td>\n",
       "    </tr>\n",
       "  </tbody>\n",
       "</table>\n",
       "</div>"
      ],
      "text/plain": [
       "  Character_Id Character_Name Movie_Number                 Movie_Title Gender  \\\n",
       "0           u0         BIANCA           m0  10 things i hate about you      f   \n",
       "1           u1          BRUCE           m0  10 things i hate about you      m   \n",
       "2           u2        CAMERON           m0  10 things i hate about you      m   \n",
       "3           u3       CHASTITY           m0  10 things i hate about you      f   \n",
       "4           u4           JOEY           m0  10 things i hate about you      m   \n",
       "5           u5            KAT           m0  10 things i hate about you      f   \n",
       "6           u6       MANDELLA           m0  10 things i hate about you      f   \n",
       "7           u7        MICHAEL           m0  10 things i hate about you      m   \n",
       "\n",
       "  Position_in_Credits  \n",
       "0                   4  \n",
       "1                   ?  \n",
       "2                   3  \n",
       "3                   ?  \n",
       "4                   6  \n",
       "5                   2  \n",
       "6                   7  \n",
       "7                   5  "
      ]
     },
     "execution_count": 38,
     "metadata": {},
     "output_type": "execute_result"
    }
   ],
   "source": [
    "# Now check for the updated genders\n",
    "print(\"Number of missing genders : \" , mcm_df[mcm_df.Gender == '?'].shape[0])\n",
    "mcm_df.head(8)"
   ]
  },
  {
   "cell_type": "code",
   "execution_count": 39,
   "metadata": {},
   "outputs": [
    {
     "name": "stdout",
     "output_type": "stream",
     "text": [
      "Saved to csv..\n"
     ]
    }
   ],
   "source": [
    "mcm_df.to_csv(mcm_csv, sep=',', index = False)\n",
    "print(\"Saved to csv..\")\n",
    "# Cleaning done on the mcm dataset"
   ]
  },
  {
   "cell_type": "markdown",
   "metadata": {},
   "source": [
    "# Onto Data Exploration 🙌 🙌 \n",
    "Using plotly to do visualization of all the data so that we get meaningful info out of it"
   ]
  },
  {
   "cell_type": "code",
   "execution_count": 40,
   "metadata": {},
   "outputs": [
    {
     "name": "stderr",
     "output_type": "stream",
     "text": [
      "/Library/Frameworks/Python.framework/Versions/3.7/lib/python3.7/site-packages/IPython/core/display.py:689: UserWarning:\n",
      "\n",
      "Consider using IPython.display.IFrame instead\n",
      "\n"
     ]
    },
    {
     "data": {
      "text/html": [
       "<iframe id=\"igraph\" scrolling=\"no\" style=\"border:none;\" seamless=\"seamless\" src=\"https://plot.ly/~canfindck/19.embed\" height=\"525px\" width=\"100%\"></iframe>"
      ],
      "text/plain": [
       "<plotly.tools.PlotlyDisplay object>"
      ]
     },
     "execution_count": 40,
     "metadata": {},
     "output_type": "execute_result"
    }
   ],
   "source": [
    "# Visualization on the year of realese to get the idea of movie years we are working with\n",
    "data = [go.Histogram(\n",
    "            x=mtm_df['Year_of_Release'],\n",
    "            marker = dict(color = 'rgb(17, 157, 100)'),\n",
    "            hoverlabel = dict(bordercolor = 'rgb(0, 0, 0)')\n",
    "        )]\n",
    "layout = go.Layout(\n",
    "    title='Year of Releases',\n",
    "    xaxis=dict(\n",
    "        title='Years'\n",
    "    ),\n",
    "    yaxis=dict(\n",
    "        title='Counts of Movie Releases'\n",
    "    ),\n",
    "    bargap=0.2\n",
    ")\n",
    "fig = go.Figure(data=data, layout=layout)\n",
    "py.iplot(fig, filename='simple-histogram1')"
   ]
  },
  {
   "cell_type": "code",
   "execution_count": 41,
   "metadata": {},
   "outputs": [
    {
     "data": {
      "text/html": [
       "<iframe id=\"igraph\" scrolling=\"no\" style=\"border:none;\" seamless=\"seamless\" src=\"https://plot.ly/~canfindck/3.embed\" height=\"525px\" width=\"100%\"></iframe>"
      ],
      "text/plain": [
       "<plotly.tools.PlotlyDisplay object>"
      ]
     },
     "execution_count": 41,
     "metadata": {},
     "output_type": "execute_result"
    }
   ],
   "source": [
    "# Scatter plot on the same data\n",
    "trace = go.Scatter(\n",
    "    x = mtm_df['Year_of_Release'],\n",
    "    mode = 'markers',\n",
    ")\n",
    "\n",
    "layout = go.Layout(\n",
    "    title='Year of Releases',\n",
    "    xaxis=dict(\n",
    "        title='Years'\n",
    "    ),\n",
    "    yaxis=dict(\n",
    "        title='Counts of Movie Releases'\n",
    "    ),\n",
    ")\n",
    "data = [trace]\n",
    "fig = go.Figure(data=data, layout=layout)\n",
    "\n",
    "py.iplot(fig, filename='basic-scatter')"
   ]
  },
  {
   "cell_type": "code",
   "execution_count": 42,
   "metadata": {},
   "outputs": [
    {
     "data": {
      "text/html": [
       "<iframe id=\"igraph\" scrolling=\"no\" style=\"border:none;\" seamless=\"seamless\" src=\"https://plot.ly/~canfindck/21.embed\" height=\"525px\" width=\"100%\"></iframe>"
      ],
      "text/plain": [
       "<plotly.tools.PlotlyDisplay object>"
      ]
     },
     "execution_count": 42,
     "metadata": {},
     "output_type": "execute_result"
    }
   ],
   "source": [
    "# Visualization on the number of IMDB Ratings on these movies\n",
    "data = [go.Histogram(\n",
    "            y=mtm_df['IMDB_Rating'],\n",
    "            marker = dict(color = 'rgb(17, 157, 255)'),\n",
    "            hoverlabel = dict(bordercolor = 'rgb(0, 0, 0)')\n",
    "        )]\n",
    "layout = go.Layout(\n",
    "    title='IMDB Ratings',\n",
    "    xaxis=dict(\n",
    "        title='Number of Movies'\n",
    "    ),\n",
    "    yaxis=dict(\n",
    "        title='Rating Scores'\n",
    "    ),\n",
    "    bargap=0.2\n",
    ")\n",
    "fig = go.Figure(data=data, layout=layout)\n",
    "py.iplot(fig, filename='simple-histogram2')"
   ]
  },
  {
   "cell_type": "markdown",
   "metadata": {},
   "source": [
    "## More analysis"
   ]
  },
  {
   "cell_type": "code",
   "execution_count": 43,
   "metadata": {},
   "outputs": [],
   "source": [
    "ba = pd.read_csv(\"ba_mtm_csv.csv\")"
   ]
  },
  {
   "cell_type": "code",
   "execution_count": 44,
   "metadata": {},
   "outputs": [],
   "source": [
    "gen = ba['Genres'].unique()"
   ]
  },
  {
   "cell_type": "code",
   "execution_count": null,
   "metadata": {},
   "outputs": [],
   "source": []
  },
  {
   "cell_type": "code",
   "execution_count": 45,
   "metadata": {},
   "outputs": [
    {
     "data": {
      "text/html": [
       "<iframe id=\"igraph\" scrolling=\"no\" style=\"border:none;\" seamless=\"seamless\" src=\"https://plot.ly/~canfindck/19.embed\" height=\"525px\" width=\"100%\"></iframe>"
      ],
      "text/plain": [
       "<plotly.tools.PlotlyDisplay object>"
      ]
     },
     "execution_count": 45,
     "metadata": {},
     "output_type": "execute_result"
    }
   ],
   "source": [
    "# Visualization on the year of realese to get the idea of movie years we are working with\n",
    "data = [go.Histogram(\n",
    "            x=ba['Genres'].unique(),\n",
    "            marker = dict(color = 'rgb(17, 157, 100)'),\n",
    "            hoverlabel = dict(bordercolor = 'rgb(0, 0, 0)')\n",
    "        )]\n",
    "layout = go.Layout(\n",
    "    title='Year of Releases',\n",
    "    xaxis=dict(\n",
    "        title='Years'\n",
    "    ),\n",
    "    yaxis=dict(\n",
    "        title='Counts of Movie Releases'\n",
    "    ),\n",
    "    bargap=0.2\n",
    ")\n",
    "fig = go.Figure(data=data, layout=layout)\n",
    "py.iplot(fig, filename='simple-histogram1')"
   ]
  },
  {
   "cell_type": "code",
   "execution_count": null,
   "metadata": {},
   "outputs": [],
   "source": []
  }
 ],
 "metadata": {
  "kernelspec": {
   "display_name": "Python 3",
   "language": "python",
   "name": "python3"
  },
  "language_info": {
   "codemirror_mode": {
    "name": "ipython",
    "version": 3
   },
   "file_extension": ".py",
   "mimetype": "text/x-python",
   "name": "python",
   "nbconvert_exporter": "python",
   "pygments_lexer": "ipython3",
   "version": "3.7.1"
  }
 },
 "nbformat": 4,
 "nbformat_minor": 2
}
