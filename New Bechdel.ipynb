{
 "cells": [
  {
   "cell_type": "markdown",
   "metadata": {},
   "source": [
    "## The New Bechdel test!\n",
    "Analysis on the new Bechdel test using the Cornell Movie-Dialog Corpus"
   ]
  },
  {
   "cell_type": "code",
   "execution_count": 1,
   "metadata": {
    "collapsed": true
   },
   "outputs": [],
   "source": [
    "import csv\n",
    "import pandas as pd\n",
    "import re\n",
    "import numpy as np\n",
    "import plotly.plotly as py\n",
    "import plotly.graph_objs as go\n",
    "from unidecode import unidecode"
   ]
  },
  {
   "cell_type": "code",
   "execution_count": 2,
   "metadata": {
    "collapsed": true
   },
   "outputs": [],
   "source": [
    "# Import all the datasets first\n",
    "# Movie Titles Metadata.txt\n",
    "mtm = 'cornell movie-dialogs corpus/movie_titles_metadata.txt'\n",
    "# CSV for transforming the data\n",
    "mtm_csv = 'mtm_csv.csv'"
   ]
  },
  {
   "cell_type": "code",
   "execution_count": 3,
   "metadata": {
    "collapsed": true
   },
   "outputs": [],
   "source": [
    "# Add header rows\n",
    "with open(mtm_csv, 'wt') as csv_file:\n",
    "    writer = csv.DictWriter(csv_file, fieldnames = [\"Movie_Number\", \"Movie_Name\", \"Year_of_Release\", \n",
    "                                                   \"IMDB_Rating\", \"Number_of_Votes\", \"Genres\"])\n",
    "    writer.writeheader()"
   ]
  },
  {
   "cell_type": "code",
   "execution_count": 4,
   "metadata": {
    "collapsed": true
   },
   "outputs": [],
   "source": [
    "# Open the .txt file and write it onto the dataframe\n",
    "with open(mtm, 'r') as mtmeta:\n",
    "    for lines in mtmeta:\n",
    "        text = str(lines)\n",
    "        line_list = text.split('+++$+++')\n",
    "        \n",
    "        with open(mtm_csv, 'a') as write_csv:\n",
    "            writer = csv.writer(write_csv)\n",
    "            writer.writerow([line_list[0].strip(), line_list[1].strip(), line_list[2].strip(),\n",
    "                            line_list[3].strip(), line_list[4].strip(), line_list[5].strip()])"
   ]
  },
  {
   "cell_type": "code",
   "execution_count": 5,
   "metadata": {},
   "outputs": [
    {
     "name": "stdout",
     "output_type": "stream",
     "text": [
      "(617, 6)\n"
     ]
    },
    {
     "data": {
      "text/html": [
       "<div>\n",
       "<style>\n",
       "    .dataframe thead tr:only-child th {\n",
       "        text-align: right;\n",
       "    }\n",
       "\n",
       "    .dataframe thead th {\n",
       "        text-align: left;\n",
       "    }\n",
       "\n",
       "    .dataframe tbody tr th {\n",
       "        vertical-align: top;\n",
       "    }\n",
       "</style>\n",
       "<table border=\"1\" class=\"dataframe\">\n",
       "  <thead>\n",
       "    <tr style=\"text-align: right;\">\n",
       "      <th></th>\n",
       "      <th>Movie_Number</th>\n",
       "      <th>Movie_Name</th>\n",
       "      <th>Year_of_Release</th>\n",
       "      <th>IMDB_Rating</th>\n",
       "      <th>Number_of_Votes</th>\n",
       "      <th>Genres</th>\n",
       "    </tr>\n",
       "  </thead>\n",
       "  <tbody>\n",
       "    <tr>\n",
       "      <th>0</th>\n",
       "      <td>m0</td>\n",
       "      <td>10 things i hate about you</td>\n",
       "      <td>1999</td>\n",
       "      <td>6.9</td>\n",
       "      <td>62847</td>\n",
       "      <td>['comedy', 'romance']</td>\n",
       "    </tr>\n",
       "    <tr>\n",
       "      <th>1</th>\n",
       "      <td>m1</td>\n",
       "      <td>1492: conquest of paradise</td>\n",
       "      <td>1992</td>\n",
       "      <td>6.2</td>\n",
       "      <td>10421</td>\n",
       "      <td>['adventure', 'biography', 'drama', 'history']</td>\n",
       "    </tr>\n",
       "    <tr>\n",
       "      <th>2</th>\n",
       "      <td>m2</td>\n",
       "      <td>15 minutes</td>\n",
       "      <td>2001</td>\n",
       "      <td>6.1</td>\n",
       "      <td>25854</td>\n",
       "      <td>['action', 'crime', 'drama', 'thriller']</td>\n",
       "    </tr>\n",
       "    <tr>\n",
       "      <th>3</th>\n",
       "      <td>m3</td>\n",
       "      <td>2001: a space odyssey</td>\n",
       "      <td>1968</td>\n",
       "      <td>8.4</td>\n",
       "      <td>163227</td>\n",
       "      <td>['adventure', 'mystery', 'sci-fi']</td>\n",
       "    </tr>\n",
       "    <tr>\n",
       "      <th>4</th>\n",
       "      <td>m4</td>\n",
       "      <td>48 hrs.</td>\n",
       "      <td>1982</td>\n",
       "      <td>6.9</td>\n",
       "      <td>22289</td>\n",
       "      <td>['action', 'comedy', 'crime', 'drama', 'thrill...</td>\n",
       "    </tr>\n",
       "  </tbody>\n",
       "</table>\n",
       "</div>"
      ],
      "text/plain": [
       "  Movie_Number                  Movie_Name Year_of_Release  IMDB_Rating  \\\n",
       "0           m0  10 things i hate about you            1999          6.9   \n",
       "1           m1  1492: conquest of paradise            1992          6.2   \n",
       "2           m2                  15 minutes            2001          6.1   \n",
       "3           m3       2001: a space odyssey            1968          8.4   \n",
       "4           m4                     48 hrs.            1982          6.9   \n",
       "\n",
       "   Number_of_Votes                                             Genres  \n",
       "0            62847                              ['comedy', 'romance']  \n",
       "1            10421     ['adventure', 'biography', 'drama', 'history']  \n",
       "2            25854           ['action', 'crime', 'drama', 'thriller']  \n",
       "3           163227                 ['adventure', 'mystery', 'sci-fi']  \n",
       "4            22289  ['action', 'comedy', 'crime', 'drama', 'thrill...  "
      ]
     },
     "execution_count": 5,
     "metadata": {},
     "output_type": "execute_result"
    }
   ],
   "source": [
    "# Check the content of the csv file\n",
    "mtm_df = pd.read_csv(mtm_csv, index_col = False)\n",
    "print(mtm_df.shape)\n",
    "mtm_df.head(5)"
   ]
  },
  {
   "cell_type": "code",
   "execution_count": 6,
   "metadata": {},
   "outputs": [
    {
     "name": "stdout",
     "output_type": "stream",
     "text": [
      "Saved to csv..\n"
     ]
    }
   ],
   "source": [
    "mtm_df.to_csv(mtm_csv, sep=',', index = False)\n",
    "print(\"Saved to csv..\")"
   ]
  },
  {
   "cell_type": "code",
   "execution_count": 7,
   "metadata": {
    "collapsed": true
   },
   "outputs": [],
   "source": [
    "# Movie Characters Metadata.txt\n",
    "mcm = 'cornell movie-dialogs corpus/movie_characters_metadata.txt'\n",
    "# CSV for transforming the data\n",
    "mcm_csv = 'mcm_csv.csv'"
   ]
  },
  {
   "cell_type": "code",
   "execution_count": 8,
   "metadata": {
    "collapsed": true
   },
   "outputs": [],
   "source": [
    "# Add header rows\n",
    "with open(mcm_csv, 'wt') as csv_file:\n",
    "    writer = csv.DictWriter(csv_file, fieldnames = [\"Character_Id\", \"Character_Name\", \"Movie_Number\", \n",
    "                                                   \"Movie_Title\", \"Gender\", \"Position_in_Credits\"])\n",
    "    writer.writeheader()"
   ]
  },
  {
   "cell_type": "code",
   "execution_count": 9,
   "metadata": {
    "collapsed": true
   },
   "outputs": [],
   "source": [
    "# Open the second .txt file and write it onto the next dataframe\n",
    "with open(mcm, 'r') as mcmeta:\n",
    "    for lines in mcmeta:\n",
    "        text = str(lines)\n",
    "        line_list = text.split('+++$+++')\n",
    "\n",
    "        with open(mcm_csv, 'a') as write_csv:\n",
    "            writer = csv.writer(write_csv)\n",
    "            writer.writerow([line_list[0].strip(), line_list[1].strip(), line_list[2].strip(),\n",
    "                            line_list[3].strip(), line_list[4].strip(), line_list[5].strip()])"
   ]
  },
  {
   "cell_type": "code",
   "execution_count": 10,
   "metadata": {},
   "outputs": [
    {
     "name": "stdout",
     "output_type": "stream",
     "text": [
      "(9035, 6)\n"
     ]
    },
    {
     "data": {
      "text/html": [
       "<div>\n",
       "<style>\n",
       "    .dataframe thead tr:only-child th {\n",
       "        text-align: right;\n",
       "    }\n",
       "\n",
       "    .dataframe thead th {\n",
       "        text-align: left;\n",
       "    }\n",
       "\n",
       "    .dataframe tbody tr th {\n",
       "        vertical-align: top;\n",
       "    }\n",
       "</style>\n",
       "<table border=\"1\" class=\"dataframe\">\n",
       "  <thead>\n",
       "    <tr style=\"text-align: right;\">\n",
       "      <th></th>\n",
       "      <th>Character_Id</th>\n",
       "      <th>Character_Name</th>\n",
       "      <th>Movie_Number</th>\n",
       "      <th>Movie_Title</th>\n",
       "      <th>Gender</th>\n",
       "      <th>Position_in_Credits</th>\n",
       "    </tr>\n",
       "  </thead>\n",
       "  <tbody>\n",
       "    <tr>\n",
       "      <th>0</th>\n",
       "      <td>u0</td>\n",
       "      <td>BIANCA</td>\n",
       "      <td>m0</td>\n",
       "      <td>10 things i hate about you</td>\n",
       "      <td>f</td>\n",
       "      <td>4</td>\n",
       "    </tr>\n",
       "    <tr>\n",
       "      <th>1</th>\n",
       "      <td>u1</td>\n",
       "      <td>BRUCE</td>\n",
       "      <td>m0</td>\n",
       "      <td>10 things i hate about you</td>\n",
       "      <td>?</td>\n",
       "      <td>?</td>\n",
       "    </tr>\n",
       "    <tr>\n",
       "      <th>2</th>\n",
       "      <td>u2</td>\n",
       "      <td>CAMERON</td>\n",
       "      <td>m0</td>\n",
       "      <td>10 things i hate about you</td>\n",
       "      <td>m</td>\n",
       "      <td>3</td>\n",
       "    </tr>\n",
       "    <tr>\n",
       "      <th>3</th>\n",
       "      <td>u3</td>\n",
       "      <td>CHASTITY</td>\n",
       "      <td>m0</td>\n",
       "      <td>10 things i hate about you</td>\n",
       "      <td>?</td>\n",
       "      <td>?</td>\n",
       "    </tr>\n",
       "    <tr>\n",
       "      <th>4</th>\n",
       "      <td>u4</td>\n",
       "      <td>JOEY</td>\n",
       "      <td>m0</td>\n",
       "      <td>10 things i hate about you</td>\n",
       "      <td>m</td>\n",
       "      <td>6</td>\n",
       "    </tr>\n",
       "  </tbody>\n",
       "</table>\n",
       "</div>"
      ],
      "text/plain": [
       "  Character_Id Character_Name Movie_Number                 Movie_Title Gender  \\\n",
       "0           u0         BIANCA           m0  10 things i hate about you      f   \n",
       "1           u1          BRUCE           m0  10 things i hate about you      ?   \n",
       "2           u2        CAMERON           m0  10 things i hate about you      m   \n",
       "3           u3       CHASTITY           m0  10 things i hate about you      ?   \n",
       "4           u4           JOEY           m0  10 things i hate about you      m   \n",
       "\n",
       "  Position_in_Credits  \n",
       "0                   4  \n",
       "1                   ?  \n",
       "2                   3  \n",
       "3                   ?  \n",
       "4                   6  "
      ]
     },
     "execution_count": 10,
     "metadata": {},
     "output_type": "execute_result"
    }
   ],
   "source": [
    "mcm_df = pd.read_csv(mcm_csv)\n",
    "print(mcm_df.shape)\n",
    "mcm_df.head(5)"
   ]
  },
  {
   "cell_type": "code",
   "execution_count": 11,
   "metadata": {},
   "outputs": [
    {
     "name": "stdout",
     "output_type": "stream",
     "text": [
      "Saved to csv..\n"
     ]
    }
   ],
   "source": [
    "mcm_df.to_csv(mcm_csv, sep=',', index = False)\n",
    "print(\"Saved to csv..\")"
   ]
  },
  {
   "cell_type": "code",
   "execution_count": 12,
   "metadata": {
    "collapsed": true
   },
   "outputs": [],
   "source": [
    "# Movie Characters Metadata.txt\n",
    "ml = 'cornell movie-dialogs corpus/movie_lines.txt'\n",
    "# CSV for transforming the data\n",
    "ml_csv = 'ml_csv.csv'"
   ]
  },
  {
   "cell_type": "code",
   "execution_count": 13,
   "metadata": {
    "collapsed": true
   },
   "outputs": [],
   "source": [
    "# Add header rows\n",
    "with open(ml_csv, 'wt') as csv_file:\n",
    "    writer = csv.DictWriter(csv_file, fieldnames = [\"Line_Id\", \"Character_Id\", \"Movie_Number\", \n",
    "                                                   \"Character_Name\", \"Dialogue\"])\n",
    "    writer.writeheader()"
   ]
  },
  {
   "cell_type": "code",
   "execution_count": 14,
   "metadata": {
    "collapsed": true
   },
   "outputs": [],
   "source": [
    "# Open the second .txt file and write it onto the next dataframe\n",
    "with open(ml, 'r') as mlines:\n",
    "    for lines in mlines:\n",
    "        text = str(lines)\n",
    "        line_list = text.split('+++$+++')\n",
    "\n",
    "        with open(ml_csv, 'a') as write_csv:\n",
    "            writer = csv.writer(write_csv)\n",
    "            writer.writerow([line_list[0].strip(), line_list[1].strip(), line_list[2].strip(),\n",
    "                            line_list[3].strip(), line_list[4].strip()])"
   ]
  },
  {
   "cell_type": "code",
   "execution_count": 15,
   "metadata": {},
   "outputs": [
    {
     "name": "stdout",
     "output_type": "stream",
     "text": [
      "(304713, 5)\n"
     ]
    },
    {
     "data": {
      "text/html": [
       "<div>\n",
       "<style>\n",
       "    .dataframe thead tr:only-child th {\n",
       "        text-align: right;\n",
       "    }\n",
       "\n",
       "    .dataframe thead th {\n",
       "        text-align: left;\n",
       "    }\n",
       "\n",
       "    .dataframe tbody tr th {\n",
       "        vertical-align: top;\n",
       "    }\n",
       "</style>\n",
       "<table border=\"1\" class=\"dataframe\">\n",
       "  <thead>\n",
       "    <tr style=\"text-align: right;\">\n",
       "      <th></th>\n",
       "      <th>Line_Id</th>\n",
       "      <th>Character_Id</th>\n",
       "      <th>Movie_Number</th>\n",
       "      <th>Character_Name</th>\n",
       "      <th>Dialogue</th>\n",
       "    </tr>\n",
       "  </thead>\n",
       "  <tbody>\n",
       "    <tr>\n",
       "      <th>0</th>\n",
       "      <td>L1045</td>\n",
       "      <td>u0</td>\n",
       "      <td>m0</td>\n",
       "      <td>BIANCA</td>\n",
       "      <td>They do not!</td>\n",
       "    </tr>\n",
       "    <tr>\n",
       "      <th>1</th>\n",
       "      <td>L1044</td>\n",
       "      <td>u2</td>\n",
       "      <td>m0</td>\n",
       "      <td>CAMERON</td>\n",
       "      <td>They do to!</td>\n",
       "    </tr>\n",
       "    <tr>\n",
       "      <th>2</th>\n",
       "      <td>L985</td>\n",
       "      <td>u0</td>\n",
       "      <td>m0</td>\n",
       "      <td>BIANCA</td>\n",
       "      <td>I hope so.</td>\n",
       "    </tr>\n",
       "    <tr>\n",
       "      <th>3</th>\n",
       "      <td>L984</td>\n",
       "      <td>u2</td>\n",
       "      <td>m0</td>\n",
       "      <td>CAMERON</td>\n",
       "      <td>She okay?</td>\n",
       "    </tr>\n",
       "    <tr>\n",
       "      <th>4</th>\n",
       "      <td>L925</td>\n",
       "      <td>u0</td>\n",
       "      <td>m0</td>\n",
       "      <td>BIANCA</td>\n",
       "      <td>Let's go.</td>\n",
       "    </tr>\n",
       "  </tbody>\n",
       "</table>\n",
       "</div>"
      ],
      "text/plain": [
       "  Line_Id Character_Id Movie_Number Character_Name      Dialogue\n",
       "0   L1045           u0           m0         BIANCA  They do not!\n",
       "1   L1044           u2           m0        CAMERON   They do to!\n",
       "2    L985           u0           m0         BIANCA    I hope so.\n",
       "3    L984           u2           m0        CAMERON     She okay?\n",
       "4    L925           u0           m0         BIANCA     Let's go."
      ]
     },
     "execution_count": 15,
     "metadata": {},
     "output_type": "execute_result"
    }
   ],
   "source": [
    "ml_df = pd.read_csv('ml_csv.csv')\n",
    "print(ml_df.shape)\n",
    "ml_df.head(5)"
   ]
  },
  {
   "cell_type": "code",
   "execution_count": 16,
   "metadata": {},
   "outputs": [
    {
     "name": "stdout",
     "output_type": "stream",
     "text": [
      "Saved to csv...\n"
     ]
    }
   ],
   "source": [
    "ml_df.to_csv(ml_csv, sep = ',', index = False)\n",
    "print('Saved to csv...')"
   ]
  },
  {
   "cell_type": "code",
   "execution_count": 17,
   "metadata": {
    "collapsed": true
   },
   "outputs": [],
   "source": [
    "# Movie Conversations.txt\n",
    "mc = 'cornell movie-dialogs corpus/movie_conversations.txt'\n",
    "# CSV for transforming the data\n",
    "mc_csv = 'mc_csv.csv'"
   ]
  },
  {
   "cell_type": "code",
   "execution_count": 18,
   "metadata": {
    "collapsed": true
   },
   "outputs": [],
   "source": [
    "# Add header rows\n",
    "with open(mc_csv, 'wt') as csv_file:\n",
    "    writer = csv.DictWriter(csv_file, fieldnames = ['Character_Id1', 'Character_Id2', 'Movie_Number',\n",
    "                                                   'List_of_Utterance'])\n",
    "    writer.writeheader()"
   ]
  },
  {
   "cell_type": "code",
   "execution_count": 19,
   "metadata": {
    "collapsed": true
   },
   "outputs": [],
   "source": [
    "# Open the second .txt file and write it onto the next dataframe\n",
    "with open(mc, 'r') as mconversations:\n",
    "    for lines in mconversations:\n",
    "        line = str(lines)\n",
    "        line_list = line.split('+++$+++')\n",
    "        \n",
    "        with open(mc_csv, 'a') as mconv:\n",
    "            writer = csv.writer(mconv)\n",
    "            writer.writerow([line_list[0].strip(), line_list[1].strip(), line_list[2].strip(),\n",
    "                            line_list[3].strip()])"
   ]
  },
  {
   "cell_type": "code",
   "execution_count": 20,
   "metadata": {},
   "outputs": [
    {
     "name": "stdout",
     "output_type": "stream",
     "text": [
      "(83097, 4)\n"
     ]
    },
    {
     "data": {
      "text/html": [
       "<div>\n",
       "<style>\n",
       "    .dataframe thead tr:only-child th {\n",
       "        text-align: right;\n",
       "    }\n",
       "\n",
       "    .dataframe thead th {\n",
       "        text-align: left;\n",
       "    }\n",
       "\n",
       "    .dataframe tbody tr th {\n",
       "        vertical-align: top;\n",
       "    }\n",
       "</style>\n",
       "<table border=\"1\" class=\"dataframe\">\n",
       "  <thead>\n",
       "    <tr style=\"text-align: right;\">\n",
       "      <th></th>\n",
       "      <th>Character_Id1</th>\n",
       "      <th>Character_Id2</th>\n",
       "      <th>Movie_Number</th>\n",
       "      <th>List_of_Utterance</th>\n",
       "    </tr>\n",
       "  </thead>\n",
       "  <tbody>\n",
       "    <tr>\n",
       "      <th>0</th>\n",
       "      <td>u0</td>\n",
       "      <td>u2</td>\n",
       "      <td>m0</td>\n",
       "      <td>['L194', 'L195', 'L196', 'L197']</td>\n",
       "    </tr>\n",
       "    <tr>\n",
       "      <th>1</th>\n",
       "      <td>u0</td>\n",
       "      <td>u2</td>\n",
       "      <td>m0</td>\n",
       "      <td>['L198', 'L199']</td>\n",
       "    </tr>\n",
       "    <tr>\n",
       "      <th>2</th>\n",
       "      <td>u0</td>\n",
       "      <td>u2</td>\n",
       "      <td>m0</td>\n",
       "      <td>['L200', 'L201', 'L202', 'L203']</td>\n",
       "    </tr>\n",
       "    <tr>\n",
       "      <th>3</th>\n",
       "      <td>u0</td>\n",
       "      <td>u2</td>\n",
       "      <td>m0</td>\n",
       "      <td>['L204', 'L205', 'L206']</td>\n",
       "    </tr>\n",
       "    <tr>\n",
       "      <th>4</th>\n",
       "      <td>u0</td>\n",
       "      <td>u2</td>\n",
       "      <td>m0</td>\n",
       "      <td>['L207', 'L208']</td>\n",
       "    </tr>\n",
       "  </tbody>\n",
       "</table>\n",
       "</div>"
      ],
      "text/plain": [
       "  Character_Id1 Character_Id2 Movie_Number                 List_of_Utterance\n",
       "0            u0            u2           m0  ['L194', 'L195', 'L196', 'L197']\n",
       "1            u0            u2           m0                  ['L198', 'L199']\n",
       "2            u0            u2           m0  ['L200', 'L201', 'L202', 'L203']\n",
       "3            u0            u2           m0          ['L204', 'L205', 'L206']\n",
       "4            u0            u2           m0                  ['L207', 'L208']"
      ]
     },
     "execution_count": 20,
     "metadata": {},
     "output_type": "execute_result"
    }
   ],
   "source": [
    "mc_df = pd.read_csv('mc_csv.csv')\n",
    "print(mc_df.shape)\n",
    "mc_df.head(5)"
   ]
  },
  {
   "cell_type": "code",
   "execution_count": 21,
   "metadata": {},
   "outputs": [
    {
     "name": "stdout",
     "output_type": "stream",
     "text": [
      "Saved to csv...\n"
     ]
    }
   ],
   "source": [
    "mc_df.to_csv(mc_csv, sep = ',', index = False)\n",
    "print('Saved to csv...')"
   ]
  },
  {
   "cell_type": "markdown",
   "metadata": {
    "collapsed": true
   },
   "source": [
    "## Onto Data Cleaning\n",
    "There are different aspects to this part and all the data in these csv files must be analysed in order for them to be of a consistent data"
   ]
  },
  {
   "cell_type": "code",
   "execution_count": 44,
   "metadata": {
    "collapsed": true
   },
   "outputs": [],
   "source": [
    "# Read all the csv files\n",
    "mtm_df = pd.read_csv('mtm_csv.csv')\n",
    "mcm_df = pd.read_csv('mcm_csv.csv')\n",
    "mc_df = pd.read_csv('mc_csv.csv')\n",
    "ml_df = pd.read_csv('ml_csv.csv')"
   ]
  },
  {
   "cell_type": "code",
   "execution_count": 25,
   "metadata": {},
   "outputs": [
    {
     "data": {
      "text/plain": [
       "Movie_Number       0\n",
       "Movie_Name         0\n",
       "Year_of_Release    0\n",
       "IMDB_Rating        0\n",
       "Number_of_Votes    0\n",
       "Genres             0\n",
       "dtype: int64"
      ]
     },
     "execution_count": 25,
     "metadata": {},
     "output_type": "execute_result"
    }
   ],
   "source": [
    "# On the mtm dataset\n",
    "# To check for any NULL values in the data\n",
    "mtm_df.isnull().sum()"
   ]
  },
  {
   "cell_type": "code",
   "execution_count": 27,
   "metadata": {},
   "outputs": [],
   "source": [
    "# Convert the years to consistent format -- elegant way\n",
    "st = \"\"\n",
    "mtm_df['Year_of_Release'] = mtm_df['Year_of_Release'].apply(lambda x: st.join(re.findall(r'[0-9]', x)))"
   ]
  },
  {
   "cell_type": "code",
   "execution_count": 32,
   "metadata": {},
   "outputs": [],
   "source": [
    "# Convert them to Integers\n",
    "mtm_df['Year_of_Release'] = mtm_df['Year_of_Release'].astype(int)\n",
    "mtm_df['IMDB_Rating'] = mtm_df['IMDB_Rating'].astype(int)\n",
    "mtm_df['Number_of_Votes'] = mtm_df['Number_of_Votes'].astype(int)"
   ]
  },
  {
   "cell_type": "code",
   "execution_count": 33,
   "metadata": {},
   "outputs": [
    {
     "data": {
      "text/html": [
       "<div>\n",
       "<style>\n",
       "    .dataframe thead tr:only-child th {\n",
       "        text-align: right;\n",
       "    }\n",
       "\n",
       "    .dataframe thead th {\n",
       "        text-align: left;\n",
       "    }\n",
       "\n",
       "    .dataframe tbody tr th {\n",
       "        vertical-align: top;\n",
       "    }\n",
       "</style>\n",
       "<table border=\"1\" class=\"dataframe\">\n",
       "  <thead>\n",
       "    <tr style=\"text-align: right;\">\n",
       "      <th></th>\n",
       "      <th>Year_of_Release</th>\n",
       "      <th>IMDB_Rating</th>\n",
       "      <th>Number_of_Votes</th>\n",
       "    </tr>\n",
       "  </thead>\n",
       "  <tbody>\n",
       "    <tr>\n",
       "      <th>count</th>\n",
       "      <td>617.000000</td>\n",
       "      <td>617.000000</td>\n",
       "      <td>617.000000</td>\n",
       "    </tr>\n",
       "    <tr>\n",
       "      <th>mean</th>\n",
       "      <td>1988.575365</td>\n",
       "      <td>6.403566</td>\n",
       "      <td>49820.962723</td>\n",
       "    </tr>\n",
       "    <tr>\n",
       "      <th>std</th>\n",
       "      <td>16.589229</td>\n",
       "      <td>1.255192</td>\n",
       "      <td>61880.609145</td>\n",
       "    </tr>\n",
       "    <tr>\n",
       "      <th>min</th>\n",
       "      <td>1927.000000</td>\n",
       "      <td>2.000000</td>\n",
       "      <td>9.000000</td>\n",
       "    </tr>\n",
       "    <tr>\n",
       "      <th>25%</th>\n",
       "      <td>1984.000000</td>\n",
       "      <td>6.000000</td>\n",
       "      <td>9919.000000</td>\n",
       "    </tr>\n",
       "    <tr>\n",
       "      <th>50%</th>\n",
       "      <td>1994.000000</td>\n",
       "      <td>7.000000</td>\n",
       "      <td>27112.000000</td>\n",
       "    </tr>\n",
       "    <tr>\n",
       "      <th>75%</th>\n",
       "      <td>1999.000000</td>\n",
       "      <td>7.000000</td>\n",
       "      <td>66781.000000</td>\n",
       "    </tr>\n",
       "    <tr>\n",
       "      <th>max</th>\n",
       "      <td>2010.000000</td>\n",
       "      <td>9.000000</td>\n",
       "      <td>419312.000000</td>\n",
       "    </tr>\n",
       "  </tbody>\n",
       "</table>\n",
       "</div>"
      ],
      "text/plain": [
       "       Year_of_Release  IMDB_Rating  Number_of_Votes\n",
       "count       617.000000   617.000000       617.000000\n",
       "mean       1988.575365     6.403566     49820.962723\n",
       "std          16.589229     1.255192     61880.609145\n",
       "min        1927.000000     2.000000         9.000000\n",
       "25%        1984.000000     6.000000      9919.000000\n",
       "50%        1994.000000     7.000000     27112.000000\n",
       "75%        1999.000000     7.000000     66781.000000\n",
       "max        2010.000000     9.000000    419312.000000"
      ]
     },
     "execution_count": 33,
     "metadata": {},
     "output_type": "execute_result"
    }
   ],
   "source": [
    "# Now describe the dataset\n",
    "mtm_df.describe()"
   ]
  },
  {
   "cell_type": "code",
   "execution_count": 35,
   "metadata": {},
   "outputs": [
    {
     "name": "stdout",
     "output_type": "stream",
     "text": [
      "<class 'pandas.core.frame.DataFrame'>\n",
      "RangeIndex: 617 entries, 0 to 616\n",
      "Data columns (total 6 columns):\n",
      "Movie_Number       617 non-null object\n",
      "Movie_Name         617 non-null object\n",
      "Year_of_Release    617 non-null int64\n",
      "IMDB_Rating        617 non-null int64\n",
      "Number_of_Votes    617 non-null int64\n",
      "Genres             617 non-null object\n",
      "dtypes: int64(3), object(3)\n",
      "memory usage: 29.0+ KB\n"
     ]
    }
   ],
   "source": [
    "# More information on the dataframe\n",
    "mtm_df.info()"
   ]
  },
  {
   "cell_type": "code",
   "execution_count": 36,
   "metadata": {},
   "outputs": [
    {
     "name": "stdout",
     "output_type": "stream",
     "text": [
      "Saved to csv..\n"
     ]
    }
   ],
   "source": [
    "mtm_df.to_csv(mtm_csv, sep=',', index = False)\n",
    "print(\"Saved to csv..\")\n",
    "# Cleaning done on the mtm dataset"
   ]
  },
  {
   "cell_type": "code",
   "execution_count": 45,
   "metadata": {},
   "outputs": [
    {
     "data": {
      "text/plain": [
       "Character_Id           0\n",
       "Character_Name         2\n",
       "Movie_Number           0\n",
       "Movie_Title            0\n",
       "Gender                 0\n",
       "Position_in_Credits    0\n",
       "dtype: int64"
      ]
     },
     "execution_count": 45,
     "metadata": {},
     "output_type": "execute_result"
    }
   ],
   "source": [
    "# Onto the MCM dataset\n",
    "mcm_df.isnull().sum()"
   ]
  },
  {
   "cell_type": "code",
   "execution_count": 47,
   "metadata": {},
   "outputs": [
    {
     "data": {
      "text/html": [
       "<div>\n",
       "<style>\n",
       "    .dataframe thead tr:only-child th {\n",
       "        text-align: right;\n",
       "    }\n",
       "\n",
       "    .dataframe thead th {\n",
       "        text-align: left;\n",
       "    }\n",
       "\n",
       "    .dataframe tbody tr th {\n",
       "        vertical-align: top;\n",
       "    }\n",
       "</style>\n",
       "<table border=\"1\" class=\"dataframe\">\n",
       "  <thead>\n",
       "    <tr style=\"text-align: right;\">\n",
       "      <th></th>\n",
       "      <th>Character_Id</th>\n",
       "      <th>Character_Name</th>\n",
       "      <th>Movie_Number</th>\n",
       "      <th>Movie_Title</th>\n",
       "      <th>Gender</th>\n",
       "      <th>Position_in_Credits</th>\n",
       "    </tr>\n",
       "  </thead>\n",
       "  <tbody>\n",
       "    <tr>\n",
       "      <th>3764</th>\n",
       "      <td>u3764</td>\n",
       "      <td>NaN</td>\n",
       "      <td>m248</td>\n",
       "      <td>arctic blue</td>\n",
       "      <td>?</td>\n",
       "      <td>?</td>\n",
       "    </tr>\n",
       "    <tr>\n",
       "      <th>6558</th>\n",
       "      <td>u6558</td>\n",
       "      <td>NaN</td>\n",
       "      <td>m436</td>\n",
       "      <td>memento</td>\n",
       "      <td>?</td>\n",
       "      <td>?</td>\n",
       "    </tr>\n",
       "  </tbody>\n",
       "</table>\n",
       "</div>"
      ],
      "text/plain": [
       "     Character_Id Character_Name Movie_Number  Movie_Title Gender  \\\n",
       "3764        u3764            NaN         m248  arctic blue      ?   \n",
       "6558        u6558            NaN         m436      memento      ?   \n",
       "\n",
       "     Position_in_Credits  \n",
       "3764                   ?  \n",
       "6558                   ?  "
      ]
     },
     "execution_count": 47,
     "metadata": {},
     "output_type": "execute_result"
    }
   ],
   "source": [
    "# The rows which has NULL values\n",
    "mcm_df[mcm_df.isnull().any(axis=1)]"
   ]
  },
  {
   "cell_type": "code",
   "execution_count": 48,
   "metadata": {},
   "outputs": [
    {
     "name": "stdout",
     "output_type": "stream",
     "text": [
      "Old size: 9035\n",
      "New size: 9033\n"
     ]
    }
   ],
   "source": [
    "# Drop NULL records\n",
    "print('Old size: %d' % len(mcm_df))\n",
    "mcm_df = mcm_df.dropna(how = 'any', axis = 'rows')\n",
    "print('New size: %d' % len(mcm_df))"
   ]
  },
  {
   "cell_type": "code",
   "execution_count": 50,
   "metadata": {},
   "outputs": [
    {
     "name": "stdout",
     "output_type": "stream",
     "text": [
      "<class 'pandas.core.frame.DataFrame'>\n",
      "Int64Index: 9033 entries, 0 to 9034\n",
      "Data columns (total 6 columns):\n",
      "Character_Id           9033 non-null object\n",
      "Character_Name         9033 non-null object\n",
      "Movie_Number           9033 non-null object\n",
      "Movie_Title            9033 non-null object\n",
      "Gender                 9033 non-null object\n",
      "Position_in_Credits    9033 non-null object\n",
      "dtypes: object(6)\n",
      "memory usage: 494.0+ KB\n"
     ]
    }
   ],
   "source": [
    "mcm_df.info()"
   ]
  },
  {
   "cell_type": "code",
   "execution_count": 51,
   "metadata": {
    "collapsed": true
   },
   "outputs": [],
   "source": [
    "# But there are lots of ? in the data for unknown values"
   ]
  },
  {
   "cell_type": "markdown",
   "metadata": {},
   "source": [
    "## Onto Data Exploration 🙌 🙌 \n",
    "Using plotly to do visualization of all the data so that we get meaningful info out of it"
   ]
  },
  {
   "cell_type": "code",
   "execution_count": 52,
   "metadata": {},
   "outputs": [
    {
     "data": {
      "text/html": [
       "<iframe id=\"igraph\" scrolling=\"no\" style=\"border:none;\" seamless=\"seamless\" src=\"https://plot.ly/~canfindck/1.embed\" height=\"525px\" width=\"100%\"></iframe>"
      ],
      "text/plain": [
       "<plotly.tools.PlotlyDisplay object>"
      ]
     },
     "execution_count": 52,
     "metadata": {},
     "output_type": "execute_result"
    }
   ],
   "source": [
    "# Visualization on the year of realese to get the idea of movie years we are working with\n",
    "data = [go.Histogram(\n",
    "            x=mtm_df['Year_of_Release'],\n",
    "            marker = dict(color = 'rgb(17, 157, 100)'),\n",
    "            hoverlabel = dict(bordercolor = 'rgb(0, 0, 0)')\n",
    "        )]\n",
    "layout = go.Layout(\n",
    "    title='Year of Releases',\n",
    "    xaxis=dict(\n",
    "        title='Years'\n",
    "    ),\n",
    "    yaxis=dict(\n",
    "        title='Counts of Movie Releases'\n",
    "    ),\n",
    "    bargap=0.2\n",
    ")\n",
    "fig = go.Figure(data=data, layout=layout)\n",
    "py.iplot(fig, filename='simple-histogram')"
   ]
  },
  {
   "cell_type": "code",
   "execution_count": 53,
   "metadata": {},
   "outputs": [
    {
     "data": {
      "text/html": [
       "<iframe id=\"igraph\" scrolling=\"no\" style=\"border:none;\" seamless=\"seamless\" src=\"https://plot.ly/~canfindck/1.embed\" height=\"525px\" width=\"100%\"></iframe>"
      ],
      "text/plain": [
       "<plotly.tools.PlotlyDisplay object>"
      ]
     },
     "execution_count": 53,
     "metadata": {},
     "output_type": "execute_result"
    }
   ],
   "source": [
    "# Visualization on the number of IMDB Ratings on these movies\n",
    "data = [go.Histogram(\n",
    "            y=mtm_df['IMDB_Rating'],\n",
    "            marker = dict(color = 'rgb(17, 157, 255)'),\n",
    "            hoverlabel = dict(bordercolor = 'rgb(0, 0, 0)')\n",
    "        )]\n",
    "layout = go.Layout(\n",
    "    title='IMDB Ratings',\n",
    "    xaxis=dict(\n",
    "        title='Number of Movies'\n",
    "    ),\n",
    "    yaxis=dict(\n",
    "        title='Rating Scores'\n",
    "    ),\n",
    "    bargap=0.2\n",
    ")\n",
    "fig = go.Figure(data=data, layout=layout)\n",
    "py.iplot(fig, filename='simple-histogram')"
   ]
  },
  {
   "cell_type": "code",
   "execution_count": null,
   "metadata": {
    "collapsed": true
   },
   "outputs": [],
   "source": []
  }
 ],
 "metadata": {
  "kernelspec": {
   "display_name": "Python 2",
   "language": "python",
   "name": "python2"
  },
  "language_info": {
   "codemirror_mode": {
    "name": "ipython",
    "version": 2
   },
   "file_extension": ".py",
   "mimetype": "text/x-python",
   "name": "python",
   "nbconvert_exporter": "python",
   "pygments_lexer": "ipython2",
   "version": "2.7.13"
  }
 },
 "nbformat": 4,
 "nbformat_minor": 2
}
