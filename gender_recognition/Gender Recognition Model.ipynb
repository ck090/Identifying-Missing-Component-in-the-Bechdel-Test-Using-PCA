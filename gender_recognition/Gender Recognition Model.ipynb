{
 "cells": [
  {
   "cell_type": "markdown",
   "metadata": {},
   "source": [
    "## A quick Gender Recognition model\n",
    "Grabbed from [nlpforhackers](https://nlpforhackers.io/introduction-machine-learning/) webpage.\n",
    "1. Firstly convert the dataset into a numpy array to keep only gender and names\n",
    "2. Set the feature parameters which takes in different parameters\n",
    "3. Vectorize the parametes\n",
    "4. Get varied train, test split and test it for validity by checking out the count of the train test split\n",
    "5. Transform lists of feature-value mappings to vectors. (When feature values are strings, this transformer will do a binary one-hot (aka one-of-K) coding: one boolean-valued feature is constructed for each of the possible string values that the feature can take on)\n",
    "6. Train a decision tree classifier on this and save the model as a pickle file"
   ]
  },
  {
   "cell_type": "code",
   "execution_count": 1,
   "metadata": {
    "collapsed": true
   },
   "outputs": [],
   "source": [
    "import pandas as pd\n",
    "import numpy as np\n",
    "from sklearn.utils import shuffle\n",
    "from sklearn.feature_extraction import DictVectorizer\n",
    "from sklearn.tree import DecisionTreeClassifier"
   ]
  },
  {
   "cell_type": "code",
   "execution_count": 2,
   "metadata": {},
   "outputs": [
    {
     "name": "stdout",
     "output_type": "stream",
     "text": [
      "   index       name sex\n",
      "0      0       Mary   F\n",
      "1      1       Anna   F\n",
      "2      2       Emma   F\n",
      "3      3  Elizabeth   F\n",
      "4      4     Minnie   F\n",
      "5      5   Margaret   F\n",
      "6      6        Ida   F\n",
      "7      7      Alice   F\n",
      "8      8     Bertha   F\n",
      "9      9      Sarah   F\n",
      "95025 names in dataset\n"
     ]
    }
   ],
   "source": [
    "names = pd.read_csv('names_dataset.csv')\n",
    "print(names.head(10))\n",
    " \n",
    "print(\"%d names in dataset\" % len(names))"
   ]
  },
  {
   "cell_type": "code",
   "execution_count": 3,
   "metadata": {},
   "outputs": [
    {
     "name": "stdout",
     "output_type": "stream",
     "text": [
      "[['Mary' 'F']\n",
      " ['Anna' 'F']\n",
      " ['Emma' 'F']\n",
      " ...\n",
      " ['Ziyu' 'M']\n",
      " ['Zykir' 'M']\n",
      " ['Zyus' 'M']]\n"
     ]
    }
   ],
   "source": [
    "# Get the data out of the dataframe into a numpy matrix and keep only the name and gender columns\n",
    "names = names.as_matrix()[:, 1:]\n",
    "print(names)\n",
    " \n",
    "# We're using 90% of the data for training\n",
    "TRAIN_SPLIT = 0.90"
   ]
  },
  {
   "cell_type": "code",
   "execution_count": 4,
   "metadata": {},
   "outputs": [
    {
     "name": "stdout",
     "output_type": "stream",
     "text": [
      "{'first2-letters': 'al', 'last-letter': 'x', 'first-letter': 'a', 'last2-letters': 'ex', 'last3-letters': 'lex', 'first3-letters': 'ale'}\n"
     ]
    }
   ],
   "source": [
    "def features(name):\n",
    "    name = name.lower()\n",
    "    return {\n",
    "        'first-letter': name[0], # First letter\n",
    "        'first2-letters': name[0:2], # First 2 letters\n",
    "        'first3-letters': name[0:3], # First 3 letters\n",
    "        'last-letter': name[-1], # Last letter\n",
    "        'last2-letters': name[-2:], # Last 2 letters\n",
    "        'last3-letters': name[-3:], # Last 3 letters\n",
    "    }\n",
    "\n",
    "# Feature Extraction\n",
    "print(features(\"Alex\"))"
   ]
  },
  {
   "cell_type": "code",
   "execution_count": 5,
   "metadata": {},
   "outputs": [
    {
     "name": "stdout",
     "output_type": "stream",
     "text": [
      "[{'first2-letters': 'an', 'last-letter': 'a', 'first-letter': 'a', 'last2-letters': 'na', 'last3-letters': 'nna', 'first3-letters': 'ann'}\n",
      " {'first2-letters': 'ha', 'last-letter': 'h', 'first-letter': 'h', 'last2-letters': 'ah', 'last3-letters': 'nah', 'first3-letters': 'han'}\n",
      " {'first2-letters': 'pa', 'last-letter': 'l', 'first-letter': 'p', 'last2-letters': 'ul', 'last3-letters': 'aul', 'first3-letters': 'pau'}]\n",
      "\n",
      "\n",
      "Name: Mary, features={'first2-letters': 'ma', 'last-letter': 'y', 'first-letter': 'm', 'last2-letters': 'ry', 'last3-letters': 'ary', 'first3-letters': 'mar'}, gender=F\n"
     ]
    }
   ],
   "source": [
    "# Vectorize the features function\n",
    "features = np.vectorize(features)\n",
    "print(features([\"Anna\", \"Hannah\", \"Paul\"]))\n",
    "# [ array({'first2-letters': 'an', 'last-letter': 'a', 'first-letter': 'a', 'last2-letters': 'na', 'last3-letters': 'nna', 'first3-letters': 'ann'}, dtype=object)\n",
    "#   array({'first2-letters': 'ha', 'last-letter': 'h', 'first-letter': 'h', 'last2-letters': 'ah', 'last3-letters': 'nah', 'first3-letters': 'han'}, dtype=object)\n",
    "#   array({'first2-letters': 'pa', 'last-letter': 'l', 'first-letter': 'p', 'last2-letters': 'ul', 'last3-letters': 'aul', 'first3-letters': 'pau'}, dtype=object)]\n",
    " \n",
    "# Extract the features for the whole dataset\n",
    "X = features(names[:, 0]) # X contains the features\n",
    " \n",
    "# Get the gender column\n",
    "y = names[:, 1]           # y contains the targets\n",
    " \n",
    "# Test if we built the dataset correctly\n",
    "print(\"\\n\\nName: %s, features=%s, gender=%s\" % (names[0][0], X[0], y[0]))"
   ]
  },
  {
   "cell_type": "code",
   "execution_count": 6,
   "metadata": {},
   "outputs": [
    {
     "name": "stdout",
     "output_type": "stream",
     "text": [
      "85522 9503 85522 9503\n"
     ]
    }
   ],
   "source": [
    "X, y = shuffle(X, y)\n",
    "X_train, X_test = X[:int(TRAIN_SPLIT * len(X))], X[int(TRAIN_SPLIT * len(X)):]\n",
    "y_train, y_test = y[:int(TRAIN_SPLIT * len(y))], y[int(TRAIN_SPLIT * len(y)):]\n",
    "\n",
    "# Check to see if the datasets add up\n",
    "print len(X_train), len(X_test), len(y_train), len(y_test)"
   ]
  },
  {
   "cell_type": "code",
   "execution_count": 7,
   "metadata": {},
   "outputs": [
    {
     "name": "stdout",
     "output_type": "stream",
     "text": [
      "  (0, 12)\t1.0\n",
      "  (0, 244)\t1.0\n",
      "  (0, 2766)\t1.0\n",
      "  (0, 4636)\t1.0\n",
      "  (0, 4955)\t1.0\n",
      "  (0, 5290)\t1.0\n",
      "  (1, 9)\t1.0\n",
      "  (1, 198)\t1.0\n",
      "  (1, 2300)\t1.0\n",
      "  (1, 4625)\t1.0\n",
      "  (1, 4762)\t1.0\n",
      "  (1, 7416)\t1.0\n",
      "<class 'scipy.sparse.csr.csr_matrix'>\n",
      "1.0\n",
      "first-letter=m\n"
     ]
    }
   ],
   "source": [
    "# Transforms lists of feature-value mappings to vectors.\n",
    "vectorizer = DictVectorizer()\n",
    "vectorizer.fit(X_train)\n",
    "transformed = vectorizer.transform(features([\"Mary\", \"John\"]))\n",
    "print transformed\n",
    "\n",
    "print type(transformed) # <class 'scipy.sparse.csr.csr_matrix'>\n",
    "print transformed.toarray()[0][12]    # 1.0\n",
    "print vectorizer.feature_names_[12]   # first-letter=m"
   ]
  },
  {
   "cell_type": "code",
   "execution_count": 8,
   "metadata": {},
   "outputs": [
    {
     "name": "stdout",
     "output_type": "stream",
     "text": [
      "0.9865180889127944\n",
      "0.8706724192360308\n"
     ]
    }
   ],
   "source": [
    "clf = DecisionTreeClassifier(criterion = 'gini')\n",
    "clf.fit(vectorizer.transform(X_train), y_train)\n",
    "\n",
    "# Accuracy on training set\n",
    "print clf.score(vectorizer.transform(X_train), y_train) \n",
    " \n",
    "# Accuracy on test set\n",
    "print clf.score(vectorizer.transform(X_test), y_test)"
   ]
  },
  {
   "cell_type": "code",
   "execution_count": 11,
   "metadata": {},
   "outputs": [
    {
     "name": "stdout",
     "output_type": "stream",
     "text": [
      "['M' 'F' 'F' 'F' 'M' 'M']\n"
     ]
    }
   ],
   "source": [
    "# Therefore, we are getting a decent result from the names\n",
    "print clf.predict(vectorizer.transform(features([\"SMYSLOV\", \"CHASTITY\", \"MISS PERKY\", \"SHARON\", \"ALONSO\", \"SECONDARY OFFICER\"])))"
   ]
  },
  {
   "cell_type": "code",
   "execution_count": 12,
   "metadata": {
    "collapsed": true
   },
   "outputs": [],
   "source": [
    "# Save the model using pickle\n",
    "import pickle"
   ]
  },
  {
   "cell_type": "code",
   "execution_count": 13,
   "metadata": {
    "collapsed": true
   },
   "outputs": [],
   "source": [
    "pickle_out = open(\"gender_recog.pickle\", \"wb\")\n",
    "pickle.dump(clf, pickle_out)\n",
    "pickle_out.close()"
   ]
  }
 ],
 "metadata": {
  "kernelspec": {
   "display_name": "Python 2",
   "language": "python",
   "name": "python2"
  },
  "language_info": {
   "codemirror_mode": {
    "name": "ipython",
    "version": 2
   },
   "file_extension": ".py",
   "mimetype": "text/x-python",
   "name": "python",
   "nbconvert_exporter": "python",
   "pygments_lexer": "ipython2",
   "version": "2.7.13"
  }
 },
 "nbformat": 4,
 "nbformat_minor": 2
}
