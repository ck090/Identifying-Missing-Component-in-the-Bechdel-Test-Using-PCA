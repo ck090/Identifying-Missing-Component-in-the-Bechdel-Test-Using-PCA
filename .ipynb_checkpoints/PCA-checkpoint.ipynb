{
 "cells": [
  {
   "cell_type": "markdown",
   "metadata": {
    "heading_collapsed": true
   },
   "source": [
    "## PCA and other test on the computed Dataframe"
   ]
  },
  {
   "cell_type": "code",
   "execution_count": 1,
   "metadata": {
    "hidden": true
   },
   "outputs": [],
   "source": [
    "import pandas as pd\n",
    "import operator\n",
    "import numpy as np\n",
    "%matplotlib inline\n",
    "import matplotlib.pyplot as plt\n",
    "from mpl_toolkits.mplot3d import Axes3D\n",
    "import seaborn as sns; sns.set()\n",
    "from sklearn.decomposition import PCA\n",
    "from sklearn.cluster import KMeans\n",
    "from sklearn.preprocessing import StandardScaler\n",
    "import warnings\n",
    "warnings.filterwarnings(\"ignore\")"
   ]
  },
  {
   "cell_type": "code",
   "execution_count": 2,
   "metadata": {
    "hidden": true
   },
   "outputs": [],
   "source": [
    "df = pd.read_csv(\"Good_Book.csv\")"
   ]
  },
  {
   "cell_type": "code",
   "execution_count": 3,
   "metadata": {
    "hidden": true
   },
   "outputs": [],
   "source": [
    "new_df = df.drop([\"Year\", \"New ROI\", \"Movie_Title\", \"IMDB_Rating\", \"Female_Male_Dialogues_Ratio\"],\n",
    "                axis = 1)"
   ]
  },
  {
   "cell_type": "code",
   "execution_count": 4,
   "metadata": {
    "hidden": true
   },
   "outputs": [
    {
     "name": "stdout",
     "output_type": "stream",
     "text": [
      "<class 'pandas.core.frame.DataFrame'>\n",
      "RangeIndex: 324 entries, 0 to 323\n",
      "Data columns (total 20 columns):\n",
      "Genre1_Tag_Female         324 non-null float64\n",
      "Genre1_Tag_Male           324 non-null float64\n",
      "Genre2_Tag_Female         324 non-null float64\n",
      "Genre2_Tag_Male           324 non-null float64\n",
      "Genre3_Tag_Female         324 non-null float64\n",
      "Genre3_Tag_Male           324 non-null float64\n",
      "#_of_Female_Cast          324 non-null int64\n",
      "#_of_Male_Cast            324 non-null int64\n",
      "#_of_Female_Dialogue      324 non-null int64\n",
      "#_of_Male_Dialogue        324 non-null int64\n",
      "#_of_Female_Crew          324 non-null int64\n",
      "#_of_Male_Crew            324 non-null int64\n",
      "Sentiment_Female          324 non-null float64\n",
      "Sentiment_Male            324 non-null float64\n",
      "noun_count_male           324 non-null float64\n",
      "noun_count_female         324 non-null float64\n",
      "verb_count_male           324 non-null float64\n",
      "verb_count_female         324 non-null float64\n",
      "adjective_count_male      324 non-null float64\n",
      "adjective_count_female    324 non-null float64\n",
      "dtypes: float64(14), int64(6)\n",
      "memory usage: 50.7 KB\n"
     ]
    }
   ],
   "source": [
    "new_df.info()"
   ]
  },
  {
   "cell_type": "markdown",
   "metadata": {
    "hidden": true
   },
   "source": [
    "### PCA for dimensionality reduction"
   ]
  },
  {
   "cell_type": "code",
   "execution_count": 5,
   "metadata": {
    "hidden": true
   },
   "outputs": [],
   "source": [
    "pca = PCA(n_components = 3, random_state = 42)"
   ]
  },
  {
   "cell_type": "code",
   "execution_count": 6,
   "metadata": {
    "hidden": true
   },
   "outputs": [],
   "source": [
    "principalComponents = pca.fit_transform(new_df)"
   ]
  },
  {
   "cell_type": "code",
   "execution_count": 7,
   "metadata": {
    "hidden": true
   },
   "outputs": [],
   "source": [
    "principalDf = pd.DataFrame(data = principalComponents, \n",
    "                           columns = ['PC1', 'PC2', 'PC3'])"
   ]
  },
  {
   "cell_type": "code",
   "execution_count": 8,
   "metadata": {
    "hidden": true
   },
   "outputs": [
    {
     "data": {
      "text/plain": [
       "array([0.6593168 , 0.323233  , 0.01674345])"
      ]
     },
     "execution_count": 8,
     "metadata": {},
     "output_type": "execute_result"
    }
   ],
   "source": [
    "pca.explained_variance_ratio_ ## The amount of variance explained by each of the selected components."
   ]
  },
  {
   "cell_type": "code",
   "execution_count": 9,
   "metadata": {
    "hidden": true
   },
   "outputs": [
    {
     "data": {
      "text/plain": [
       "array([[-3.22798185e-05, -3.31850519e-05, -1.87189843e-05,\n",
       "        -2.71742871e-05,  8.76860307e-06,  3.90910173e-06,\n",
       "         2.77222617e-03,  1.44208532e-02,  1.46282827e-01,\n",
       "         9.89077199e-01, -3.81539560e-03, -9.86319492e-03,\n",
       "         4.90633159e-05,  4.50197588e-05,  2.06573498e-04,\n",
       "         1.15683171e-04,  2.72904946e-04,  2.01637617e-05,\n",
       "         6.03400872e-05,  3.84616809e-05],\n",
       "       [ 2.94420479e-05,  1.35710224e-05, -1.84752004e-05,\n",
       "        -3.15018050e-05, -4.56138517e-05, -5.39084924e-05,\n",
       "         9.66136692e-03, -3.19896157e-03,  9.88627634e-01,\n",
       "        -1.46532918e-01, -4.75476805e-03, -3.18566385e-02,\n",
       "         7.36164872e-05,  1.04677770e-04,  1.08874153e-05,\n",
       "         1.02354454e-03, -1.29096550e-04,  1.14851045e-03,\n",
       "        -7.42908870e-05,  2.54253555e-04],\n",
       "       [-5.49375686e-05, -1.58490330e-05,  9.93402139e-05,\n",
       "         1.40330393e-04,  4.17188676e-04,  4.47294905e-04,\n",
       "        -9.84995742e-03, -4.91707311e-03,  3.30332151e-02,\n",
       "         5.88777191e-03,  3.14957752e-01,  9.48442025e-01,\n",
       "        -3.25524254e-04, -2.06426734e-04, -1.69470853e-03,\n",
       "        -1.50995977e-03, -1.58999366e-03, -1.79246919e-03,\n",
       "        -6.25718914e-04, -6.64363662e-04]])"
      ]
     },
     "execution_count": 9,
     "metadata": {},
     "output_type": "execute_result"
    }
   ],
   "source": [
    "pca.components_"
   ]
  },
  {
   "cell_type": "code",
   "execution_count": 10,
   "metadata": {
    "hidden": true
   },
   "outputs": [],
   "source": [
    "val = pca.components_.mean(axis = 0)\n",
    "cols = new_df.columns\n",
    "weights = {}\n",
    "\n",
    "for vals, col in zip(val, cols):\n",
    "    weights[col] = vals"
   ]
  },
  {
   "cell_type": "code",
   "execution_count": 11,
   "metadata": {
    "hidden": true
   },
   "outputs": [
    {
     "data": {
      "text/plain": [
       "[('noun_count_male', -0.0004924158735068233),\n",
       " ('verb_count_male', -0.00048206175559903033),\n",
       " ('adjective_count_male', -0.00021322323807656897),\n",
       " ('verb_count_female', -0.00020793165732414725),\n",
       " ('adjective_count_female', -0.00012388280877614178),\n",
       " ('noun_count_female', -0.000123577353941298),\n",
       " ('Sentiment_Female', -6.761481686476837e-05),\n",
       " ('Genre1_Tag_Female', -1.9258446393614348e-05),\n",
       " ('Sentiment_Male', -1.8909735290283163e-05),\n",
       " ('Genre1_Tag_Male', -1.1821020817148753e-05),\n",
       " ('Genre2_Tag_Female', 2.071534306110072e-05),\n",
       " ('Genre2_Tag_Male', 2.7218100423744237e-05),\n",
       " ('Genre3_Tag_Female', 0.00012678114247919358),\n",
       " ('Genre3_Tag_Male', 0.000132431838188373),\n",
       " ('#_of_Female_Cast', 0.0008612118912131027),\n",
       " ('#_of_Male_Cast', 0.00210160617589418),\n",
       " ('#_of_Female_Crew', 0.1021291960216452),\n",
       " ('#_of_Male_Dialogue', 0.2828106842326955),\n",
       " ('#_of_Male_Crew', 0.30224073051550904),\n",
       " ('#_of_Female_Dialogue', 0.3893145585816442)]"
      ]
     },
     "execution_count": 11,
     "metadata": {},
     "output_type": "execute_result"
    }
   ],
   "source": [
    "sorted_d = sorted(weights.items(), key=operator.itemgetter(1))\n",
    "sorted_d"
   ]
  },
  {
   "cell_type": "code",
   "execution_count": 12,
   "metadata": {
    "hidden": true
   },
   "outputs": [],
   "source": [
    "female_df = new_df.drop([\"#_of_Male_Crew\", \"#_of_Male_Cast\", \"#_of_Male_Dialogue\", \"Genre3_Tag_Male\", \n",
    "                        \"Genre2_Tag_Male\", \"Genre1_Tag_Male\", \"Sentiment_Male\", \"adjective_count_male\",\n",
    "                        \"noun_count_male\", \"verb_count_male\"], axis = 1)"
   ]
  },
  {
   "cell_type": "code",
   "execution_count": 13,
   "metadata": {
    "hidden": true
   },
   "outputs": [
    {
     "name": "stdout",
     "output_type": "stream",
     "text": [
      "<class 'pandas.core.frame.DataFrame'>\n",
      "RangeIndex: 324 entries, 0 to 323\n",
      "Data columns (total 10 columns):\n",
      "Genre1_Tag_Female         324 non-null float64\n",
      "Genre2_Tag_Female         324 non-null float64\n",
      "Genre3_Tag_Female         324 non-null float64\n",
      "#_of_Female_Cast          324 non-null int64\n",
      "#_of_Female_Dialogue      324 non-null int64\n",
      "#_of_Female_Crew          324 non-null int64\n",
      "Sentiment_Female          324 non-null float64\n",
      "noun_count_female         324 non-null float64\n",
      "verb_count_female         324 non-null float64\n",
      "adjective_count_female    324 non-null float64\n",
      "dtypes: float64(7), int64(3)\n",
      "memory usage: 25.4 KB\n"
     ]
    }
   ],
   "source": [
    "female_df.info()"
   ]
  },
  {
   "cell_type": "code",
   "execution_count": 14,
   "metadata": {
    "hidden": true
   },
   "outputs": [],
   "source": [
    "pcaf = PCA(n_components = 3, random_state = 42)"
   ]
  },
  {
   "cell_type": "code",
   "execution_count": 15,
   "metadata": {
    "hidden": true
   },
   "outputs": [],
   "source": [
    "principalComponentsf = pcaf.fit_transform(female_df)"
   ]
  },
  {
   "cell_type": "code",
   "execution_count": 16,
   "metadata": {
    "hidden": true
   },
   "outputs": [],
   "source": [
    "principalDff = pd.DataFrame(data = principalComponentsf, \n",
    "                           columns = ['PC1', 'PC2', 'PC3']) ## Loading vectors"
   ]
  },
  {
   "cell_type": "code",
   "execution_count": 17,
   "metadata": {
    "hidden": true
   },
   "outputs": [
    {
     "data": {
      "text/html": [
       "<div>\n",
       "<style scoped>\n",
       "    .dataframe tbody tr th:only-of-type {\n",
       "        vertical-align: middle;\n",
       "    }\n",
       "\n",
       "    .dataframe tbody tr th {\n",
       "        vertical-align: top;\n",
       "    }\n",
       "\n",
       "    .dataframe thead th {\n",
       "        text-align: right;\n",
       "    }\n",
       "</style>\n",
       "<table border=\"1\" class=\"dataframe\">\n",
       "  <thead>\n",
       "    <tr style=\"text-align: right;\">\n",
       "      <th></th>\n",
       "      <th>PC1</th>\n",
       "      <th>PC2</th>\n",
       "      <th>PC3</th>\n",
       "    </tr>\n",
       "  </thead>\n",
       "  <tbody>\n",
       "    <tr>\n",
       "      <th>0</th>\n",
       "      <td>142.341280</td>\n",
       "      <td>3.112327</td>\n",
       "      <td>-1.205576</td>\n",
       "    </tr>\n",
       "    <tr>\n",
       "      <th>1</th>\n",
       "      <td>-135.624510</td>\n",
       "      <td>-7.330759</td>\n",
       "      <td>-1.674382</td>\n",
       "    </tr>\n",
       "    <tr>\n",
       "      <th>2</th>\n",
       "      <td>-43.573115</td>\n",
       "      <td>-7.961755</td>\n",
       "      <td>2.452231</td>\n",
       "    </tr>\n",
       "    <tr>\n",
       "      <th>3</th>\n",
       "      <td>-112.682592</td>\n",
       "      <td>5.756945</td>\n",
       "      <td>-0.469048</td>\n",
       "    </tr>\n",
       "    <tr>\n",
       "      <th>4</th>\n",
       "      <td>-61.603655</td>\n",
       "      <td>-6.004139</td>\n",
       "      <td>0.624507</td>\n",
       "    </tr>\n",
       "    <tr>\n",
       "      <th>5</th>\n",
       "      <td>-65.755254</td>\n",
       "      <td>22.964476</td>\n",
       "      <td>1.411131</td>\n",
       "    </tr>\n",
       "    <tr>\n",
       "      <th>6</th>\n",
       "      <td>-68.577219</td>\n",
       "      <td>-5.124306</td>\n",
       "      <td>3.757403</td>\n",
       "    </tr>\n",
       "    <tr>\n",
       "      <th>7</th>\n",
       "      <td>-122.657193</td>\n",
       "      <td>0.713023</td>\n",
       "      <td>-0.612965</td>\n",
       "    </tr>\n",
       "    <tr>\n",
       "      <th>8</th>\n",
       "      <td>21.349855</td>\n",
       "      <td>-1.499879</td>\n",
       "      <td>-2.075327</td>\n",
       "    </tr>\n",
       "    <tr>\n",
       "      <th>9</th>\n",
       "      <td>7.366048</td>\n",
       "      <td>-2.601205</td>\n",
       "      <td>-0.977335</td>\n",
       "    </tr>\n",
       "    <tr>\n",
       "      <th>10</th>\n",
       "      <td>0.402571</td>\n",
       "      <td>-5.689995</td>\n",
       "      <td>1.003990</td>\n",
       "    </tr>\n",
       "    <tr>\n",
       "      <th>11</th>\n",
       "      <td>-82.609908</td>\n",
       "      <td>-5.104324</td>\n",
       "      <td>0.668158</td>\n",
       "    </tr>\n",
       "    <tr>\n",
       "      <th>12</th>\n",
       "      <td>10.317794</td>\n",
       "      <td>13.340399</td>\n",
       "      <td>2.981199</td>\n",
       "    </tr>\n",
       "    <tr>\n",
       "      <th>13</th>\n",
       "      <td>-4.643488</td>\n",
       "      <td>-0.669086</td>\n",
       "      <td>-0.793896</td>\n",
       "    </tr>\n",
       "    <tr>\n",
       "      <th>14</th>\n",
       "      <td>-29.652921</td>\n",
       "      <td>1.197352</td>\n",
       "      <td>-0.538472</td>\n",
       "    </tr>\n",
       "    <tr>\n",
       "      <th>15</th>\n",
       "      <td>-51.574119</td>\n",
       "      <td>-7.995597</td>\n",
       "      <td>2.408861</td>\n",
       "    </tr>\n",
       "    <tr>\n",
       "      <th>16</th>\n",
       "      <td>-117.594918</td>\n",
       "      <td>-7.310469</td>\n",
       "      <td>1.147186</td>\n",
       "    </tr>\n",
       "    <tr>\n",
       "      <th>17</th>\n",
       "      <td>-15.693631</td>\n",
       "      <td>3.342517</td>\n",
       "      <td>-3.513418</td>\n",
       "    </tr>\n",
       "    <tr>\n",
       "      <th>18</th>\n",
       "      <td>-31.819698</td>\n",
       "      <td>35.143228</td>\n",
       "      <td>1.427950</td>\n",
       "    </tr>\n",
       "    <tr>\n",
       "      <th>19</th>\n",
       "      <td>-17.612340</td>\n",
       "      <td>1.156406</td>\n",
       "      <td>3.370453</td>\n",
       "    </tr>\n",
       "    <tr>\n",
       "      <th>20</th>\n",
       "      <td>204.378674</td>\n",
       "      <td>-4.541156</td>\n",
       "      <td>-2.069157</td>\n",
       "    </tr>\n",
       "    <tr>\n",
       "      <th>21</th>\n",
       "      <td>137.373755</td>\n",
       "      <td>-4.889687</td>\n",
       "      <td>-2.320700</td>\n",
       "    </tr>\n",
       "    <tr>\n",
       "      <th>22</th>\n",
       "      <td>-62.654060</td>\n",
       "      <td>5.946194</td>\n",
       "      <td>2.112848</td>\n",
       "    </tr>\n",
       "    <tr>\n",
       "      <th>23</th>\n",
       "      <td>-8.611611</td>\n",
       "      <td>-6.690168</td>\n",
       "      <td>-0.891974</td>\n",
       "    </tr>\n",
       "    <tr>\n",
       "      <th>24</th>\n",
       "      <td>-68.585626</td>\n",
       "      <td>-7.081746</td>\n",
       "      <td>1.836356</td>\n",
       "    </tr>\n",
       "    <tr>\n",
       "      <th>25</th>\n",
       "      <td>-152.637592</td>\n",
       "      <td>-9.343930</td>\n",
       "      <td>-3.889230</td>\n",
       "    </tr>\n",
       "    <tr>\n",
       "      <th>26</th>\n",
       "      <td>-5.629133</td>\n",
       "      <td>2.251385</td>\n",
       "      <td>2.235828</td>\n",
       "    </tr>\n",
       "    <tr>\n",
       "      <th>27</th>\n",
       "      <td>92.447842</td>\n",
       "      <td>-7.287278</td>\n",
       "      <td>4.013129</td>\n",
       "    </tr>\n",
       "    <tr>\n",
       "      <th>28</th>\n",
       "      <td>-130.608771</td>\n",
       "      <td>-8.332988</td>\n",
       "      <td>-0.703091</td>\n",
       "    </tr>\n",
       "    <tr>\n",
       "      <th>29</th>\n",
       "      <td>217.388231</td>\n",
       "      <td>-2.525209</td>\n",
       "      <td>-0.117690</td>\n",
       "    </tr>\n",
       "    <tr>\n",
       "      <th>...</th>\n",
       "      <td>...</td>\n",
       "      <td>...</td>\n",
       "      <td>...</td>\n",
       "    </tr>\n",
       "    <tr>\n",
       "      <th>294</th>\n",
       "      <td>142.429052</td>\n",
       "      <td>-7.958208</td>\n",
       "      <td>1.465622</td>\n",
       "    </tr>\n",
       "    <tr>\n",
       "      <th>295</th>\n",
       "      <td>10.412253</td>\n",
       "      <td>-5.661630</td>\n",
       "      <td>1.910292</td>\n",
       "    </tr>\n",
       "    <tr>\n",
       "      <th>296</th>\n",
       "      <td>-31.631159</td>\n",
       "      <td>-0.845119</td>\n",
       "      <td>0.503589</td>\n",
       "    </tr>\n",
       "    <tr>\n",
       "      <th>297</th>\n",
       "      <td>-54.609039</td>\n",
       "      <td>-8.911511</td>\n",
       "      <td>-1.534736</td>\n",
       "    </tr>\n",
       "    <tr>\n",
       "      <th>298</th>\n",
       "      <td>4.398272</td>\n",
       "      <td>-8.619803</td>\n",
       "      <td>-1.053799</td>\n",
       "    </tr>\n",
       "    <tr>\n",
       "      <th>299</th>\n",
       "      <td>-35.568746</td>\n",
       "      <td>-8.915396</td>\n",
       "      <td>2.317525</td>\n",
       "    </tr>\n",
       "    <tr>\n",
       "      <th>300</th>\n",
       "      <td>-55.578178</td>\n",
       "      <td>-8.995613</td>\n",
       "      <td>1.480232</td>\n",
       "    </tr>\n",
       "    <tr>\n",
       "      <th>301</th>\n",
       "      <td>18.331884</td>\n",
       "      <td>11.357806</td>\n",
       "      <td>3.182360</td>\n",
       "    </tr>\n",
       "    <tr>\n",
       "      <th>302</th>\n",
       "      <td>-73.639006</td>\n",
       "      <td>0.924381</td>\n",
       "      <td>0.966138</td>\n",
       "    </tr>\n",
       "    <tr>\n",
       "      <th>303</th>\n",
       "      <td>-121.744411</td>\n",
       "      <td>15.729144</td>\n",
       "      <td>-1.106269</td>\n",
       "    </tr>\n",
       "    <tr>\n",
       "      <th>304</th>\n",
       "      <td>-5.619068</td>\n",
       "      <td>2.226549</td>\n",
       "      <td>3.219336</td>\n",
       "    </tr>\n",
       "    <tr>\n",
       "      <th>305</th>\n",
       "      <td>-78.653456</td>\n",
       "      <td>1.917602</td>\n",
       "      <td>0.099128</td>\n",
       "    </tr>\n",
       "    <tr>\n",
       "      <th>306</th>\n",
       "      <td>-95.595145</td>\n",
       "      <td>-9.168916</td>\n",
       "      <td>-0.044493</td>\n",
       "    </tr>\n",
       "    <tr>\n",
       "      <th>307</th>\n",
       "      <td>-99.620312</td>\n",
       "      <td>-6.169640</td>\n",
       "      <td>-0.886927</td>\n",
       "    </tr>\n",
       "    <tr>\n",
       "      <th>308</th>\n",
       "      <td>32.389932</td>\n",
       "      <td>-1.542656</td>\n",
       "      <td>1.797301</td>\n",
       "    </tr>\n",
       "    <tr>\n",
       "      <th>309</th>\n",
       "      <td>0.350855</td>\n",
       "      <td>2.330834</td>\n",
       "      <td>0.244404</td>\n",
       "    </tr>\n",
       "    <tr>\n",
       "      <th>310</th>\n",
       "      <td>-20.752328</td>\n",
       "      <td>22.207238</td>\n",
       "      <td>0.983329</td>\n",
       "    </tr>\n",
       "    <tr>\n",
       "      <th>311</th>\n",
       "      <td>-104.662872</td>\n",
       "      <td>-0.164904</td>\n",
       "      <td>-1.779314</td>\n",
       "    </tr>\n",
       "    <tr>\n",
       "      <th>312</th>\n",
       "      <td>-98.642997</td>\n",
       "      <td>-0.182732</td>\n",
       "      <td>0.142216</td>\n",
       "    </tr>\n",
       "    <tr>\n",
       "      <th>313</th>\n",
       "      <td>169.391176</td>\n",
       "      <td>-4.759331</td>\n",
       "      <td>-0.720244</td>\n",
       "    </tr>\n",
       "    <tr>\n",
       "      <th>314</th>\n",
       "      <td>283.274241</td>\n",
       "      <td>14.884927</td>\n",
       "      <td>-2.354837</td>\n",
       "    </tr>\n",
       "    <tr>\n",
       "      <th>315</th>\n",
       "      <td>-149.748510</td>\n",
       "      <td>14.607263</td>\n",
       "      <td>-1.924160</td>\n",
       "    </tr>\n",
       "    <tr>\n",
       "      <th>316</th>\n",
       "      <td>92.407076</td>\n",
       "      <td>-7.184339</td>\n",
       "      <td>0.032363</td>\n",
       "    </tr>\n",
       "    <tr>\n",
       "      <th>317</th>\n",
       "      <td>-131.630197</td>\n",
       "      <td>-8.279915</td>\n",
       "      <td>-2.772912</td>\n",
       "    </tr>\n",
       "    <tr>\n",
       "      <th>318</th>\n",
       "      <td>-87.664518</td>\n",
       "      <td>1.903747</td>\n",
       "      <td>-0.922591</td>\n",
       "    </tr>\n",
       "    <tr>\n",
       "      <th>319</th>\n",
       "      <td>-33.619863</td>\n",
       "      <td>-8.775849</td>\n",
       "      <td>-2.682776</td>\n",
       "    </tr>\n",
       "    <tr>\n",
       "      <th>320</th>\n",
       "      <td>-34.620102</td>\n",
       "      <td>-2.863427</td>\n",
       "      <td>0.514111</td>\n",
       "    </tr>\n",
       "    <tr>\n",
       "      <th>321</th>\n",
       "      <td>-147.815810</td>\n",
       "      <td>27.608598</td>\n",
       "      <td>-1.535301</td>\n",
       "    </tr>\n",
       "    <tr>\n",
       "      <th>322</th>\n",
       "      <td>-91.611623</td>\n",
       "      <td>-6.145400</td>\n",
       "      <td>-0.049788</td>\n",
       "    </tr>\n",
       "    <tr>\n",
       "      <th>323</th>\n",
       "      <td>-31.655867</td>\n",
       "      <td>0.199400</td>\n",
       "      <td>-1.391352</td>\n",
       "    </tr>\n",
       "  </tbody>\n",
       "</table>\n",
       "<p>324 rows × 3 columns</p>\n",
       "</div>"
      ],
      "text/plain": [
       "            PC1        PC2       PC3\n",
       "0    142.341280   3.112327 -1.205576\n",
       "1   -135.624510  -7.330759 -1.674382\n",
       "2    -43.573115  -7.961755  2.452231\n",
       "3   -112.682592   5.756945 -0.469048\n",
       "4    -61.603655  -6.004139  0.624507\n",
       "5    -65.755254  22.964476  1.411131\n",
       "6    -68.577219  -5.124306  3.757403\n",
       "7   -122.657193   0.713023 -0.612965\n",
       "8     21.349855  -1.499879 -2.075327\n",
       "9      7.366048  -2.601205 -0.977335\n",
       "10     0.402571  -5.689995  1.003990\n",
       "11   -82.609908  -5.104324  0.668158\n",
       "12    10.317794  13.340399  2.981199\n",
       "13    -4.643488  -0.669086 -0.793896\n",
       "14   -29.652921   1.197352 -0.538472\n",
       "15   -51.574119  -7.995597  2.408861\n",
       "16  -117.594918  -7.310469  1.147186\n",
       "17   -15.693631   3.342517 -3.513418\n",
       "18   -31.819698  35.143228  1.427950\n",
       "19   -17.612340   1.156406  3.370453\n",
       "20   204.378674  -4.541156 -2.069157\n",
       "21   137.373755  -4.889687 -2.320700\n",
       "22   -62.654060   5.946194  2.112848\n",
       "23    -8.611611  -6.690168 -0.891974\n",
       "24   -68.585626  -7.081746  1.836356\n",
       "25  -152.637592  -9.343930 -3.889230\n",
       "26    -5.629133   2.251385  2.235828\n",
       "27    92.447842  -7.287278  4.013129\n",
       "28  -130.608771  -8.332988 -0.703091\n",
       "29   217.388231  -2.525209 -0.117690\n",
       "..          ...        ...       ...\n",
       "294  142.429052  -7.958208  1.465622\n",
       "295   10.412253  -5.661630  1.910292\n",
       "296  -31.631159  -0.845119  0.503589\n",
       "297  -54.609039  -8.911511 -1.534736\n",
       "298    4.398272  -8.619803 -1.053799\n",
       "299  -35.568746  -8.915396  2.317525\n",
       "300  -55.578178  -8.995613  1.480232\n",
       "301   18.331884  11.357806  3.182360\n",
       "302  -73.639006   0.924381  0.966138\n",
       "303 -121.744411  15.729144 -1.106269\n",
       "304   -5.619068   2.226549  3.219336\n",
       "305  -78.653456   1.917602  0.099128\n",
       "306  -95.595145  -9.168916 -0.044493\n",
       "307  -99.620312  -6.169640 -0.886927\n",
       "308   32.389932  -1.542656  1.797301\n",
       "309    0.350855   2.330834  0.244404\n",
       "310  -20.752328  22.207238  0.983329\n",
       "311 -104.662872  -0.164904 -1.779314\n",
       "312  -98.642997  -0.182732  0.142216\n",
       "313  169.391176  -4.759331 -0.720244\n",
       "314  283.274241  14.884927 -2.354837\n",
       "315 -149.748510  14.607263 -1.924160\n",
       "316   92.407076  -7.184339  0.032363\n",
       "317 -131.630197  -8.279915 -2.772912\n",
       "318  -87.664518   1.903747 -0.922591\n",
       "319  -33.619863  -8.775849 -2.682776\n",
       "320  -34.620102  -2.863427  0.514111\n",
       "321 -147.815810  27.608598 -1.535301\n",
       "322  -91.611623  -6.145400 -0.049788\n",
       "323  -31.655867   0.199400 -1.391352\n",
       "\n",
       "[324 rows x 3 columns]"
      ]
     },
     "execution_count": 17,
     "metadata": {},
     "output_type": "execute_result"
    }
   ],
   "source": [
    "principalDff"
   ]
  },
  {
   "cell_type": "code",
   "execution_count": 18,
   "metadata": {
    "hidden": true
   },
   "outputs": [
    {
     "data": {
      "text/plain": [
       "array([1.57077115e+04, 9.15224412e+01, 4.81092085e+00])"
      ]
     },
     "execution_count": 18,
     "metadata": {},
     "output_type": "execute_result"
    }
   ],
   "source": [
    "pcaf.explained_variance_ ## The amount of variance explained by each of the selected components."
   ]
  },
  {
   "cell_type": "code",
   "execution_count": 19,
   "metadata": {
    "hidden": true
   },
   "outputs": [
    {
     "name": "stdout",
     "output_type": "stream",
     "text": [
      "99.96269987464682 %\n"
     ]
    }
   ],
   "source": [
    "var_ratios = pcaf.explained_variance_ratio_\n",
    "su = var_ratios[:2].sum() * 100\n",
    "print(su, \"%\")"
   ]
  },
  {
   "cell_type": "code",
   "execution_count": 20,
   "metadata": {
    "hidden": true
   },
   "outputs": [
    {
     "data": {
      "text/plain": [
       "array([[ 1.89854200e-05, -2.32010982e-05, -4.09508977e-05,\n",
       "         1.01481260e-02,  9.99933663e-01, -5.22690847e-03,\n",
       "         8.50937161e-05,  1.02249600e-03,  1.11517204e-03,\n",
       "         2.56371918e-04],\n",
       "       [-1.52982610e-04,  3.29853113e-04,  1.36752928e-03,\n",
       "        -2.54136870e-02,  5.49885166e-03,  9.99608530e-01,\n",
       "        -9.43005695e-04, -6.20949185e-03, -7.75480234e-03,\n",
       "        -2.25985402e-03],\n",
       "       [ 6.24134854e-04,  1.28175123e-03,  5.45486081e-04,\n",
       "         9.91979019e-01, -1.01177209e-02,  2.65263640e-02,\n",
       "         1.27835918e-03,  8.28508494e-02,  8.79435201e-02,\n",
       "         2.38604320e-02]])"
      ]
     },
     "execution_count": 20,
     "metadata": {},
     "output_type": "execute_result"
    }
   ],
   "source": [
    "pcaf.components_"
   ]
  },
  {
   "cell_type": "code",
   "execution_count": 21,
   "metadata": {
    "hidden": true
   },
   "outputs": [],
   "source": [
    "val = pcaf.components_.mean(axis = 0)\n",
    "cols = female_df.columns\n",
    "weights = {}\n",
    "\n",
    "for vals, col in zip(val, cols):\n",
    "    weights[col] = vals"
   ]
  },
  {
   "cell_type": "code",
   "execution_count": 22,
   "metadata": {
    "hidden": true
   },
   "outputs": [
    {
     "data": {
      "text/plain": [
       "[('Sentiment_Female', 0.00014014906764678664),\n",
       " ('Genre1_Tag_Female', 0.00016337922149142444),\n",
       " ('Genre2_Tag_Female', 0.0005294677469812494),\n",
       " ('Genre3_Tag_Female', 0.0006240214892043449),\n",
       " ('adjective_count_female', 0.007285649953057652),\n",
       " ('noun_count_female', 0.02588795117976136),\n",
       " ('verb_count_female', 0.027101296618462948),\n",
       " ('#_of_Female_Cast', 0.3255711525652901),\n",
       " ('#_of_Female_Dialogue', 0.3317715978929498),\n",
       " ('#_of_Female_Crew', 0.340302661933211)]"
      ]
     },
     "execution_count": 22,
     "metadata": {},
     "output_type": "execute_result"
    }
   ],
   "source": [
    "sorted_d = sorted(weights.items(), key=operator.itemgetter(1))\n",
    "sorted_d"
   ]
  },
  {
   "cell_type": "code",
   "execution_count": 23,
   "metadata": {
    "hidden": true
   },
   "outputs": [
    {
     "name": "stdout",
     "output_type": "stream",
     "text": [
      "1.0593773276680565\n"
     ]
    }
   ],
   "source": [
    "print(val.sum())"
   ]
  },
  {
   "cell_type": "markdown",
   "metadata": {
    "hidden": true
   },
   "source": [
    "### Onto Clustering"
   ]
  },
  {
   "cell_type": "code",
   "execution_count": 24,
   "metadata": {
    "hidden": true
   },
   "outputs": [],
   "source": [
    "kmeans = KMeans(n_clusters = 4, random_state = 42).fit(principalDf)"
   ]
  },
  {
   "cell_type": "code",
   "execution_count": 25,
   "metadata": {
    "hidden": true
   },
   "outputs": [
    {
     "data": {
      "text/plain": [
       "array([3, 0, 1, 2, 0, 0, 0, 1, 0, 2, 1, 2, 2, 1, 1, 1, 1, 2, 1, 1, 2, 3,\n",
       "       0, 2, 1, 1, 1, 0, 1, 3, 0, 1, 1, 3, 1, 3, 0, 0, 1, 3, 0, 1, 3, 1,\n",
       "       1, 1, 2, 1, 0, 0, 3, 2, 2, 2, 0, 3, 3, 0, 0, 1, 0, 3, 3, 2, 2, 1,\n",
       "       1, 3, 1, 1, 3, 2, 1, 1, 2, 1, 2, 1, 1, 1, 0, 0, 2, 2, 1, 1, 1, 0,\n",
       "       3, 1, 1, 1, 0, 1, 3, 1, 1, 1, 1, 0, 0, 3, 0, 2, 0, 0, 0, 1, 1, 1,\n",
       "       1, 1, 1, 1, 1, 1, 2, 1, 0, 1, 1, 1, 3, 0, 3, 3, 2, 3, 1, 0, 0, 2,\n",
       "       0, 2, 1, 1, 1, 0, 0, 1, 1, 1, 0, 0, 0, 0, 2, 3, 0, 0, 0, 2, 0, 2,\n",
       "       3, 1, 1, 1, 3, 2, 1, 2, 2, 3, 2, 3, 1, 1, 1, 1, 3, 0, 3, 0, 3, 0,\n",
       "       1, 0, 1, 0, 0, 2, 0, 1, 0, 2, 1, 0, 2, 2, 3, 0, 0, 0, 1, 2, 2, 0,\n",
       "       0, 0, 3, 2, 0, 0, 1, 1, 2, 2, 0, 2, 1, 1, 0, 3, 3, 0, 0, 0, 1, 0,\n",
       "       1, 0, 0, 0, 0, 1, 1, 1, 1, 0, 1, 0, 0, 0, 1, 0, 1, 2, 0, 2, 2, 1,\n",
       "       2, 1, 0, 0, 0, 1, 1, 3, 1, 0, 3, 1, 1, 3, 0, 1, 1, 2, 0, 3, 1, 0,\n",
       "       1, 0, 0, 0, 3, 1, 0, 2, 1, 0, 1, 1, 0, 3, 0, 1, 3, 3, 0, 3, 1, 3,\n",
       "       1, 2, 2, 0, 1, 1, 2, 2, 3, 1, 0, 0, 1, 1, 0, 0, 1, 1, 1, 1, 1, 0,\n",
       "       1, 2, 0, 0, 1, 3, 3, 0, 3, 1, 0, 0, 0, 1, 0, 1], dtype=int32)"
      ]
     },
     "execution_count": 25,
     "metadata": {},
     "output_type": "execute_result"
    }
   ],
   "source": [
    "kmeans.labels_"
   ]
  },
  {
   "cell_type": "code",
   "execution_count": 26,
   "metadata": {
    "hidden": true
   },
   "outputs": [],
   "source": [
    "y_kmeans = kmeans.predict(principalDf)"
   ]
  },
  {
   "cell_type": "code",
   "execution_count": 27,
   "metadata": {
    "hidden": true
   },
   "outputs": [
    {
     "data": {
      "image/png": "[encoded data removed]",
      "text/plain": [
       "<Figure size 1080x720 with 1 Axes>"
      ]
     },
     "metadata": {
      "needs_background": "light"
     },
     "output_type": "display_data"
    }
   ],
   "source": [
    "plt.figure(figsize = [15.0, 10.0])\n",
    "plt.scatter(principalDf.iloc[:, 0], principalDf.iloc[:, 1], c = y_kmeans, s = 50, cmap = 'viridis')\n",
    "centers = kmeans.cluster_centers_\n",
    "plt.scatter(centers[:, 0], centers[:, 1], c = 'black', s = 200, alpha = 0.5)\n",
    "plt.show()"
   ]
  },
  {
   "cell_type": "code",
   "execution_count": 28,
   "metadata": {
    "hidden": true
   },
   "outputs": [],
   "source": [
    "## For only female chars\n",
    "kmeansf = KMeans(n_clusters = 4, random_state = 42).fit(principalDff)"
   ]
  },
  {
   "cell_type": "code",
   "execution_count": 29,
   "metadata": {
    "hidden": true
   },
   "outputs": [
    {
     "data": {
      "text/plain": [
       "array([1, 0, 0, 0, 0, 0, 0, 0, 2, 2, 2, 0, 2, 2, 2, 0, 0, 2, 2, 2, 1, 1,\n",
       "       0, 2, 0, 0, 2, 2, 0, 1, 0, 2, 2, 1, 0, 1, 2, 0, 0, 1, 0, 2, 3, 0,\n",
       "       0, 0, 2, 2, 0, 0, 1, 2, 0, 1, 2, 1, 1, 0, 0, 0, 2, 1, 1, 2, 1, 0,\n",
       "       0, 1, 2, 0, 1, 2, 0, 2, 0, 0, 2, 2, 2, 2, 0, 0, 1, 2, 0, 0, 0, 2,\n",
       "       1, 0, 0, 2, 2, 2, 1, 0, 2, 2, 0, 2, 2, 1, 0, 2, 0, 0, 0, 0, 0, 0,\n",
       "       0, 0, 0, 0, 2, 2, 2, 2, 0, 2, 0, 0, 1, 2, 1, 3, 0, 3, 2, 0, 0, 1,\n",
       "       2, 0, 2, 2, 2, 0, 0, 0, 2, 0, 0, 0, 0, 0, 2, 1, 2, 0, 0, 2, 0, 2,\n",
       "       1, 2, 2, 0, 1, 1, 0, 0, 0, 1, 2, 1, 2, 0, 0, 0, 1, 0, 1, 0, 1, 0,\n",
       "       0, 0, 0, 0, 0, 0, 2, 0, 0, 2, 2, 2, 0, 0, 1, 0, 0, 0, 0, 2, 2, 2,\n",
       "       0, 0, 2, 0, 0, 2, 0, 2, 0, 0, 0, 2, 0, 0, 2, 3, 1, 1, 2, 2, 2, 2,\n",
       "       0, 2, 0, 2, 0, 2, 2, 2, 2, 0, 2, 2, 0, 2, 0, 0, 0, 1, 2, 1, 0, 0,\n",
       "       1, 0, 0, 0, 2, 0, 0, 1, 0, 2, 1, 2, 0, 1, 2, 2, 2, 1, 0, 1, 0, 2,\n",
       "       0, 0, 0, 0, 1, 0, 0, 2, 0, 2, 0, 0, 0, 1, 0, 0, 1, 1, 2, 1, 2, 1,\n",
       "       0, 1, 1, 0, 2, 0, 1, 0, 1, 2, 2, 0, 2, 2, 0, 2, 0, 0, 2, 0, 0, 0,\n",
       "       2, 2, 2, 0, 0, 1, 1, 0, 2, 0, 0, 2, 2, 0, 0, 2], dtype=int32)"
      ]
     },
     "execution_count": 29,
     "metadata": {},
     "output_type": "execute_result"
    }
   ],
   "source": [
    "kmeansf.labels_"
   ]
  },
  {
   "cell_type": "code",
   "execution_count": 30,
   "metadata": {
    "hidden": true
   },
   "outputs": [],
   "source": [
    "y_kmeansf = kmeansf.predict(principalDff)"
   ]
  },
  {
   "cell_type": "code",
   "execution_count": 31,
   "metadata": {
    "hidden": true
   },
   "outputs": [
    {
     "data": {
      "image/png": "[encoded data removed]",
      "text/plain": [
       "<Figure size 1080x720 with 1 Axes>"
      ]
     },
     "metadata": {
      "needs_background": "light"
     },
     "output_type": "display_data"
    }
   ],
   "source": [
    "plt.figure(figsize = [15.0, 10.0])\n",
    "plt.scatter(principalDff.iloc[:, 0], principalDff.iloc[:, 2], c = y_kmeansf, s = 50, cmap = 'viridis')\n",
    "centers = kmeansf.cluster_centers_\n",
    "plt.scatter(centers[:, 0], centers[:, 2], c = 'black', s = 200, alpha = 0.5)\n",
    "plt.show()"
   ]
  },
  {
   "cell_type": "code",
   "execution_count": null,
   "metadata": {
    "hidden": true
   },
   "outputs": [],
   "source": []
  },
  {
   "cell_type": "code",
   "execution_count": 32,
   "metadata": {
    "hidden": true
   },
   "outputs": [],
   "source": [
    "cl = pd.read_csv(\"New_Bechdel_Class_Labels.csv\")"
   ]
  },
  {
   "cell_type": "code",
   "execution_count": 33,
   "metadata": {
    "hidden": true
   },
   "outputs": [],
   "source": [
    "cl[\"All_param_cluster_label\"] = kmeans.labels_"
   ]
  },
  {
   "cell_type": "code",
   "execution_count": 34,
   "metadata": {
    "hidden": true
   },
   "outputs": [],
   "source": [
    "cl[\"Female_param_cluster_label\"] = kmeansf.labels_"
   ]
  },
  {
   "cell_type": "code",
   "execution_count": 35,
   "metadata": {
    "hidden": true
   },
   "outputs": [],
   "source": [
    "cl.to_csv(\"New_Bechdel_Class_Labels.csv\", index = False)"
   ]
  },
  {
   "cell_type": "markdown",
   "metadata": {
    "heading_collapsed": true
   },
   "source": [
    "## Normalising"
   ]
  },
  {
   "cell_type": "code",
   "execution_count": 36,
   "metadata": {
    "hidden": true
   },
   "outputs": [],
   "source": [
    "# n_df = pd.read_csv(\"Normalised_New_Bechdel_Class_Labels.csv\")"
   ]
  },
  {
   "cell_type": "code",
   "execution_count": 37,
   "metadata": {
    "hidden": true
   },
   "outputs": [],
   "source": [
    "# n = n_df.drop([\"Year\", \"New ROI\", \"Movie_Title\", \"Female_Male_Dialogues_Ratio\", \"IMDB_Rating\", \"Bechdel_Scores\",\n",
    "#               \"labels\", \"All_param_cluster_label\", \"Female_param_cluster_label\"],\n",
    "#                 axis = 1)"
   ]
  },
  {
   "cell_type": "code",
   "execution_count": 38,
   "metadata": {
    "hidden": true
   },
   "outputs": [],
   "source": [
    "# n.head()"
   ]
  },
  {
   "cell_type": "code",
   "execution_count": 39,
   "metadata": {
    "hidden": true
   },
   "outputs": [],
   "source": [
    "# cols = n.columns"
   ]
  },
  {
   "cell_type": "code",
   "execution_count": 40,
   "metadata": {
    "hidden": true
   },
   "outputs": [],
   "source": [
    "# for it in cols:\n",
    "#     n[\"N_\"+it] = (n[it] - n[it].min())/(n[it].max() - n[it].min())\n",
    "#     n.drop([it], axis = 1, inplace = True)"
   ]
  },
  {
   "cell_type": "code",
   "execution_count": 41,
   "metadata": {
    "hidden": true
   },
   "outputs": [],
   "source": [
    "# d = pd.DataFrame(data = n_df, columns = [\"Year\", \"New ROI\", \"Movie_Title\", \"Female_Male_Dialogues_Ratio\", \n",
    "#                                       \"IMDB_Rating\", \"Bechdel_Scores\", \"labels\", \"All_param_cluster_label\",\n",
    "#                                       \"Female_param_cluster_label\"])"
   ]
  },
  {
   "cell_type": "code",
   "execution_count": 42,
   "metadata": {
    "hidden": true
   },
   "outputs": [],
   "source": [
    "# n_df = pd.concat([n, d], axis = 1)"
   ]
  },
  {
   "cell_type": "code",
   "execution_count": 43,
   "metadata": {
    "hidden": true
   },
   "outputs": [],
   "source": [
    "# n_df.to_csv(\"Normalised_New_Bechdel_Class_Labels.csv\", index = False)"
   ]
  },
  {
   "cell_type": "markdown",
   "metadata": {
    "heading_collapsed": true
   },
   "source": [
    "## PCA and Clustering on Normalised Features"
   ]
  },
  {
   "cell_type": "code",
   "execution_count": 44,
   "metadata": {
    "hidden": true
   },
   "outputs": [],
   "source": [
    "n_df = pd.read_csv(\"Normalised_New_Bechdel_Class_Labels.csv\")"
   ]
  },
  {
   "cell_type": "code",
   "execution_count": 45,
   "metadata": {
    "hidden": true
   },
   "outputs": [],
   "source": [
    "df = n_df.drop([\"Year\", \"New ROI\", \"Movie_Title\", \"IMDB_Rating\", \"Bechdel_Scores\",\n",
    "              \"labels\", \"All_param_cluster_label\", \"Female_param_cluster_label\"],\n",
    "                axis = 1)"
   ]
  },
  {
   "cell_type": "code",
   "execution_count": 46,
   "metadata": {
    "hidden": true
   },
   "outputs": [
    {
     "name": "stdout",
     "output_type": "stream",
     "text": [
      "<class 'pandas.core.frame.DataFrame'>\n",
      "RangeIndex: 324 entries, 0 to 323\n",
      "Data columns (total 20 columns):\n",
      "N_Genre1_Tag_Female         324 non-null float64\n",
      "N_Genre1_Tag_Male           324 non-null float64\n",
      "N_Genre2_Tag_Female         324 non-null float64\n",
      "N_Genre2_Tag_Male           324 non-null float64\n",
      "N_Genre3_Tag_Female         324 non-null float64\n",
      "N_Genre3_Tag_Male           324 non-null float64\n",
      "N_#_of_Female_Cast          324 non-null float64\n",
      "N_#_of_Male_Cast            324 non-null float64\n",
      "N_#_of_Female_Dialogue      324 non-null float64\n",
      "N_#_of_Male_Dialogue        324 non-null float64\n",
      "N_#_of_Female_Crew          324 non-null float64\n",
      "N_#_of_Male_Crew            324 non-null float64\n",
      "N_Sentiment_Female          324 non-null float64\n",
      "N_Sentiment_Male            324 non-null float64\n",
      "N_noun_count_male           324 non-null float64\n",
      "N_noun_count_female         324 non-null float64\n",
      "N_verb_count_male           324 non-null float64\n",
      "N_verb_count_female         324 non-null float64\n",
      "N_adjective_count_male      324 non-null float64\n",
      "N_adjective_count_female    324 non-null float64\n",
      "dtypes: float64(20)\n",
      "memory usage: 50.7 KB\n"
     ]
    }
   ],
   "source": [
    "df.info()"
   ]
  },
  {
   "cell_type": "code",
   "execution_count": 47,
   "metadata": {
    "hidden": true
   },
   "outputs": [],
   "source": [
    "female_df = df.drop([\"N_#_of_Male_Crew\", \"N_#_of_Male_Cast\", \"N_#_of_Male_Dialogue\", \"N_Genre3_Tag_Male\", \n",
    "                        \"N_Genre2_Tag_Male\", \"N_Genre1_Tag_Male\", \"N_Sentiment_Male\", \"N_adjective_count_male\",\n",
    "                        \"N_noun_count_male\", \"N_verb_count_male\"], axis = 1)"
   ]
  },
  {
   "cell_type": "code",
   "execution_count": 48,
   "metadata": {
    "hidden": true
   },
   "outputs": [
    {
     "name": "stdout",
     "output_type": "stream",
     "text": [
      "<class 'pandas.core.frame.DataFrame'>\n",
      "RangeIndex: 324 entries, 0 to 323\n",
      "Data columns (total 10 columns):\n",
      "N_Genre1_Tag_Female         324 non-null float64\n",
      "N_Genre2_Tag_Female         324 non-null float64\n",
      "N_Genre3_Tag_Female         324 non-null float64\n",
      "N_#_of_Female_Cast          324 non-null float64\n",
      "N_#_of_Female_Dialogue      324 non-null float64\n",
      "N_#_of_Female_Crew          324 non-null float64\n",
      "N_Sentiment_Female          324 non-null float64\n",
      "N_noun_count_female         324 non-null float64\n",
      "N_verb_count_female         324 non-null float64\n",
      "N_adjective_count_female    324 non-null float64\n",
      "dtypes: float64(10)\n",
      "memory usage: 25.4 KB\n"
     ]
    }
   ],
   "source": [
    "female_df.info()"
   ]
  },
  {
   "cell_type": "code",
   "execution_count": 49,
   "metadata": {
    "hidden": true
   },
   "outputs": [],
   "source": [
    "pcaf = PCA(n_components = 3, random_state = 42)"
   ]
  },
  {
   "cell_type": "code",
   "execution_count": 50,
   "metadata": {
    "hidden": true
   },
   "outputs": [],
   "source": [
    "principalComponentsf = pcaf.fit_transform(female_df)"
   ]
  },
  {
   "cell_type": "code",
   "execution_count": 51,
   "metadata": {
    "hidden": true
   },
   "outputs": [],
   "source": [
    "principalDff = pd.DataFrame(data = principalComponentsf, \n",
    "                           columns = ['PC1', 'PC2', 'PC3'])"
   ]
  },
  {
   "cell_type": "code",
   "execution_count": 52,
   "metadata": {
    "hidden": true
   },
   "outputs": [
    {
     "data": {
      "text/html": [
       "<div>\n",
       "<style scoped>\n",
       "    .dataframe tbody tr th:only-of-type {\n",
       "        vertical-align: middle;\n",
       "    }\n",
       "\n",
       "    .dataframe tbody tr th {\n",
       "        vertical-align: top;\n",
       "    }\n",
       "\n",
       "    .dataframe thead th {\n",
       "        text-align: right;\n",
       "    }\n",
       "</style>\n",
       "<table border=\"1\" class=\"dataframe\">\n",
       "  <thead>\n",
       "    <tr style=\"text-align: right;\">\n",
       "      <th></th>\n",
       "      <th>PC1</th>\n",
       "      <th>PC2</th>\n",
       "      <th>PC3</th>\n",
       "    </tr>\n",
       "  </thead>\n",
       "  <tbody>\n",
       "    <tr>\n",
       "      <th>0</th>\n",
       "      <td>-0.295529</td>\n",
       "      <td>-0.052132</td>\n",
       "      <td>0.082297</td>\n",
       "    </tr>\n",
       "    <tr>\n",
       "      <th>1</th>\n",
       "      <td>0.082149</td>\n",
       "      <td>0.054233</td>\n",
       "      <td>-0.347332</td>\n",
       "    </tr>\n",
       "    <tr>\n",
       "      <th>2</th>\n",
       "      <td>0.264626</td>\n",
       "      <td>-0.225641</td>\n",
       "      <td>-0.072794</td>\n",
       "    </tr>\n",
       "    <tr>\n",
       "      <th>3</th>\n",
       "      <td>0.041754</td>\n",
       "      <td>0.096580</td>\n",
       "      <td>0.142124</td>\n",
       "    </tr>\n",
       "    <tr>\n",
       "      <th>4</th>\n",
       "      <td>0.198120</td>\n",
       "      <td>-0.122346</td>\n",
       "      <td>-0.170241</td>\n",
       "    </tr>\n",
       "  </tbody>\n",
       "</table>\n",
       "</div>"
      ],
      "text/plain": [
       "        PC1       PC2       PC3\n",
       "0 -0.295529 -0.052132  0.082297\n",
       "1  0.082149  0.054233 -0.347332\n",
       "2  0.264626 -0.225641 -0.072794\n",
       "3  0.041754  0.096580  0.142124\n",
       "4  0.198120 -0.122346 -0.170241"
      ]
     },
     "execution_count": 52,
     "metadata": {},
     "output_type": "execute_result"
    }
   ],
   "source": [
    "principalDff.head()"
   ]
  },
  {
   "cell_type": "code",
   "execution_count": 53,
   "metadata": {
    "hidden": true
   },
   "outputs": [
    {
     "data": {
      "text/plain": [
       "array([0.32957382, 0.18297113, 0.1143717 ])"
      ]
     },
     "execution_count": 53,
     "metadata": {},
     "output_type": "execute_result"
    }
   ],
   "source": [
    "pcaf.explained_variance_ratio_ ## The amount of variance explained by each of the selected components."
   ]
  },
  {
   "cell_type": "code",
   "execution_count": 54,
   "metadata": {
    "hidden": true
   },
   "outputs": [
    {
     "data": {
      "text/plain": [
       "array([[ 0.06422003,  0.36987552,  0.88786603, -0.07307202, -0.07766879,\n",
       "         0.21446709, -0.05601128, -0.04476067, -0.07238809, -0.05488986],\n",
       "       [-0.19735979, -0.20203668, -0.11824754, -0.55034585, -0.34054705,\n",
       "         0.25596609, -0.13437792, -0.30174879, -0.50379487, -0.24281124],\n",
       "       [-0.10751776, -0.24697803, -0.04989859,  0.10473583,  0.10383742,\n",
       "         0.85140243, -0.21474753,  0.1833713 ,  0.27774172,  0.1463968 ]])"
      ]
     },
     "execution_count": 54,
     "metadata": {},
     "output_type": "execute_result"
    }
   ],
   "source": [
    "pcaf.components_"
   ]
  },
  {
   "cell_type": "code",
   "execution_count": 55,
   "metadata": {
    "hidden": true
   },
   "outputs": [],
   "source": [
    "val = pcaf.components_.mean(axis = 0)\n",
    "cols = female_df.columns\n",
    "weights = {}\n",
    "\n",
    "for vals, col in zip(val, cols):\n",
    "    weights[col] = vals"
   ]
  },
  {
   "cell_type": "code",
   "execution_count": 56,
   "metadata": {
    "hidden": true
   },
   "outputs": [
    {
     "data": {
      "text/plain": [
       "[('N_#_of_Female_Cast', -0.17289401426094342),\n",
       " ('N_Sentiment_Female', -0.1350455742399014),\n",
       " ('N_#_of_Female_Dialogue', -0.10479280678955767),\n",
       " ('N_verb_count_female', -0.09948041270223752),\n",
       " ('N_Genre1_Tag_Female', -0.08021917630894665),\n",
       " ('N_noun_count_female', -0.05437938840747098),\n",
       " ('N_adjective_count_female', -0.050434763614638466),\n",
       " ('N_Genre2_Tag_Female', -0.026379727191435016),\n",
       " ('N_Genre3_Tag_Female', 0.239906633549728),\n",
       " ('N_#_of_Female_Crew', 0.4406118686985923)]"
      ]
     },
     "execution_count": 56,
     "metadata": {},
     "output_type": "execute_result"
    }
   ],
   "source": [
    "sorted_d = sorted(weights.items(), key=operator.itemgetter(1))\n",
    "sorted_d"
   ]
  },
  {
   "cell_type": "code",
   "execution_count": 57,
   "metadata": {
    "hidden": true
   },
   "outputs": [],
   "source": [
    "## For only female chars\n",
    "kmeansf = KMeans(n_clusters = 4, random_state = 42).fit(principalDff)"
   ]
  },
  {
   "cell_type": "code",
   "execution_count": 58,
   "metadata": {
    "hidden": true
   },
   "outputs": [
    {
     "data": {
      "text/plain": [
       "array([0, 1, 1, 2, 1, 2, 0, 1, 1, 1, 0, 0, 0, 0, 1, 0, 1, 2, 2, 1, 1, 1,\n",
       "       2, 1, 0, 3, 1, 0, 0, 1, 1, 0, 2, 1, 0, 0, 1, 0, 2, 0, 2, 1, 0, 1,\n",
       "       1, 2, 0, 0, 1, 2, 0, 1, 0, 1, 0, 0, 0, 1, 1, 1, 0, 1, 0, 1, 1, 0,\n",
       "       0, 0, 0, 1, 0, 3, 1, 2, 1, 2, 2, 1, 0, 1, 1, 1, 0, 0, 1, 0, 0, 0,\n",
       "       0, 1, 1, 0, 0, 1, 1, 2, 3, 0, 3, 0, 0, 0, 0, 1, 2, 1, 3, 2, 0, 3,\n",
       "       1, 1, 3, 1, 1, 1, 0, 0, 1, 1, 1, 1, 2, 1, 1, 0, 3, 0, 0, 1, 2, 1,\n",
       "       1, 0, 1, 2, 0, 1, 1, 0, 1, 0, 1, 2, 1, 3, 0, 1, 0, 2, 2, 1, 3, 1,\n",
       "       0, 1, 1, 0, 1, 1, 2, 1, 1, 1, 1, 0, 1, 1, 2, 1, 2, 0, 1, 0, 1, 1,\n",
       "       3, 0, 0, 2, 3, 0, 1, 0, 2, 1, 0, 0, 3, 0, 2, 0, 1, 3, 0, 0, 2, 0,\n",
       "       3, 1, 0, 1, 0, 0, 2, 1, 3, 3, 2, 0, 1, 1, 0, 1, 0, 0, 1, 0, 1, 0,\n",
       "       1, 0, 1, 2, 1, 0, 0, 0, 1, 2, 2, 0, 1, 1, 0, 3, 0, 1, 0, 0, 0, 1,\n",
       "       2, 3, 0, 1, 0, 2, 2, 1, 0, 1, 1, 0, 1, 1, 1, 0, 1, 1, 2, 1, 0, 2,\n",
       "       3, 1, 1, 3, 0, 1, 1, 1, 1, 1, 2, 1, 3, 1, 0, 3, 1, 1, 1, 2, 1, 1,\n",
       "       1, 0, 2, 1, 1, 1, 0, 0, 1, 1, 1, 1, 1, 0, 1, 2, 1, 2, 1, 0, 1, 1,\n",
       "       0, 1, 2, 1, 0, 1, 2, 2, 1, 1, 1, 0, 1, 2, 0, 0], dtype=int32)"
      ]
     },
     "execution_count": 58,
     "metadata": {},
     "output_type": "execute_result"
    }
   ],
   "source": [
    "kmeansf.labels_"
   ]
  },
  {
   "cell_type": "code",
   "execution_count": 59,
   "metadata": {
    "hidden": true
   },
   "outputs": [],
   "source": [
    "y_kmeansf = kmeansf.predict(principalDff)"
   ]
  },
  {
   "cell_type": "code",
   "execution_count": 60,
   "metadata": {
    "hidden": true
   },
   "outputs": [
    {
     "data": {
      "image/png": "[encoded data removed]",
      "text/plain": [
       "<Figure size 1080x720 with 1 Axes>"
      ]
     },
     "metadata": {
      "needs_background": "light"
     },
     "output_type": "display_data"
    }
   ],
   "source": [
    "plt.figure(figsize = [15.0, 10.0])\n",
    "plt.scatter(principalDff.iloc[:, 0], principalDff.iloc[:, 1], c = y_kmeansf, s = 50, cmap = 'viridis')\n",
    "centers = kmeansf.cluster_centers_\n",
    "plt.scatter(centers[:, 0], centers[:, 1], c = 'black', s = 200, alpha = 0.5)\n",
    "plt.show()"
   ]
  },
  {
   "cell_type": "code",
   "execution_count": 61,
   "metadata": {
    "hidden": true
   },
   "outputs": [],
   "source": [
    "n_df[\"Female_param_cluster_label\"] = kmeansf.labels_"
   ]
  },
  {
   "cell_type": "code",
   "execution_count": 62,
   "metadata": {
    "hidden": true
   },
   "outputs": [],
   "source": [
    "n_df.to_csv(\"Normalised_New_Bechdel_Class_Labels.csv\", index = False)"
   ]
  },
  {
   "cell_type": "markdown",
   "metadata": {},
   "source": [
    "## Clustering without PCA"
   ]
  },
  {
   "cell_type": "code",
   "execution_count": 63,
   "metadata": {},
   "outputs": [],
   "source": [
    "new_df = pd.read_csv(\"Good_Book.csv\")\n",
    "new_df = new_df.drop([\"Year\", \"New ROI\", \"Movie_Title\", \"IMDB_Rating\", \"Female_Male_Dialogues_Ratio\"],\n",
    "                axis = 1)\n",
    "female_df = new_df.drop([\"#_of_Male_Crew\", \"#_of_Male_Cast\", \"#_of_Male_Dialogue\", \"Genre3_Tag_Male\", \n",
    "                        \"Genre2_Tag_Male\", \"Genre1_Tag_Male\", \"Sentiment_Male\", \"adjective_count_male\",\n",
    "                        \"noun_count_male\", \"verb_count_male\"], axis = 1)"
   ]
  },
  {
   "cell_type": "code",
   "execution_count": 64,
   "metadata": {},
   "outputs": [
    {
     "data": {
      "text/plain": [
       "array([[231.90356234,  41.01386458, 129.55418806, 454.28749871],\n",
       "       [ 46.66680224, 318.99349696, 148.65231661, 732.28583481],\n",
       "       [ 46.71149925, 227.01322641,  56.97987142, 640.27044596],\n",
       "       ...,\n",
       "       [ 64.56301257, 332.17321046, 163.06068925, 744.92828538],\n",
       "       [  6.39739872, 274.95998378, 104.62400917, 688.26838179],\n",
       "       [ 57.90744964, 214.92782948,  44.55219288, 628.27758144]])"
      ]
     },
     "execution_count": 64,
     "metadata": {},
     "output_type": "execute_result"
    }
   ],
   "source": [
    "## For only female chars\n",
    "kmeansf = KMeans(n_clusters = 4, random_state = 42)\n",
    "kmeansf.fit_transform(female_df)"
   ]
  },
  {
   "cell_type": "code",
   "execution_count": 65,
   "metadata": {},
   "outputs": [],
   "source": [
    "y_kmeansf = kmeansf.predict(female_df)"
   ]
  },
  {
   "cell_type": "code",
   "execution_count": 66,
   "metadata": {},
   "outputs": [
    {
     "data": {
      "text/plain": [
       "-573187.6256993541"
      ]
     },
     "execution_count": 66,
     "metadata": {},
     "output_type": "execute_result"
    }
   ],
   "source": [
    "kmeansf.score(female_df)"
   ]
  },
  {
   "cell_type": "code",
   "execution_count": 67,
   "metadata": {},
   "outputs": [
    {
     "data": {
      "text/plain": [
       "array([1, 0, 0, 0, 0, 0, 0, 0, 2, 2, 2, 0, 2, 2, 2, 0, 0, 2, 2, 2, 1, 1,\n",
       "       0, 2, 0, 0, 2, 2, 0, 1, 0, 2, 2, 1, 0, 1, 2, 0, 0, 1, 0, 2, 3, 0,\n",
       "       0, 0, 2, 2, 0, 0, 1, 2, 0, 1, 2, 1, 1, 0, 0, 0, 2, 1, 1, 2, 1, 0,\n",
       "       0, 1, 2, 0, 1, 2, 0, 2, 0, 0, 2, 2, 2, 2, 0, 0, 1, 2, 0, 0, 0, 2,\n",
       "       1, 0, 0, 2, 2, 2, 1, 0, 2, 2, 0, 2, 2, 1, 0, 2, 0, 0, 0, 0, 0, 0,\n",
       "       0, 0, 0, 0, 2, 2, 2, 2, 0, 2, 0, 0, 1, 2, 1, 3, 0, 3, 2, 0, 0, 1,\n",
       "       2, 0, 2, 2, 2, 0, 0, 0, 2, 0, 0, 0, 0, 0, 2, 1, 2, 0, 0, 2, 0, 2,\n",
       "       1, 2, 2, 0, 1, 1, 0, 0, 0, 1, 2, 1, 2, 0, 0, 0, 1, 0, 1, 0, 1, 0,\n",
       "       0, 0, 0, 0, 0, 0, 2, 0, 0, 2, 2, 2, 0, 0, 1, 0, 0, 0, 0, 2, 2, 2,\n",
       "       0, 0, 2, 0, 0, 2, 0, 2, 0, 0, 0, 2, 0, 0, 2, 3, 1, 1, 2, 2, 2, 2,\n",
       "       0, 2, 0, 2, 0, 2, 2, 2, 2, 0, 2, 2, 0, 2, 0, 0, 0, 1, 2, 1, 0, 0,\n",
       "       1, 0, 0, 0, 2, 0, 0, 1, 0, 2, 1, 2, 0, 1, 2, 2, 2, 1, 0, 1, 0, 2,\n",
       "       0, 0, 0, 0, 1, 0, 0, 2, 0, 2, 0, 0, 0, 1, 0, 0, 1, 1, 2, 1, 2, 1,\n",
       "       0, 1, 1, 0, 2, 0, 1, 0, 1, 2, 2, 0, 2, 2, 0, 2, 0, 0, 2, 0, 0, 0,\n",
       "       2, 2, 2, 0, 0, 1, 1, 0, 2, 0, 0, 2, 2, 0, 0, 2], dtype=int32)"
      ]
     },
     "execution_count": 67,
     "metadata": {},
     "output_type": "execute_result"
    }
   ],
   "source": [
    "kmeansf.labels_"
   ]
  },
  {
   "cell_type": "code",
   "execution_count": 68,
   "metadata": {},
   "outputs": [],
   "source": [
    "n_df = pd.read_csv(\"New_Bechdel_Class_Labels.csv\")"
   ]
  },
  {
   "cell_type": "code",
   "execution_count": 69,
   "metadata": {},
   "outputs": [],
   "source": [
    "n_df[\"Direct_Cluster_FV\"] = kmeansf.labels_"
   ]
  },
  {
   "cell_type": "code",
   "execution_count": 70,
   "metadata": {},
   "outputs": [],
   "source": [
    "n_df.to_csv(\"New_Bechdel_Class_Labels.csv\", index = False)"
   ]
  },
  {
   "cell_type": "code",
   "execution_count": null,
   "metadata": {},
   "outputs": [],
   "source": []
  },
  {
   "cell_type": "markdown",
   "metadata": {
    "heading_collapsed": true
   },
   "source": [
    "## Keyser's Test and Bartlett's Tests"
   ]
  },
  {
   "cell_type": "code",
   "execution_count": 71,
   "metadata": {
    "hidden": true
   },
   "outputs": [],
   "source": [
    "## The Kaiser-Meyer-Olkin Measure of Sampling Adequacy is a statistic that indicates the proportion of variance in \n",
    "## your variables that might be caused by underlying factors.\n",
    "## High values (close to 1.0) generally indicate that a factor analysis may be useful with your data. \n",
    "## If the value is less than 0.50, the results of the factor analysis probably won't be very useful."
   ]
  },
  {
   "cell_type": "code",
   "execution_count": 72,
   "metadata": {
    "hidden": true
   },
   "outputs": [],
   "source": [
    "new_df = pd.read_csv(\"Good_Book.csv\")\n",
    "new_df = new_df.drop([\"Year\", \"New ROI\", \"Movie_Title\", \"IMDB_Rating\", \"Female_Male_Dialogues_Ratio\"],\n",
    "                axis = 1)\n",
    "female_df = new_df.drop([\"#_of_Male_Crew\", \"#_of_Male_Cast\", \"#_of_Male_Dialogue\", \"Genre3_Tag_Male\", \n",
    "                        \"Genre2_Tag_Male\", \"Genre1_Tag_Male\", \"Sentiment_Male\", \"adjective_count_male\",\n",
    "                        \"noun_count_male\", \"verb_count_male\"], axis = 1)"
   ]
  },
  {
   "cell_type": "code",
   "execution_count": 73,
   "metadata": {
    "hidden": true
   },
   "outputs": [
    {
     "name": "stdout",
     "output_type": "stream",
     "text": [
      "<class 'pandas.core.frame.DataFrame'>\n",
      "RangeIndex: 324 entries, 0 to 323\n",
      "Data columns (total 10 columns):\n",
      "Genre1_Tag_Female         324 non-null float64\n",
      "Genre2_Tag_Female         324 non-null float64\n",
      "Genre3_Tag_Female         324 non-null float64\n",
      "#_of_Female_Cast          324 non-null int64\n",
      "#_of_Female_Dialogue      324 non-null int64\n",
      "#_of_Female_Crew          324 non-null int64\n",
      "Sentiment_Female          324 non-null float64\n",
      "noun_count_female         324 non-null float64\n",
      "verb_count_female         324 non-null float64\n",
      "adjective_count_female    324 non-null float64\n",
      "dtypes: float64(7), int64(3)\n",
      "memory usage: 25.4 KB\n"
     ]
    }
   ],
   "source": [
    "female_df.info()"
   ]
  },
  {
   "cell_type": "code",
   "execution_count": 74,
   "metadata": {
    "hidden": true
   },
   "outputs": [],
   "source": [
    "def KMO(df):\n",
    "    corr = df.corr().as_matrix() ## Correaltion matrix for the dataframe\n",
    "    invcor = np.linalg.inv(corr) ## Inverse matrix\n",
    "    d = np.linalg.inv(np.diag(np.sqrt(np.diag(invcor)))) ## Get the D 1/2 matrix\n",
    "    antiimage = np.matmul(np.matmul(d, invcor), d) ## Get the anti-image matrix\n",
    "    num = 0; den = 0\n",
    "\n",
    "    ## Calculate the KMO using formula\n",
    "    for rows in range(antiimage.shape[0]):\n",
    "        for cols in range(antiimage.shape[1]):\n",
    "            if rows != cols:\n",
    "                num += (corr[rows][cols] ** 2)\n",
    "                den += ((corr[rows][cols] ** 2) + (antiimage[rows][cols] ** 2))\n",
    "\n",
    "    kmo = num / den\n",
    "    return kmo"
   ]
  },
  {
   "cell_type": "code",
   "execution_count": 75,
   "metadata": {
    "hidden": true
   },
   "outputs": [
    {
     "name": "stdout",
     "output_type": "stream",
     "text": [
      "Value of the KMO Test:  0.69836676830795 :: Rounded of value:  0.7\n"
     ]
    }
   ],
   "source": [
    "kmo = KMO(female_df)\n",
    "print(\"Value of the KMO Test: \", kmo, \":: Rounded of value: \", round(kmo, 2))"
   ]
  },
  {
   "cell_type": "code",
   "execution_count": 76,
   "metadata": {
    "hidden": true
   },
   "outputs": [],
   "source": [
    "## Bartlett's test of sphericity tests the hypothesis that your correlation matrix is an identity matrix, \n",
    "## which would indicate that your variables are unrelated and therefore unsuitable for structure detection. \n",
    "## Small values (less than 0.05) of the significance level indicate that a factor analysis may be useful with your data."
   ]
  },
  {
   "cell_type": "code",
   "execution_count": 77,
   "metadata": {
    "hidden": true
   },
   "outputs": [],
   "source": [
    "from scipy.stats import bartlett"
   ]
  },
  {
   "cell_type": "code",
   "execution_count": 84,
   "metadata": {
    "hidden": true
   },
   "outputs": [
    {
     "name": "stdout",
     "output_type": "stream",
     "text": [
      "Test Statistic:  inf :: P-value:  0.0\n"
     ]
    }
   ],
   "source": [
    "k, pval = bartlett(*female_df.as_matrix()[:, 0:10])\n",
    "print(\"Test Statistic: \", k, \":: P-value: \", pval)"
   ]
  },
  {
   "cell_type": "code",
   "execution_count": 86,
   "metadata": {},
   "outputs": [],
   "source": [
    "def BToS(X, y = None):\n",
    "        \"\"\"\n",
    "        Bartlett's test of sphericity tests the hypothesis that your correlation matrix is an identity matrix, \n",
    "        which would indicate that your variables are unrelated and therefore unsuitable for structure detection. \n",
    "        Small values (less than 0.05) of the significance level indicate that a factor analysis may be useful with your data.\n",
    "        \"\"\"\n",
    "        n = X.shape[0]\n",
    "        p = X.shape[1]\n",
    "        corr = X.corr()\n",
    "        lhs = (n - 1) - (2 * p - 5) / 6 ## Formula of the first equation\n",
    "        rhs = np.log(np.linalg.det(corr)) ## Formula of the second equation\n",
    "        chi_square = -(lhs * rhs) ## Chi-Square value from this\n",
    "        degree_of_freedom = (p ** 2 - p) / 2 ## Degrees of freedom\n",
    "\n",
    "        return chi_square, degree_of_freedom"
   ]
  },
  {
   "cell_type": "code",
   "execution_count": null,
   "metadata": {},
   "outputs": [],
   "source": [
    "BToS()"
   ]
  },
  {
   "cell_type": "markdown",
   "metadata": {
    "heading_collapsed": true
   },
   "source": [
    "## Varimax Rotation on dataframe"
   ]
  },
  {
   "cell_type": "code",
   "execution_count": 79,
   "metadata": {
    "hidden": true
   },
   "outputs": [],
   "source": [
    "loadings = pcaf.components_.T * np.sqrt(pcaf.explained_variance_ratio_)\n",
    "loadings = pd.DataFrame(loadings)"
   ]
  },
  {
   "cell_type": "code",
   "execution_count": 80,
   "metadata": {
    "hidden": true
   },
   "outputs": [],
   "source": [
    "def varimax(loadings, normalize=True, max_iter=500, tolerance=1e-5):\n",
    "        df = loadings.copy()\n",
    "        column_names = df.index.values\n",
    "        index_names = df.columns.values\n",
    "        n_rows, n_cols = df.shape\n",
    "        if n_cols < 2:\n",
    "            return df\n",
    "        X = df.values\n",
    "        if normalize:\n",
    "            normalized_mtx = df.apply(lambda x: np.sqrt(sum(x**2)),\n",
    "                                      axis=1).values\n",
    "            X = (X.T / normalized_mtx).T\n",
    "        rotation_mtx = np.eye(n_cols)\n",
    "\n",
    "        d = 0\n",
    "        for _ in range(max_iter):\n",
    "            old_d = d\n",
    "            basis = np.dot(X, rotation_mtx)\n",
    "            transformed = np.dot(X.T, basis**3 - (1.0 / n_rows) *\n",
    "                                 np.dot(basis, np.diag(np.diag(np.dot(basis.T, basis)))))\n",
    "            U, S, V = np.linalg.svd(transformed)\n",
    "            rotation_mtx = np.dot(U, V)\n",
    "            d = np.sum(S)\n",
    "            if old_d != 0 and d / old_d < 1 + tolerance:\n",
    "                break\n",
    "\n",
    "        X = np.dot(X, rotation_mtx)\n",
    "\n",
    "        if normalize:\n",
    "            X = X.T * normalized_mtx\n",
    "        else:\n",
    "            X = X.T\n",
    "        loadings = pd.DataFrame(X, columns=column_names, index=index_names).T\n",
    "\n",
    "        return loadings, rotation_mtx"
   ]
  },
  {
   "cell_type": "code",
   "execution_count": 81,
   "metadata": {
    "hidden": true
   },
   "outputs": [],
   "source": [
    "rotated_loading, rotationMtx = varimax(loadings)"
   ]
  },
  {
   "cell_type": "code",
   "execution_count": 82,
   "metadata": {
    "hidden": true
   },
   "outputs": [
    {
     "data": {
      "text/plain": [
       "0    0.846130\n",
       "1   -0.905585\n",
       "2    0.170904\n",
       "dtype: float64"
      ]
     },
     "execution_count": 82,
     "metadata": {},
     "output_type": "execute_result"
    }
   ],
   "source": [
    "rotated_loading.sum(axis = 0)"
   ]
  },
  {
   "cell_type": "code",
   "execution_count": 83,
   "metadata": {
    "hidden": true
   },
   "outputs": [
    {
     "data": {
      "text/html": [
       "<div>\n",
       "<style scoped>\n",
       "    .dataframe tbody tr th:only-of-type {\n",
       "        vertical-align: middle;\n",
       "    }\n",
       "\n",
       "    .dataframe tbody tr th {\n",
       "        vertical-align: top;\n",
       "    }\n",
       "\n",
       "    .dataframe thead th {\n",
       "        text-align: right;\n",
       "    }\n",
       "</style>\n",
       "<table border=\"1\" class=\"dataframe\">\n",
       "  <thead>\n",
       "    <tr style=\"text-align: right;\">\n",
       "      <th></th>\n",
       "      <th>0</th>\n",
       "      <th>1</th>\n",
       "      <th>2</th>\n",
       "    </tr>\n",
       "  </thead>\n",
       "  <tbody>\n",
       "    <tr>\n",
       "      <th>0</th>\n",
       "      <td>0.036868</td>\n",
       "      <td>-0.084421</td>\n",
       "      <td>-0.036361</td>\n",
       "    </tr>\n",
       "    <tr>\n",
       "      <th>1</th>\n",
       "      <td>0.212340</td>\n",
       "      <td>-0.086421</td>\n",
       "      <td>-0.083525</td>\n",
       "    </tr>\n",
       "    <tr>\n",
       "      <th>2</th>\n",
       "      <td>0.509711</td>\n",
       "      <td>-0.050581</td>\n",
       "      <td>-0.016875</td>\n",
       "    </tr>\n",
       "    <tr>\n",
       "      <th>3</th>\n",
       "      <td>-0.041950</td>\n",
       "      <td>-0.235411</td>\n",
       "      <td>0.035420</td>\n",
       "    </tr>\n",
       "    <tr>\n",
       "      <th>4</th>\n",
       "      <td>-0.044589</td>\n",
       "      <td>-0.145669</td>\n",
       "      <td>0.035117</td>\n",
       "    </tr>\n",
       "    <tr>\n",
       "      <th>5</th>\n",
       "      <td>0.123122</td>\n",
       "      <td>0.109490</td>\n",
       "      <td>0.287935</td>\n",
       "    </tr>\n",
       "    <tr>\n",
       "      <th>6</th>\n",
       "      <td>-0.032155</td>\n",
       "      <td>-0.057480</td>\n",
       "      <td>-0.072625</td>\n",
       "    </tr>\n",
       "    <tr>\n",
       "      <th>7</th>\n",
       "      <td>-0.025696</td>\n",
       "      <td>-0.129073</td>\n",
       "      <td>0.062014</td>\n",
       "    </tr>\n",
       "    <tr>\n",
       "      <th>8</th>\n",
       "      <td>-0.041557</td>\n",
       "      <td>-0.215499</td>\n",
       "      <td>0.093929</td>\n",
       "    </tr>\n",
       "    <tr>\n",
       "      <th>9</th>\n",
       "      <td>-0.031511</td>\n",
       "      <td>-0.103863</td>\n",
       "      <td>0.049510</td>\n",
       "    </tr>\n",
       "  </tbody>\n",
       "</table>\n",
       "</div>"
      ],
      "text/plain": [
       "          0         1         2\n",
       "0  0.036868 -0.084421 -0.036361\n",
       "1  0.212340 -0.086421 -0.083525\n",
       "2  0.509711 -0.050581 -0.016875\n",
       "3 -0.041950 -0.235411  0.035420\n",
       "4 -0.044589 -0.145669  0.035117\n",
       "5  0.123122  0.109490  0.287935\n",
       "6 -0.032155 -0.057480 -0.072625\n",
       "7 -0.025696 -0.129073  0.062014\n",
       "8 -0.041557 -0.215499  0.093929\n",
       "9 -0.031511 -0.103863  0.049510"
      ]
     },
     "execution_count": 83,
     "metadata": {},
     "output_type": "execute_result"
    }
   ],
   "source": [
    "loadings"
   ]
  },
  {
   "cell_type": "code",
   "execution_count": null,
   "metadata": {
    "hidden": true
   },
   "outputs": [],
   "source": []
  }
 ],
 "metadata": {
  "kernelspec": {
   "display_name": "Python 3",
   "language": "python",
   "name": "python3"
  },
  "language_info": {
   "codemirror_mode": {
    "name": "ipython",
    "version": 3
   },
   "file_extension": ".py",
   "mimetype": "text/x-python",
   "name": "python",
   "nbconvert_exporter": "python",
   "pygments_lexer": "ipython3",
   "version": "3.7.1"
  }
 },
 "nbformat": 4,
 "nbformat_minor": 2
}
