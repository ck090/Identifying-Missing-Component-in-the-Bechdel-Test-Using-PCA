{
 "cells": [
  {
   "cell_type": "code",
   "execution_count": 1,
   "metadata": {},
   "outputs": [],
   "source": [
    "import pandas as pd\n",
    "import operator\n",
    "import numpy as np\n",
    "%matplotlib inline\n",
    "import matplotlib.pyplot as plt\n",
    "import seaborn as sns; sns.set()\n",
    "from sklearn.decomposition import PCA\n",
    "from sklearn.cluster import KMeans\n",
    "from sklearn.preprocessing import StandardScaler\n",
    "import warnings\n",
    "warnings.filterwarnings(\"ignore\")"
   ]
  },
  {
   "cell_type": "code",
   "execution_count": 2,
   "metadata": {},
   "outputs": [],
   "source": [
    "new_df = pd.read_csv(\"Good_Book.csv\")\n",
    "new_df = new_df.drop([\"Year\", \"New ROI\", \"Movie_Title\", \"IMDB_Rating\", \"Female_Male_Dialogues_Ratio\"],\n",
    "                axis = 1)\n",
    "female_df = new_df.drop([\"#_of_Male_Crew\", \"#_of_Male_Cast\", \"#_of_Male_Dialogue\", \"Genre3_Tag_Male\", \n",
    "                        \"Genre2_Tag_Male\", \"Genre1_Tag_Male\", \"Sentiment_Male\", \"adjective_count_male\",\n",
    "                        \"noun_count_male\", \"verb_count_male\"], axis = 1)"
   ]
  },
  {
   "cell_type": "code",
   "execution_count": 3,
   "metadata": {},
   "outputs": [
    {
     "name": "stdout",
     "output_type": "stream",
     "text": [
      "<class 'pandas.core.frame.DataFrame'>\n",
      "RangeIndex: 324 entries, 0 to 323\n",
      "Data columns (total 10 columns):\n",
      "Genre1_Tag_Female         324 non-null float64\n",
      "Genre2_Tag_Female         324 non-null float64\n",
      "Genre3_Tag_Female         324 non-null float64\n",
      "#_of_Female_Cast          324 non-null int64\n",
      "#_of_Female_Dialogue      324 non-null int64\n",
      "#_of_Female_Crew          324 non-null int64\n",
      "Sentiment_Female          324 non-null float64\n",
      "noun_count_female         324 non-null float64\n",
      "verb_count_female         324 non-null float64\n",
      "adjective_count_female    324 non-null float64\n",
      "dtypes: float64(7), int64(3)\n",
      "memory usage: 25.4 KB\n"
     ]
    }
   ],
   "source": [
    "female_df.info()"
   ]
  },
  {
   "cell_type": "code",
   "execution_count": 4,
   "metadata": {},
   "outputs": [],
   "source": [
    "df_corr = female_df.corr()"
   ]
  },
  {
   "cell_type": "code",
   "execution_count": 5,
   "metadata": {},
   "outputs": [],
   "source": [
    "eval_corr, evect_corr = np.linalg.eig(df_corr)\n",
    "idx_corr = eval_corr.argsort()[::-1]\n",
    "eval_corr = eval_corr[idx_corr]\n",
    "evect_corr = evect_corr[:, idx_corr]"
   ]
  },
  {
   "cell_type": "code",
   "execution_count": 6,
   "metadata": {},
   "outputs": [
    {
     "data": {
      "text/plain": [
       "array([2.97030942, 1.64057365, 1.40592414, 1.03444544, 0.91526066,\n",
       "       0.7336573 , 0.52225732, 0.47439811, 0.21031353, 0.09286043])"
      ]
     },
     "execution_count": 6,
     "metadata": {},
     "output_type": "execute_result"
    }
   ],
   "source": [
    "eval_corr ## Eigen Values for the correlation matrix"
   ]
  },
  {
   "cell_type": "code",
   "execution_count": 7,
   "metadata": {},
   "outputs": [
    {
     "data": {
      "text/plain": [
       "array([[-0.111, -0.312, -0.285, -0.46 , -0.508, -0.525,  0.204, -0.147,\n",
       "         0.021, -0.016],\n",
       "       [ 0.019, -0.578, -0.287, -0.187,  0.14 ,  0.207, -0.647,  0.249,\n",
       "         0.063, -0.029],\n",
       "       [ 0.099, -0.559, -0.206,  0.168,  0.324,  0.241,  0.659, -0.085,\n",
       "         0.011,  0.046],\n",
       "       [-0.286,  0.132, -0.497,  0.265, -0.148,  0.28 , -0.183, -0.671,\n",
       "        -0.005, -0.012],\n",
       "       [-0.227,  0.211, -0.529,  0.339, -0.207, -0.012,  0.152,  0.664,\n",
       "         0.048,  0.008],\n",
       "       [ 0.128, -0.299,  0.118,  0.709, -0.021, -0.569, -0.211, -0.096,\n",
       "        -0.011,  0.01 ],\n",
       "       [-0.071,  0.255, -0.367, -0.193,  0.728, -0.469, -0.034, -0.07 ,\n",
       "        -0.033,  0.008],\n",
       "       [-0.533, -0.121,  0.203,  0.03 ,  0.1  , -0.018,  0.051,  0.037,\n",
       "        -0.082, -0.799],\n",
       "       [-0.523, -0.136,  0.166, -0.006,  0.046, -0.003, -0.02 ,  0.061,\n",
       "        -0.661,  0.487],\n",
       "       [-0.514, -0.074,  0.223,  0.006,  0.094, -0.038,  0.012, -0.01 ,\n",
       "         0.741,  0.348]])"
      ]
     },
     "execution_count": 7,
     "metadata": {},
     "output_type": "execute_result"
    }
   ],
   "source": [
    "evect_corr.round(3) ## Eigen Vector for the correlation matrix"
   ]
  },
  {
   "cell_type": "code",
   "execution_count": 8,
   "metadata": {},
   "outputs": [],
   "source": [
    "U, S, V = np.linalg.svd(df_corr) ## Checking with SVD a method that is underlying Sklearn's PCA"
   ]
  },
  {
   "cell_type": "code",
   "execution_count": 9,
   "metadata": {},
   "outputs": [],
   "source": [
    "def flip_sign(vec):\n",
    "    for i in range(vec.shape[1]):\n",
    "        if(vec[:, i].sum() < 0):\n",
    "            vec[:, i] = -1 * vec[:, i]\n",
    "    return vec"
   ]
  },
  {
   "cell_type": "code",
   "execution_count": 10,
   "metadata": {},
   "outputs": [],
   "source": [
    "Vt = flip_sign(V.T)"
   ]
  },
  {
   "cell_type": "code",
   "execution_count": 11,
   "metadata": {},
   "outputs": [
    {
     "data": {
      "text/plain": [
       "array([[ 0.11131633,  0.3123158 ,  0.28475283, -0.45961441, -0.50809365,\n",
       "         0.5251387 , -0.20381057,  0.14689645,  0.02093036, -0.01589733],\n",
       "       [-0.01927962,  0.57836151,  0.28662579, -0.18749715,  0.14008182,\n",
       "        -0.20652233,  0.64713177, -0.24879756,  0.06343198, -0.02896507],\n",
       "       [-0.09852943,  0.55912998,  0.20612069,  0.16789393,  0.32444712,\n",
       "        -0.24103374, -0.65900125,  0.08454974,  0.01116554,  0.04552287],\n",
       "       [ 0.28612456, -0.1316212 ,  0.49720587,  0.26503274, -0.14776552,\n",
       "        -0.27960525,  0.18322059,  0.67052365, -0.00493254, -0.01194756],\n",
       "       [ 0.22720647, -0.21140719,  0.52930925,  0.33873348, -0.20704625,\n",
       "         0.01182773, -0.15153027, -0.66362765,  0.04841276,  0.00778802],\n",
       "       [-0.12771831,  0.29932098, -0.11838414,  0.70858791, -0.02099251,\n",
       "         0.56886762,  0.21094602,  0.09599899, -0.0111816 ,  0.00965614],\n",
       "       [ 0.07100128, -0.25535518,  0.36684437, -0.19329061,  0.7284972 ,\n",
       "         0.46881791,  0.03448271,  0.07047803, -0.03301201,  0.00849077],\n",
       "       [ 0.53347441,  0.1206814 , -0.20262294,  0.02991831,  0.10042457,\n",
       "         0.01777261, -0.05145369, -0.03676213, -0.08203187, -0.79859926],\n",
       "       [ 0.52321281,  0.13595095, -0.16597272, -0.00648998,  0.04600063,\n",
       "         0.00291853,  0.01974687, -0.06116177, -0.66073365,  0.48718825],\n",
       "       [ 0.51413922,  0.07394151, -0.22293764,  0.00574537,  0.09433555,\n",
       "         0.03790293, -0.01196486,  0.00968264,  0.7406298 ,  0.34835911]])"
      ]
     },
     "execution_count": 11,
     "metadata": {},
     "output_type": "execute_result"
    }
   ],
   "source": [
    "Vt ## Eignen Vectors"
   ]
  },
  {
   "cell_type": "code",
   "execution_count": 12,
   "metadata": {},
   "outputs": [],
   "source": [
    "## Setting principal components\n",
    "exp = eval_corr * 100 / np.sum(eval_corr)\n",
    "accsum = np.cumsum(exp)\n",
    "pcnum = list(range(0, 10))\n",
    "data = np.array([pcnum, eval_corr, exp, accsum])\n",
    "eigenvalues = pd.DataFrame(data.T, columns = [\"PC\", \"EigenValues\", \"% of Var\", \"Cumulative %\"])"
   ]
  },
  {
   "cell_type": "code",
   "execution_count": 13,
   "metadata": {},
   "outputs": [
    {
     "data": {
      "text/html": [
       "<div>\n",
       "<style scoped>\n",
       "    .dataframe tbody tr th:only-of-type {\n",
       "        vertical-align: middle;\n",
       "    }\n",
       "\n",
       "    .dataframe tbody tr th {\n",
       "        vertical-align: top;\n",
       "    }\n",
       "\n",
       "    .dataframe thead th {\n",
       "        text-align: right;\n",
       "    }\n",
       "</style>\n",
       "<table border=\"1\" class=\"dataframe\">\n",
       "  <thead>\n",
       "    <tr style=\"text-align: right;\">\n",
       "      <th></th>\n",
       "      <th>PC</th>\n",
       "      <th>EigenValues</th>\n",
       "      <th>% of Var</th>\n",
       "      <th>Cumulative %</th>\n",
       "    </tr>\n",
       "  </thead>\n",
       "  <tbody>\n",
       "    <tr>\n",
       "      <th>0</th>\n",
       "      <td>0.0</td>\n",
       "      <td>2.970309</td>\n",
       "      <td>29.703094</td>\n",
       "      <td>29.703094</td>\n",
       "    </tr>\n",
       "    <tr>\n",
       "      <th>1</th>\n",
       "      <td>1.0</td>\n",
       "      <td>1.640574</td>\n",
       "      <td>16.405736</td>\n",
       "      <td>46.108831</td>\n",
       "    </tr>\n",
       "    <tr>\n",
       "      <th>2</th>\n",
       "      <td>2.0</td>\n",
       "      <td>1.405924</td>\n",
       "      <td>14.059241</td>\n",
       "      <td>60.168072</td>\n",
       "    </tr>\n",
       "    <tr>\n",
       "      <th>3</th>\n",
       "      <td>3.0</td>\n",
       "      <td>1.034445</td>\n",
       "      <td>10.344454</td>\n",
       "      <td>70.512527</td>\n",
       "    </tr>\n",
       "    <tr>\n",
       "      <th>4</th>\n",
       "      <td>4.0</td>\n",
       "      <td>0.915261</td>\n",
       "      <td>9.152607</td>\n",
       "      <td>79.665133</td>\n",
       "    </tr>\n",
       "    <tr>\n",
       "      <th>5</th>\n",
       "      <td>5.0</td>\n",
       "      <td>0.733657</td>\n",
       "      <td>7.336573</td>\n",
       "      <td>87.001706</td>\n",
       "    </tr>\n",
       "    <tr>\n",
       "      <th>6</th>\n",
       "      <td>6.0</td>\n",
       "      <td>0.522257</td>\n",
       "      <td>5.222573</td>\n",
       "      <td>92.224279</td>\n",
       "    </tr>\n",
       "    <tr>\n",
       "      <th>7</th>\n",
       "      <td>7.0</td>\n",
       "      <td>0.474398</td>\n",
       "      <td>4.743981</td>\n",
       "      <td>96.968260</td>\n",
       "    </tr>\n",
       "    <tr>\n",
       "      <th>8</th>\n",
       "      <td>8.0</td>\n",
       "      <td>0.210314</td>\n",
       "      <td>2.103135</td>\n",
       "      <td>99.071396</td>\n",
       "    </tr>\n",
       "    <tr>\n",
       "      <th>9</th>\n",
       "      <td>9.0</td>\n",
       "      <td>0.092860</td>\n",
       "      <td>0.928604</td>\n",
       "      <td>100.000000</td>\n",
       "    </tr>\n",
       "  </tbody>\n",
       "</table>\n",
       "</div>"
      ],
      "text/plain": [
       "    PC  EigenValues   % of Var  Cumulative %\n",
       "0  0.0     2.970309  29.703094     29.703094\n",
       "1  1.0     1.640574  16.405736     46.108831\n",
       "2  2.0     1.405924  14.059241     60.168072\n",
       "3  3.0     1.034445  10.344454     70.512527\n",
       "4  4.0     0.915261   9.152607     79.665133\n",
       "5  5.0     0.733657   7.336573     87.001706\n",
       "6  6.0     0.522257   5.222573     92.224279\n",
       "7  7.0     0.474398   4.743981     96.968260\n",
       "8  8.0     0.210314   2.103135     99.071396\n",
       "9  9.0     0.092860   0.928604    100.000000"
      ]
     },
     "execution_count": 13,
     "metadata": {},
     "output_type": "execute_result"
    }
   ],
   "source": [
    "eigenvalues"
   ]
  },
  {
   "cell_type": "code",
   "execution_count": 14,
   "metadata": {},
   "outputs": [
    {
     "data": {
      "image/png": "[encoded data removed]",
      "text/plain": [
       "<Figure size 1080x504 with 1 Axes>"
      ]
     },
     "metadata": {
      "needs_background": "light"
     },
     "output_type": "display_data"
    }
   ],
   "source": [
    "## Scree plot\n",
    "plt.figure(figsize = [15.0, 7.0])\n",
    "eachexp = eigenvalues.iloc[:, 2]\n",
    "sns.lineplot(pcnum, eachexp, label = \"% of variance explained\")\n",
    "plt.xlabel(\"Number of principal components\")\n",
    "plt.ylabel(\"% of variance\")\n",
    "plt.title(\"% of variance per principal component\", fontsize =  15)\n",
    "plt.legend()\n",
    "plt.show()"
   ]
  },
  {
   "cell_type": "code",
   "execution_count": 15,
   "metadata": {},
   "outputs": [],
   "source": [
    "## Loadings for the first 4 principal components.. components greater than 1\n",
    "evec_corr3 = Vt[:, :4]\n",
    "eval_corr3 = eval_corr[:4]\n",
    "loadings = evec_corr3 * np.sqrt(eval_corr3) ## Loading matrices"
   ]
  },
  {
   "cell_type": "code",
   "execution_count": 16,
   "metadata": {},
   "outputs": [
    {
     "data": {
      "text/html": [
       "<div>\n",
       "<style scoped>\n",
       "    .dataframe tbody tr th:only-of-type {\n",
       "        vertical-align: middle;\n",
       "    }\n",
       "\n",
       "    .dataframe tbody tr th {\n",
       "        vertical-align: top;\n",
       "    }\n",
       "\n",
       "    .dataframe thead th {\n",
       "        text-align: right;\n",
       "    }\n",
       "</style>\n",
       "<table border=\"1\" class=\"dataframe\">\n",
       "  <thead>\n",
       "    <tr style=\"text-align: right;\">\n",
       "      <th></th>\n",
       "      <th>PC1</th>\n",
       "      <th>PC2</th>\n",
       "      <th>PC3</th>\n",
       "      <th>PC4</th>\n",
       "    </tr>\n",
       "  </thead>\n",
       "  <tbody>\n",
       "    <tr>\n",
       "      <th>0</th>\n",
       "      <td>0.191849</td>\n",
       "      <td>0.400029</td>\n",
       "      <td>0.337636</td>\n",
       "      <td>-0.467463</td>\n",
       "    </tr>\n",
       "    <tr>\n",
       "      <th>1</th>\n",
       "      <td>-0.033228</td>\n",
       "      <td>0.740794</td>\n",
       "      <td>0.339857</td>\n",
       "      <td>-0.190699</td>\n",
       "    </tr>\n",
       "    <tr>\n",
       "      <th>2</th>\n",
       "      <td>-0.169811</td>\n",
       "      <td>0.716161</td>\n",
       "      <td>0.244401</td>\n",
       "      <td>0.170761</td>\n",
       "    </tr>\n",
       "    <tr>\n",
       "      <th>3</th>\n",
       "      <td>0.493124</td>\n",
       "      <td>-0.168587</td>\n",
       "      <td>0.589545</td>\n",
       "      <td>0.269559</td>\n",
       "    </tr>\n",
       "    <tr>\n",
       "      <th>4</th>\n",
       "      <td>0.391581</td>\n",
       "      <td>-0.270781</td>\n",
       "      <td>0.627611</td>\n",
       "      <td>0.344518</td>\n",
       "    </tr>\n",
       "    <tr>\n",
       "      <th>5</th>\n",
       "      <td>-0.220117</td>\n",
       "      <td>0.383385</td>\n",
       "      <td>-0.140370</td>\n",
       "      <td>0.720688</td>\n",
       "    </tr>\n",
       "    <tr>\n",
       "      <th>6</th>\n",
       "      <td>0.122368</td>\n",
       "      <td>-0.327071</td>\n",
       "      <td>0.434974</td>\n",
       "      <td>-0.196591</td>\n",
       "    </tr>\n",
       "    <tr>\n",
       "      <th>7</th>\n",
       "      <td>0.919421</td>\n",
       "      <td>0.154575</td>\n",
       "      <td>-0.240253</td>\n",
       "      <td>0.030429</td>\n",
       "    </tr>\n",
       "    <tr>\n",
       "      <th>8</th>\n",
       "      <td>0.901736</td>\n",
       "      <td>0.174133</td>\n",
       "      <td>-0.196797</td>\n",
       "      <td>-0.006601</td>\n",
       "    </tr>\n",
       "    <tr>\n",
       "      <th>9</th>\n",
       "      <td>0.886098</td>\n",
       "      <td>0.094708</td>\n",
       "      <td>-0.264341</td>\n",
       "      <td>0.005843</td>\n",
       "    </tr>\n",
       "  </tbody>\n",
       "</table>\n",
       "</div>"
      ],
      "text/plain": [
       "        PC1       PC2       PC3       PC4\n",
       "0  0.191849  0.400029  0.337636 -0.467463\n",
       "1 -0.033228  0.740794  0.339857 -0.190699\n",
       "2 -0.169811  0.716161  0.244401  0.170761\n",
       "3  0.493124 -0.168587  0.589545  0.269559\n",
       "4  0.391581 -0.270781  0.627611  0.344518\n",
       "5 -0.220117  0.383385 -0.140370  0.720688\n",
       "6  0.122368 -0.327071  0.434974 -0.196591\n",
       "7  0.919421  0.154575 -0.240253  0.030429\n",
       "8  0.901736  0.174133 -0.196797 -0.006601\n",
       "9  0.886098  0.094708 -0.264341  0.005843"
      ]
     },
     "execution_count": 16,
     "metadata": {},
     "output_type": "execute_result"
    }
   ],
   "source": [
    "loading_df = pd.DataFrame(loadings.T, index = [\"PC1\", \"PC2\", \"PC3\", \"PC4\"])\n",
    "loading_df.T"
   ]
  },
  {
   "cell_type": "code",
   "execution_count": 17,
   "metadata": {},
   "outputs": [],
   "source": [
    "## Principal component score coeffs\n",
    "pcscorecoeff = np.linalg.inv(df_corr).dot(loadings)"
   ]
  },
  {
   "cell_type": "code",
   "execution_count": 18,
   "metadata": {},
   "outputs": [
    {
     "data": {
      "text/html": [
       "<div>\n",
       "<style scoped>\n",
       "    .dataframe tbody tr th:only-of-type {\n",
       "        vertical-align: middle;\n",
       "    }\n",
       "\n",
       "    .dataframe tbody tr th {\n",
       "        vertical-align: top;\n",
       "    }\n",
       "\n",
       "    .dataframe thead th {\n",
       "        text-align: right;\n",
       "    }\n",
       "</style>\n",
       "<table border=\"1\" class=\"dataframe\">\n",
       "  <thead>\n",
       "    <tr style=\"text-align: right;\">\n",
       "      <th></th>\n",
       "      <th>PC1</th>\n",
       "      <th>PC2</th>\n",
       "      <th>PC3</th>\n",
       "      <th>PC4</th>\n",
       "    </tr>\n",
       "  </thead>\n",
       "  <tbody>\n",
       "    <tr>\n",
       "      <th>0</th>\n",
       "      <td>0.064589</td>\n",
       "      <td>0.243835</td>\n",
       "      <td>0.240153</td>\n",
       "      <td>-0.451897</td>\n",
       "    </tr>\n",
       "    <tr>\n",
       "      <th>1</th>\n",
       "      <td>-0.011187</td>\n",
       "      <td>0.451546</td>\n",
       "      <td>0.241732</td>\n",
       "      <td>-0.184349</td>\n",
       "    </tr>\n",
       "    <tr>\n",
       "      <th>2</th>\n",
       "      <td>-0.057170</td>\n",
       "      <td>0.436531</td>\n",
       "      <td>0.173836</td>\n",
       "      <td>0.165075</td>\n",
       "    </tr>\n",
       "    <tr>\n",
       "      <th>3</th>\n",
       "      <td>0.166018</td>\n",
       "      <td>-0.102761</td>\n",
       "      <td>0.419329</td>\n",
       "      <td>0.260583</td>\n",
       "    </tr>\n",
       "    <tr>\n",
       "      <th>4</th>\n",
       "      <td>0.131832</td>\n",
       "      <td>-0.165052</td>\n",
       "      <td>0.446404</td>\n",
       "      <td>0.333046</td>\n",
       "    </tr>\n",
       "    <tr>\n",
       "      <th>5</th>\n",
       "      <td>-0.074106</td>\n",
       "      <td>0.233690</td>\n",
       "      <td>-0.099842</td>\n",
       "      <td>0.696691</td>\n",
       "    </tr>\n",
       "    <tr>\n",
       "      <th>6</th>\n",
       "      <td>0.041197</td>\n",
       "      <td>-0.199364</td>\n",
       "      <td>0.309386</td>\n",
       "      <td>-0.190045</td>\n",
       "    </tr>\n",
       "    <tr>\n",
       "      <th>7</th>\n",
       "      <td>0.309537</td>\n",
       "      <td>0.094220</td>\n",
       "      <td>-0.170886</td>\n",
       "      <td>0.029416</td>\n",
       "    </tr>\n",
       "    <tr>\n",
       "      <th>8</th>\n",
       "      <td>0.303583</td>\n",
       "      <td>0.106141</td>\n",
       "      <td>-0.139977</td>\n",
       "      <td>-0.006381</td>\n",
       "    </tr>\n",
       "    <tr>\n",
       "      <th>9</th>\n",
       "      <td>0.298318</td>\n",
       "      <td>0.057729</td>\n",
       "      <td>-0.188019</td>\n",
       "      <td>0.005649</td>\n",
       "    </tr>\n",
       "  </tbody>\n",
       "</table>\n",
       "</div>"
      ],
      "text/plain": [
       "        PC1       PC2       PC3       PC4\n",
       "0  0.064589  0.243835  0.240153 -0.451897\n",
       "1 -0.011187  0.451546  0.241732 -0.184349\n",
       "2 -0.057170  0.436531  0.173836  0.165075\n",
       "3  0.166018 -0.102761  0.419329  0.260583\n",
       "4  0.131832 -0.165052  0.446404  0.333046\n",
       "5 -0.074106  0.233690 -0.099842  0.696691\n",
       "6  0.041197 -0.199364  0.309386 -0.190045\n",
       "7  0.309537  0.094220 -0.170886  0.029416\n",
       "8  0.303583  0.106141 -0.139977 -0.006381\n",
       "9  0.298318  0.057729 -0.188019  0.005649"
      ]
     },
     "execution_count": 18,
     "metadata": {},
     "output_type": "execute_result"
    }
   ],
   "source": [
    "pcscorecoeff_df = pd.DataFrame(pcscorecoeff, columns = [\"PC1\", \"PC2\", \"PC3\", \"PC4\"])\n",
    "pcscorecoeff_df"
   ]
  },
  {
   "cell_type": "markdown",
   "metadata": {
    "heading_collapsed": true
   },
   "source": [
    "## Varimax rotations"
   ]
  },
  {
   "cell_type": "code",
   "execution_count": 19,
   "metadata": {
    "hidden": true
   },
   "outputs": [],
   "source": [
    "def varimax(loadings, normalize=True, max_iter=500, tolerance=1e-5):\n",
    "        df = loadings.copy()\n",
    "        column_names = df.index.values\n",
    "        index_names = df.columns.values\n",
    "        n_rows, n_cols = df.shape\n",
    "        if n_cols < 2:\n",
    "            return df\n",
    "        X = df.values\n",
    "        if normalize:\n",
    "            normalized_mtx = df.apply(lambda x: np.sqrt(sum(x**2)),\n",
    "                                      axis=1).values\n",
    "            X = (X.T / normalized_mtx).T\n",
    "        rotation_mtx = np.eye(n_cols)\n",
    "\n",
    "        d = 0\n",
    "        for _ in range(max_iter):\n",
    "            old_d = d\n",
    "            basis = np.dot(X, rotation_mtx)\n",
    "            transformed = np.dot(X.T, basis**3 - (1.0 / n_rows) *\n",
    "                                 np.dot(basis, np.diag(np.diag(np.dot(basis.T, basis)))))\n",
    "            U, S, V = np.linalg.svd(transformed)\n",
    "            rotation_mtx = np.dot(U, V)\n",
    "            d = np.sum(S)\n",
    "            if old_d != 0 and d / old_d < 1 + tolerance:\n",
    "                break\n",
    "\n",
    "        X = np.dot(X, rotation_mtx)\n",
    "\n",
    "        if normalize:\n",
    "            X = X.T * normalized_mtx\n",
    "        else:\n",
    "            X = X.T\n",
    "        loadings = pd.DataFrame(X, columns=column_names, index=index_names).T\n",
    "\n",
    "        return loadings, rotation_mtx"
   ]
  },
  {
   "cell_type": "code",
   "execution_count": 20,
   "metadata": {
    "hidden": true
   },
   "outputs": [],
   "source": [
    "loadings = pd.DataFrame(loadings)\n",
    "rloading, rmatrix = varimax(loadings)"
   ]
  },
  {
   "cell_type": "code",
   "execution_count": 21,
   "metadata": {
    "hidden": true
   },
   "outputs": [
    {
     "data": {
      "text/html": [
       "<div>\n",
       "<style scoped>\n",
       "    .dataframe tbody tr th:only-of-type {\n",
       "        vertical-align: middle;\n",
       "    }\n",
       "\n",
       "    .dataframe tbody tr th {\n",
       "        vertical-align: top;\n",
       "    }\n",
       "\n",
       "    .dataframe thead th {\n",
       "        text-align: right;\n",
       "    }\n",
       "</style>\n",
       "<table border=\"1\" class=\"dataframe\">\n",
       "  <thead>\n",
       "    <tr style=\"text-align: right;\">\n",
       "      <th></th>\n",
       "      <th>0</th>\n",
       "      <th>1</th>\n",
       "      <th>2</th>\n",
       "      <th>3</th>\n",
       "    </tr>\n",
       "  </thead>\n",
       "  <tbody>\n",
       "    <tr>\n",
       "      <th>0</th>\n",
       "      <td>0.134</td>\n",
       "      <td>0.630</td>\n",
       "      <td>0.034</td>\n",
       "      <td>-0.336</td>\n",
       "    </tr>\n",
       "    <tr>\n",
       "      <th>1</th>\n",
       "      <td>-0.010</td>\n",
       "      <td>0.833</td>\n",
       "      <td>-0.032</td>\n",
       "      <td>0.085</td>\n",
       "    </tr>\n",
       "    <tr>\n",
       "      <th>2</th>\n",
       "      <td>-0.107</td>\n",
       "      <td>0.659</td>\n",
       "      <td>-0.004</td>\n",
       "      <td>0.430</td>\n",
       "    </tr>\n",
       "    <tr>\n",
       "      <th>3</th>\n",
       "      <td>0.217</td>\n",
       "      <td>0.047</td>\n",
       "      <td>0.800</td>\n",
       "      <td>-0.043</td>\n",
       "    </tr>\n",
       "    <tr>\n",
       "      <th>4</th>\n",
       "      <td>0.092</td>\n",
       "      <td>-0.045</td>\n",
       "      <td>0.854</td>\n",
       "      <td>-0.013</td>\n",
       "    </tr>\n",
       "    <tr>\n",
       "      <th>5</th>\n",
       "      <td>-0.082</td>\n",
       "      <td>0.039</td>\n",
       "      <td>-0.011</td>\n",
       "      <td>0.852</td>\n",
       "    </tr>\n",
       "    <tr>\n",
       "      <th>6</th>\n",
       "      <td>-0.099</td>\n",
       "      <td>-0.016</td>\n",
       "      <td>0.404</td>\n",
       "      <td>-0.420</td>\n",
       "    </tr>\n",
       "    <tr>\n",
       "      <th>7</th>\n",
       "      <td>0.957</td>\n",
       "      <td>0.013</td>\n",
       "      <td>0.106</td>\n",
       "      <td>-0.010</td>\n",
       "    </tr>\n",
       "    <tr>\n",
       "      <th>8</th>\n",
       "      <td>0.930</td>\n",
       "      <td>0.060</td>\n",
       "      <td>0.114</td>\n",
       "      <td>-0.039</td>\n",
       "    </tr>\n",
       "    <tr>\n",
       "      <th>9</th>\n",
       "      <td>0.924</td>\n",
       "      <td>-0.041</td>\n",
       "      <td>0.082</td>\n",
       "      <td>-0.046</td>\n",
       "    </tr>\n",
       "  </tbody>\n",
       "</table>\n",
       "</div>"
      ],
      "text/plain": [
       "       0      1      2      3\n",
       "0  0.134  0.630  0.034 -0.336\n",
       "1 -0.010  0.833 -0.032  0.085\n",
       "2 -0.107  0.659 -0.004  0.430\n",
       "3  0.217  0.047  0.800 -0.043\n",
       "4  0.092 -0.045  0.854 -0.013\n",
       "5 -0.082  0.039 -0.011  0.852\n",
       "6 -0.099 -0.016  0.404 -0.420\n",
       "7  0.957  0.013  0.106 -0.010\n",
       "8  0.930  0.060  0.114 -0.039\n",
       "9  0.924 -0.041  0.082 -0.046"
      ]
     },
     "execution_count": 21,
     "metadata": {},
     "output_type": "execute_result"
    }
   ],
   "source": [
    "rloading.round(3)"
   ]
  },
  {
   "cell_type": "code",
   "execution_count": 22,
   "metadata": {
    "hidden": true
   },
   "outputs": [
    {
     "data": {
      "text/plain": [
       "array([[ 0.13384037,  0.63040778,  0.03405129, -0.3359507 ],\n",
       "       [-0.01027396,  0.83269769, -0.03150576,  0.08523255],\n",
       "       [-0.10731348,  0.6590716 , -0.00401791,  0.42977411],\n",
       "       [ 0.21729645,  0.04660533,  0.8003546 , -0.04313797],\n",
       "       [ 0.09169375, -0.0445045 ,  0.85363211, -0.01302354],\n",
       "       [-0.08216113,  0.03886093, -0.01107444,  0.85214309],\n",
       "       [-0.09940703, -0.01623553,  0.40376326, -0.4202732 ],\n",
       "       [ 0.9572769 ,  0.01260054,  0.10605266, -0.00953912],\n",
       "       [ 0.92959479,  0.05992521,  0.11372703, -0.0393751 ],\n",
       "       [ 0.92383903, -0.04112978,  0.0823622 , -0.04577258]])"
      ]
     },
     "execution_count": 22,
     "metadata": {},
     "output_type": "execute_result"
    }
   ],
   "source": [
    "rloadnpmat = rloading.as_matrix()\n",
    "rloadingflip = flip_sign(rloadnpmat)\n",
    "rloadingflip"
   ]
  },
  {
   "cell_type": "code",
   "execution_count": 23,
   "metadata": {
    "hidden": true
   },
   "outputs": [],
   "source": [
    "def matx(mat):\n",
    "    rpe = mat ** 2\n",
    "    print(rpe)\n",
    "    rpesum = np.sum(rpe, axis = 0)\n",
    "    print(rpesum)\n",
    "    ind = rpesum.argsort()\n",
    "    print(ind)\n",
    "    rr = mat[:, ind]\n",
    "    return rr"
   ]
  },
  {
   "cell_type": "code",
   "execution_count": 24,
   "metadata": {
    "hidden": true
   },
   "outputs": [
    {
     "name": "stdout",
     "output_type": "stream",
     "text": [
      "[[1.79132440e-02 3.97413974e-01 1.15949064e-03 1.12862872e-01]\n",
      " [1.05554253e-04 6.93385447e-01 9.92612616e-04 7.26458726e-03]\n",
      " [1.15161828e-02 4.34375375e-01 1.61436318e-05 1.84705788e-01]\n",
      " [4.72177472e-02 2.17205683e-03 6.40567492e-01 1.86088426e-03]\n",
      " [8.40774359e-03 1.98065054e-03 7.28687779e-01 1.69612515e-04]\n",
      " [6.75045111e-03 1.51017224e-03 1.22643274e-04 7.26147846e-01]\n",
      " [9.88175678e-03 2.63592438e-04 1.63024772e-01 1.76629566e-01]\n",
      " [9.16379058e-01 1.58773677e-04 1.12471660e-02 9.09948851e-05]\n",
      " [8.64146479e-01 3.59103040e-03 1.29338365e-02 1.55039823e-03]\n",
      " [8.53478561e-01 1.69165845e-03 6.78353245e-03 2.09512882e-03]]\n",
      "[2.73579678 1.53654273 1.56553547 1.21337768]\n",
      "[3 1 2 0]\n"
     ]
    },
    {
     "data": {
      "text/html": [
       "<div>\n",
       "<style scoped>\n",
       "    .dataframe tbody tr th:only-of-type {\n",
       "        vertical-align: middle;\n",
       "    }\n",
       "\n",
       "    .dataframe tbody tr th {\n",
       "        vertical-align: top;\n",
       "    }\n",
       "\n",
       "    .dataframe thead th {\n",
       "        text-align: right;\n",
       "    }\n",
       "</style>\n",
       "<table border=\"1\" class=\"dataframe\">\n",
       "  <thead>\n",
       "    <tr style=\"text-align: right;\">\n",
       "      <th></th>\n",
       "      <th>0</th>\n",
       "      <th>1</th>\n",
       "      <th>2</th>\n",
       "      <th>3</th>\n",
       "    </tr>\n",
       "  </thead>\n",
       "  <tbody>\n",
       "    <tr>\n",
       "      <th>0</th>\n",
       "      <td>-0.335951</td>\n",
       "      <td>0.630408</td>\n",
       "      <td>0.034051</td>\n",
       "      <td>0.133840</td>\n",
       "    </tr>\n",
       "    <tr>\n",
       "      <th>1</th>\n",
       "      <td>0.085233</td>\n",
       "      <td>0.832698</td>\n",
       "      <td>-0.031506</td>\n",
       "      <td>-0.010274</td>\n",
       "    </tr>\n",
       "    <tr>\n",
       "      <th>2</th>\n",
       "      <td>0.429774</td>\n",
       "      <td>0.659072</td>\n",
       "      <td>-0.004018</td>\n",
       "      <td>-0.107313</td>\n",
       "    </tr>\n",
       "    <tr>\n",
       "      <th>3</th>\n",
       "      <td>-0.043138</td>\n",
       "      <td>0.046605</td>\n",
       "      <td>0.800355</td>\n",
       "      <td>0.217296</td>\n",
       "    </tr>\n",
       "    <tr>\n",
       "      <th>4</th>\n",
       "      <td>-0.013024</td>\n",
       "      <td>-0.044505</td>\n",
       "      <td>0.853632</td>\n",
       "      <td>0.091694</td>\n",
       "    </tr>\n",
       "    <tr>\n",
       "      <th>5</th>\n",
       "      <td>0.852143</td>\n",
       "      <td>0.038861</td>\n",
       "      <td>-0.011074</td>\n",
       "      <td>-0.082161</td>\n",
       "    </tr>\n",
       "    <tr>\n",
       "      <th>6</th>\n",
       "      <td>-0.420273</td>\n",
       "      <td>-0.016236</td>\n",
       "      <td>0.403763</td>\n",
       "      <td>-0.099407</td>\n",
       "    </tr>\n",
       "    <tr>\n",
       "      <th>7</th>\n",
       "      <td>-0.009539</td>\n",
       "      <td>0.012601</td>\n",
       "      <td>0.106053</td>\n",
       "      <td>0.957277</td>\n",
       "    </tr>\n",
       "    <tr>\n",
       "      <th>8</th>\n",
       "      <td>-0.039375</td>\n",
       "      <td>0.059925</td>\n",
       "      <td>0.113727</td>\n",
       "      <td>0.929595</td>\n",
       "    </tr>\n",
       "    <tr>\n",
       "      <th>9</th>\n",
       "      <td>-0.045773</td>\n",
       "      <td>-0.041130</td>\n",
       "      <td>0.082362</td>\n",
       "      <td>0.923839</td>\n",
       "    </tr>\n",
       "  </tbody>\n",
       "</table>\n",
       "</div>"
      ],
      "text/plain": [
       "          0         1         2         3\n",
       "0 -0.335951  0.630408  0.034051  0.133840\n",
       "1  0.085233  0.832698 -0.031506 -0.010274\n",
       "2  0.429774  0.659072 -0.004018 -0.107313\n",
       "3 -0.043138  0.046605  0.800355  0.217296\n",
       "4 -0.013024 -0.044505  0.853632  0.091694\n",
       "5  0.852143  0.038861 -0.011074 -0.082161\n",
       "6 -0.420273 -0.016236  0.403763 -0.099407\n",
       "7 -0.009539  0.012601  0.106053  0.957277\n",
       "8 -0.039375  0.059925  0.113727  0.929595\n",
       "9 -0.045773 -0.041130  0.082362  0.923839"
      ]
     },
     "execution_count": 24,
     "metadata": {},
     "output_type": "execute_result"
    }
   ],
   "source": [
    "varmaxrotmat = pd.DataFrame(matx(rloadingflip))\n",
    "varmaxrotmat"
   ]
  },
  {
   "cell_type": "code",
   "execution_count": 29,
   "metadata": {
    "hidden": true
   },
   "outputs": [],
   "source": [
    "from numpy import eye, asarray, dot, sum, diag\n",
    "from numpy.linalg import svd\n",
    "def varimaX(Phi, gamma = 1.0, q = 20, tol = 1e-6):\n",
    "    p,k = Phi.shape\n",
    "    R = eye(k)\n",
    "    d=0\n",
    "    for i in xrange(q):\n",
    "        d_old = d\n",
    "        Lambda = dot(Phi, R)\n",
    "        u,s,vh = svd(dot(Phi.T,asarray(Lambda)**3 - (gamma/p) * dot(Lambda, diag(diag(dot(Lambda.T,Lambda))))))\n",
    "        R = dot(u,vh)\n",
    "        d = sum(s)\n",
    "        if d_old!=0 and d/d_old < 1 + tol: break\n",
    "    return dot(Phi, R)"
   ]
  },
  {
   "cell_type": "code",
   "execution_count": 30,
   "metadata": {
    "hidden": true
   },
   "outputs": [
    {
     "data": {
      "text/html": [
       "<div>\n",
       "<style scoped>\n",
       "    .dataframe tbody tr th:only-of-type {\n",
       "        vertical-align: middle;\n",
       "    }\n",
       "\n",
       "    .dataframe tbody tr th {\n",
       "        vertical-align: top;\n",
       "    }\n",
       "\n",
       "    .dataframe thead th {\n",
       "        text-align: right;\n",
       "    }\n",
       "</style>\n",
       "<table border=\"1\" class=\"dataframe\">\n",
       "  <thead>\n",
       "    <tr style=\"text-align: right;\">\n",
       "      <th></th>\n",
       "      <th>0</th>\n",
       "      <th>1</th>\n",
       "      <th>2</th>\n",
       "      <th>3</th>\n",
       "    </tr>\n",
       "  </thead>\n",
       "  <tbody>\n",
       "    <tr>\n",
       "      <th>0</th>\n",
       "      <td>0.138466</td>\n",
       "      <td>0.613868</td>\n",
       "      <td>0.036649</td>\n",
       "      <td>-0.363317</td>\n",
       "    </tr>\n",
       "    <tr>\n",
       "      <th>1</th>\n",
       "      <td>-0.002278</td>\n",
       "      <td>0.835726</td>\n",
       "      <td>-0.030337</td>\n",
       "      <td>0.048831</td>\n",
       "    </tr>\n",
       "    <tr>\n",
       "      <th>2</th>\n",
       "      <td>-0.098787</td>\n",
       "      <td>0.678087</td>\n",
       "      <td>-0.005010</td>\n",
       "      <td>0.401282</td>\n",
       "    </tr>\n",
       "    <tr>\n",
       "      <th>3</th>\n",
       "      <td>0.227428</td>\n",
       "      <td>0.041075</td>\n",
       "      <td>0.798040</td>\n",
       "      <td>-0.039238</td>\n",
       "    </tr>\n",
       "    <tr>\n",
       "      <th>4</th>\n",
       "      <td>0.101796</td>\n",
       "      <td>-0.047519</td>\n",
       "      <td>0.852413</td>\n",
       "      <td>-0.004112</td>\n",
       "    </tr>\n",
       "    <tr>\n",
       "      <th>5</th>\n",
       "      <td>-0.077390</td>\n",
       "      <td>0.076552</td>\n",
       "      <td>-0.017367</td>\n",
       "      <td>0.849929</td>\n",
       "    </tr>\n",
       "    <tr>\n",
       "      <th>6</th>\n",
       "      <td>-0.096763</td>\n",
       "      <td>-0.034214</td>\n",
       "      <td>0.408562</td>\n",
       "      <td>-0.415143</td>\n",
       "    </tr>\n",
       "    <tr>\n",
       "      <th>7</th>\n",
       "      <td>0.958533</td>\n",
       "      <td>0.002666</td>\n",
       "      <td>0.094278</td>\n",
       "      <td>-0.013943</td>\n",
       "    </tr>\n",
       "    <tr>\n",
       "      <th>8</th>\n",
       "      <td>0.931243</td>\n",
       "      <td>0.048906</td>\n",
       "      <td>0.102655</td>\n",
       "      <td>-0.045595</td>\n",
       "    </tr>\n",
       "    <tr>\n",
       "      <th>9</th>\n",
       "      <td>0.924101</td>\n",
       "      <td>-0.052211</td>\n",
       "      <td>0.071205</td>\n",
       "      <td>-0.047850</td>\n",
       "    </tr>\n",
       "  </tbody>\n",
       "</table>\n",
       "</div>"
      ],
      "text/plain": [
       "          0         1         2         3\n",
       "0  0.138466  0.613868  0.036649 -0.363317\n",
       "1 -0.002278  0.835726 -0.030337  0.048831\n",
       "2 -0.098787  0.678087 -0.005010  0.401282\n",
       "3  0.227428  0.041075  0.798040 -0.039238\n",
       "4  0.101796 -0.047519  0.852413 -0.004112\n",
       "5 -0.077390  0.076552 -0.017367  0.849929\n",
       "6 -0.096763 -0.034214  0.408562 -0.415143\n",
       "7  0.958533  0.002666  0.094278 -0.013943\n",
       "8  0.931243  0.048906  0.102655 -0.045595\n",
       "9  0.924101 -0.052211  0.071205 -0.047850"
      ]
     },
     "execution_count": 30,
     "metadata": {},
     "output_type": "execute_result"
    }
   ],
   "source": [
    "pd.DataFrame(varimaX(rloadingflip))"
   ]
  },
  {
   "cell_type": "markdown",
   "metadata": {},
   "source": [
    "## Remaining"
   ]
  },
  {
   "cell_type": "code",
   "execution_count": null,
   "metadata": {},
   "outputs": [],
   "source": [
    "def indicator_weights(loadings, eigenvalues):\n",
    "    "
   ]
  }
 ],
 "metadata": {
  "kernelspec": {
   "display_name": "Python 3",
   "language": "python",
   "name": "python3"
  },
  "language_info": {
   "codemirror_mode": {
    "name": "ipython",
    "version": 3
   },
   "file_extension": ".py",
   "mimetype": "text/x-python",
   "name": "python",
   "nbconvert_exporter": "python",
   "pygments_lexer": "ipython3",
   "version": "3.7.1"
  }
 },
 "nbformat": 4,
 "nbformat_minor": 2
}
